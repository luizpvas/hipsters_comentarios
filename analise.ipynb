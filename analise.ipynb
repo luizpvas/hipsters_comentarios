{
 "cells": [
  {
   "cell_type": "markdown",
   "metadata": {},
   "source": [
    "# Análise de comentários do hipsters.tech\n",
    "\n",
    "Esse é um projeto quase pessoal para mim. Eu sou muito fã do hipsters, e recomendo fortemente que todos escutem pelo menos um episódio. Um dos meus favoritos é sobre [Testes A/B](https://hipsters.tech/testes-ab-hipsters-59/).\n",
    "\n",
    "Vamos começar com uma descrição geral dos dados. Eu implementei um crawler com a biblioteca Puppeteer para extrair algumas informações sobre os episódios (título, data, participantes e tags) e os comentários. O Hipsters usa Disqus no sistema de comentários, e até onde sei eles não oferecem uma API para esse tipo de extrção. O [código do crawler](https://github.com/luizpvas/hipsters_comentarios/blob/master/crawler.js) está no repositório desse projeto, se você tiver curiosidade."
   ]
  },
  {
   "cell_type": "code",
   "execution_count": 20,
   "metadata": {
    "tags": [
     "hide_input"
    ]
   },
   "outputs": [],
   "source": [
    "import json\n",
    "import pandas as pd\n",
    "import matplotlib.pyplot as plt\n",
    "import numpy as np\n",
    "import plotly\n",
    "import plotly.express as px\n",
    "import plotly.graph_objects as go\n",
    "import spacy\n",
    "import gensim\n",
    "from plotly.subplots import make_subplots\n",
    "\n",
    "nlp = spacy.load('pt_core_news_sm')\n",
    "\n",
    "files = !ls data/\n",
    "\n",
    "comments = []\n",
    "episodes = []\n",
    "\n",
    "for page_id in files:\n",
    "    file = !cat data/{page_id}\n",
    "    episode = json.loads(file[0])\n",
    "    episodes.append(episode)\n",
    "    date_parts = episode['releaseDate'].split('/')\n",
    "    release_date = date_parts[2] + '-' + date_parts[1] + '-' + date_parts[0]\n",
    "    for comment in episode['comments']:\n",
    "        comments.append({\n",
    "            'titulo': episode['title'],\n",
    "            'data': release_date,\n",
    "            'tags': episode['tags'],\n",
    "            'participantes': episode['people'],\n",
    "            'autor_comentario': comment['author'],\n",
    "            'comentario': comment['comment']\n",
    "        })\n",
    "\n",
    "df = pd.DataFrame(comments)"
   ]
  },
  {
   "cell_type": "markdown",
   "metadata": {},
   "source": [
    "# Visão geral\n",
    "\n",
    "Antes de entrar nos detalhes, é sempre uma boa prática ter uma visão geral dos dados que estamos trabalhando. Para começar, vamos dar uma olhada nos totais e médias básicas."
   ]
  },
  {
   "cell_type": "code",
   "execution_count": 21,
   "metadata": {},
   "outputs": [
    {
     "name": "stdout",
     "output_type": "stream",
     "text": [
      "Qtde. de episódios: 163\n",
      "Qtde. total de comentários: 4392\n",
      "Média de comentários por episódio: 26.94478527607362\n",
      "Qtde. de episódios sem comentários: 5\n",
      "Maior qtde. de comentários em um episódio: 147\n"
     ]
    }
   ],
   "source": [
    "qtde_episodios = df['titulo'].unique().size\n",
    "qtde_comentarios = df.shape[0]\n",
    "qtde_episodios_sem_comentarios = len(episodes) - qtde_episodios\n",
    "\n",
    "# groupby(...).size() retorna um DataFrame com o valor agrupado e o total por grupo.\n",
    "episodio_mais_comentarios = df.groupby('titulo').size().sort_values(ascending=False)[0]\n",
    "\n",
    "print('Qtde. de episódios: {}'.format(qtde_episodios))\n",
    "print('Qtde. total de comentários: {}'.format(qtde_comentarios))\n",
    "print('Média de comentários por episódio: {}'.format(qtde_comentarios / qtde_episodios))\n",
    "print('Qtde. de episódios sem comentários: {}'.format(qtde_episodios_sem_comentarios))\n",
    "print('Maior qtde. de comentários em um episódio: {}'.format(episodio_mais_comentarios))"
   ]
  },
  {
   "cell_type": "markdown",
   "metadata": {},
   "source": [
    "Uma coisa que me chamou atenção é a didstância entre a média (~ 27) e o episódio com mais comentários (147).\n",
    "\n",
    "Média é uma coisa perigosa: se metade dos alunos tirou 0 e a outra metade 10, a média é 5, mas não representa ninguém.\n",
    "\n",
    "Vamos dar uma olhada no **histograma** da qtde. de comentários por episódio."
   ]
  },
  {
   "cell_type": "code",
   "execution_count": 22,
   "metadata": {},
   "outputs": [
    {
     "data": {
      "application/vnd.plotly.v1+json": {
       "config": {
        "plotlyServerURL": "https://plot.ly"
       },
       "data": [
        {
         "alignmentgroup": "True",
         "bingroup": "x",
         "hoverlabel": {
          "namelength": 0
         },
         "hovertemplate": "qtde_de_comentarios=%{x}<br>count=%{y}",
         "legendgroup": "",
         "marker": {
          "color": "#636efa"
         },
         "name": "",
         "nbinsx": 30,
         "offsetgroup": "",
         "orientation": "v",
         "showlegend": false,
         "type": "histogram",
         "x": [
          33,
          53,
          20,
          15,
          29,
          11,
          34,
          20,
          36,
          10,
          7,
          14,
          34,
          13,
          25,
          6,
          35,
          37,
          20,
          101,
          32,
          11,
          18,
          8,
          20,
          3,
          9,
          18,
          28,
          32,
          1,
          18,
          31,
          13,
          14,
          7,
          5,
          42,
          53,
          18,
          3,
          8,
          36,
          1,
          23,
          42,
          57,
          6,
          19,
          8,
          6,
          20,
          72,
          35,
          47,
          16,
          40,
          30,
          2,
          28,
          30,
          33,
          39,
          16,
          35,
          40,
          34,
          14,
          12,
          32,
          17,
          36,
          16,
          42,
          8,
          16,
          16,
          15,
          31,
          76,
          35,
          10,
          3,
          26,
          2,
          88,
          17,
          25,
          26,
          15,
          69,
          27,
          9,
          5,
          58,
          39,
          35,
          32,
          31,
          24,
          18,
          35,
          35,
          18,
          107,
          38,
          20,
          8,
          21,
          43,
          54,
          2,
          9,
          34,
          2,
          15,
          55,
          38,
          14,
          35,
          7,
          22,
          56,
          17,
          20,
          9,
          8,
          12,
          20,
          24,
          14,
          16,
          25,
          34,
          29,
          10,
          7,
          33,
          54,
          20,
          14,
          7,
          147,
          21,
          14,
          92,
          78,
          29,
          59,
          15,
          19,
          36,
          21,
          36,
          27,
          17,
          12,
          22,
          15,
          12,
          5,
          44,
          45
         ],
         "xaxis": "x",
         "yaxis": "y"
        }
       ],
       "layout": {
        "autosize": true,
        "barmode": "relative",
        "legend": {
         "tracegroupgap": 0
        },
        "margin": {
         "t": 60
        },
        "template": {
         "data": {
          "bar": [
           {
            "error_x": {
             "color": "#2a3f5f"
            },
            "error_y": {
             "color": "#2a3f5f"
            },
            "marker": {
             "line": {
              "color": "#E5ECF6",
              "width": 0.5
             }
            },
            "type": "bar"
           }
          ],
          "barpolar": [
           {
            "marker": {
             "line": {
              "color": "#E5ECF6",
              "width": 0.5
             }
            },
            "type": "barpolar"
           }
          ],
          "carpet": [
           {
            "aaxis": {
             "endlinecolor": "#2a3f5f",
             "gridcolor": "white",
             "linecolor": "white",
             "minorgridcolor": "white",
             "startlinecolor": "#2a3f5f"
            },
            "baxis": {
             "endlinecolor": "#2a3f5f",
             "gridcolor": "white",
             "linecolor": "white",
             "minorgridcolor": "white",
             "startlinecolor": "#2a3f5f"
            },
            "type": "carpet"
           }
          ],
          "choropleth": [
           {
            "colorbar": {
             "outlinewidth": 0,
             "ticks": ""
            },
            "type": "choropleth"
           }
          ],
          "contour": [
           {
            "colorbar": {
             "outlinewidth": 0,
             "ticks": ""
            },
            "colorscale": [
             [
              0,
              "#0d0887"
             ],
             [
              0.1111111111111111,
              "#46039f"
             ],
             [
              0.2222222222222222,
              "#7201a8"
             ],
             [
              0.3333333333333333,
              "#9c179e"
             ],
             [
              0.4444444444444444,
              "#bd3786"
             ],
             [
              0.5555555555555556,
              "#d8576b"
             ],
             [
              0.6666666666666666,
              "#ed7953"
             ],
             [
              0.7777777777777778,
              "#fb9f3a"
             ],
             [
              0.8888888888888888,
              "#fdca26"
             ],
             [
              1,
              "#f0f921"
             ]
            ],
            "type": "contour"
           }
          ],
          "contourcarpet": [
           {
            "colorbar": {
             "outlinewidth": 0,
             "ticks": ""
            },
            "type": "contourcarpet"
           }
          ],
          "heatmap": [
           {
            "colorbar": {
             "outlinewidth": 0,
             "ticks": ""
            },
            "colorscale": [
             [
              0,
              "#0d0887"
             ],
             [
              0.1111111111111111,
              "#46039f"
             ],
             [
              0.2222222222222222,
              "#7201a8"
             ],
             [
              0.3333333333333333,
              "#9c179e"
             ],
             [
              0.4444444444444444,
              "#bd3786"
             ],
             [
              0.5555555555555556,
              "#d8576b"
             ],
             [
              0.6666666666666666,
              "#ed7953"
             ],
             [
              0.7777777777777778,
              "#fb9f3a"
             ],
             [
              0.8888888888888888,
              "#fdca26"
             ],
             [
              1,
              "#f0f921"
             ]
            ],
            "type": "heatmap"
           }
          ],
          "heatmapgl": [
           {
            "colorbar": {
             "outlinewidth": 0,
             "ticks": ""
            },
            "colorscale": [
             [
              0,
              "#0d0887"
             ],
             [
              0.1111111111111111,
              "#46039f"
             ],
             [
              0.2222222222222222,
              "#7201a8"
             ],
             [
              0.3333333333333333,
              "#9c179e"
             ],
             [
              0.4444444444444444,
              "#bd3786"
             ],
             [
              0.5555555555555556,
              "#d8576b"
             ],
             [
              0.6666666666666666,
              "#ed7953"
             ],
             [
              0.7777777777777778,
              "#fb9f3a"
             ],
             [
              0.8888888888888888,
              "#fdca26"
             ],
             [
              1,
              "#f0f921"
             ]
            ],
            "type": "heatmapgl"
           }
          ],
          "histogram": [
           {
            "marker": {
             "colorbar": {
              "outlinewidth": 0,
              "ticks": ""
             }
            },
            "type": "histogram"
           }
          ],
          "histogram2d": [
           {
            "colorbar": {
             "outlinewidth": 0,
             "ticks": ""
            },
            "colorscale": [
             [
              0,
              "#0d0887"
             ],
             [
              0.1111111111111111,
              "#46039f"
             ],
             [
              0.2222222222222222,
              "#7201a8"
             ],
             [
              0.3333333333333333,
              "#9c179e"
             ],
             [
              0.4444444444444444,
              "#bd3786"
             ],
             [
              0.5555555555555556,
              "#d8576b"
             ],
             [
              0.6666666666666666,
              "#ed7953"
             ],
             [
              0.7777777777777778,
              "#fb9f3a"
             ],
             [
              0.8888888888888888,
              "#fdca26"
             ],
             [
              1,
              "#f0f921"
             ]
            ],
            "type": "histogram2d"
           }
          ],
          "histogram2dcontour": [
           {
            "colorbar": {
             "outlinewidth": 0,
             "ticks": ""
            },
            "colorscale": [
             [
              0,
              "#0d0887"
             ],
             [
              0.1111111111111111,
              "#46039f"
             ],
             [
              0.2222222222222222,
              "#7201a8"
             ],
             [
              0.3333333333333333,
              "#9c179e"
             ],
             [
              0.4444444444444444,
              "#bd3786"
             ],
             [
              0.5555555555555556,
              "#d8576b"
             ],
             [
              0.6666666666666666,
              "#ed7953"
             ],
             [
              0.7777777777777778,
              "#fb9f3a"
             ],
             [
              0.8888888888888888,
              "#fdca26"
             ],
             [
              1,
              "#f0f921"
             ]
            ],
            "type": "histogram2dcontour"
           }
          ],
          "mesh3d": [
           {
            "colorbar": {
             "outlinewidth": 0,
             "ticks": ""
            },
            "type": "mesh3d"
           }
          ],
          "parcoords": [
           {
            "line": {
             "colorbar": {
              "outlinewidth": 0,
              "ticks": ""
             }
            },
            "type": "parcoords"
           }
          ],
          "scatter": [
           {
            "marker": {
             "colorbar": {
              "outlinewidth": 0,
              "ticks": ""
             }
            },
            "type": "scatter"
           }
          ],
          "scatter3d": [
           {
            "line": {
             "colorbar": {
              "outlinewidth": 0,
              "ticks": ""
             }
            },
            "marker": {
             "colorbar": {
              "outlinewidth": 0,
              "ticks": ""
             }
            },
            "type": "scatter3d"
           }
          ],
          "scattercarpet": [
           {
            "marker": {
             "colorbar": {
              "outlinewidth": 0,
              "ticks": ""
             }
            },
            "type": "scattercarpet"
           }
          ],
          "scattergeo": [
           {
            "marker": {
             "colorbar": {
              "outlinewidth": 0,
              "ticks": ""
             }
            },
            "type": "scattergeo"
           }
          ],
          "scattergl": [
           {
            "marker": {
             "colorbar": {
              "outlinewidth": 0,
              "ticks": ""
             }
            },
            "type": "scattergl"
           }
          ],
          "scattermapbox": [
           {
            "marker": {
             "colorbar": {
              "outlinewidth": 0,
              "ticks": ""
             }
            },
            "type": "scattermapbox"
           }
          ],
          "scatterpolar": [
           {
            "marker": {
             "colorbar": {
              "outlinewidth": 0,
              "ticks": ""
             }
            },
            "type": "scatterpolar"
           }
          ],
          "scatterpolargl": [
           {
            "marker": {
             "colorbar": {
              "outlinewidth": 0,
              "ticks": ""
             }
            },
            "type": "scatterpolargl"
           }
          ],
          "scatterternary": [
           {
            "marker": {
             "colorbar": {
              "outlinewidth": 0,
              "ticks": ""
             }
            },
            "type": "scatterternary"
           }
          ],
          "surface": [
           {
            "colorbar": {
             "outlinewidth": 0,
             "ticks": ""
            },
            "colorscale": [
             [
              0,
              "#0d0887"
             ],
             [
              0.1111111111111111,
              "#46039f"
             ],
             [
              0.2222222222222222,
              "#7201a8"
             ],
             [
              0.3333333333333333,
              "#9c179e"
             ],
             [
              0.4444444444444444,
              "#bd3786"
             ],
             [
              0.5555555555555556,
              "#d8576b"
             ],
             [
              0.6666666666666666,
              "#ed7953"
             ],
             [
              0.7777777777777778,
              "#fb9f3a"
             ],
             [
              0.8888888888888888,
              "#fdca26"
             ],
             [
              1,
              "#f0f921"
             ]
            ],
            "type": "surface"
           }
          ],
          "table": [
           {
            "cells": {
             "fill": {
              "color": "#EBF0F8"
             },
             "line": {
              "color": "white"
             }
            },
            "header": {
             "fill": {
              "color": "#C8D4E3"
             },
             "line": {
              "color": "white"
             }
            },
            "type": "table"
           }
          ]
         },
         "layout": {
          "annotationdefaults": {
           "arrowcolor": "#2a3f5f",
           "arrowhead": 0,
           "arrowwidth": 1
          },
          "colorscale": {
           "diverging": [
            [
             0,
             "#8e0152"
            ],
            [
             0.1,
             "#c51b7d"
            ],
            [
             0.2,
             "#de77ae"
            ],
            [
             0.3,
             "#f1b6da"
            ],
            [
             0.4,
             "#fde0ef"
            ],
            [
             0.5,
             "#f7f7f7"
            ],
            [
             0.6,
             "#e6f5d0"
            ],
            [
             0.7,
             "#b8e186"
            ],
            [
             0.8,
             "#7fbc41"
            ],
            [
             0.9,
             "#4d9221"
            ],
            [
             1,
             "#276419"
            ]
           ],
           "sequential": [
            [
             0,
             "#0d0887"
            ],
            [
             0.1111111111111111,
             "#46039f"
            ],
            [
             0.2222222222222222,
             "#7201a8"
            ],
            [
             0.3333333333333333,
             "#9c179e"
            ],
            [
             0.4444444444444444,
             "#bd3786"
            ],
            [
             0.5555555555555556,
             "#d8576b"
            ],
            [
             0.6666666666666666,
             "#ed7953"
            ],
            [
             0.7777777777777778,
             "#fb9f3a"
            ],
            [
             0.8888888888888888,
             "#fdca26"
            ],
            [
             1,
             "#f0f921"
            ]
           ],
           "sequentialminus": [
            [
             0,
             "#0d0887"
            ],
            [
             0.1111111111111111,
             "#46039f"
            ],
            [
             0.2222222222222222,
             "#7201a8"
            ],
            [
             0.3333333333333333,
             "#9c179e"
            ],
            [
             0.4444444444444444,
             "#bd3786"
            ],
            [
             0.5555555555555556,
             "#d8576b"
            ],
            [
             0.6666666666666666,
             "#ed7953"
            ],
            [
             0.7777777777777778,
             "#fb9f3a"
            ],
            [
             0.8888888888888888,
             "#fdca26"
            ],
            [
             1,
             "#f0f921"
            ]
           ]
          },
          "colorway": [
           "#636efa",
           "#EF553B",
           "#00cc96",
           "#ab63fa",
           "#FFA15A",
           "#19d3f3",
           "#FF6692",
           "#B6E880",
           "#FF97FF",
           "#FECB52"
          ],
          "font": {
           "color": "#2a3f5f"
          },
          "geo": {
           "bgcolor": "white",
           "lakecolor": "white",
           "landcolor": "#E5ECF6",
           "showlakes": true,
           "showland": true,
           "subunitcolor": "white"
          },
          "hoverlabel": {
           "align": "left"
          },
          "hovermode": "closest",
          "mapbox": {
           "style": "light"
          },
          "paper_bgcolor": "white",
          "plot_bgcolor": "#E5ECF6",
          "polar": {
           "angularaxis": {
            "gridcolor": "white",
            "linecolor": "white",
            "ticks": ""
           },
           "bgcolor": "#E5ECF6",
           "radialaxis": {
            "gridcolor": "white",
            "linecolor": "white",
            "ticks": ""
           }
          },
          "scene": {
           "xaxis": {
            "backgroundcolor": "#E5ECF6",
            "gridcolor": "white",
            "gridwidth": 2,
            "linecolor": "white",
            "showbackground": true,
            "ticks": "",
            "zerolinecolor": "white"
           },
           "yaxis": {
            "backgroundcolor": "#E5ECF6",
            "gridcolor": "white",
            "gridwidth": 2,
            "linecolor": "white",
            "showbackground": true,
            "ticks": "",
            "zerolinecolor": "white"
           },
           "zaxis": {
            "backgroundcolor": "#E5ECF6",
            "gridcolor": "white",
            "gridwidth": 2,
            "linecolor": "white",
            "showbackground": true,
            "ticks": "",
            "zerolinecolor": "white"
           }
          },
          "shapedefaults": {
           "line": {
            "color": "#2a3f5f"
           }
          },
          "ternary": {
           "aaxis": {
            "gridcolor": "white",
            "linecolor": "white",
            "ticks": ""
           },
           "baxis": {
            "gridcolor": "white",
            "linecolor": "white",
            "ticks": ""
           },
           "bgcolor": "#E5ECF6",
           "caxis": {
            "gridcolor": "white",
            "linecolor": "white",
            "ticks": ""
           }
          },
          "title": {
           "x": 0.05
          },
          "xaxis": {
           "automargin": true,
           "gridcolor": "white",
           "linecolor": "white",
           "ticks": "",
           "zerolinecolor": "white",
           "zerolinewidth": 2
          },
          "yaxis": {
           "automargin": true,
           "gridcolor": "white",
           "linecolor": "white",
           "ticks": "",
           "zerolinecolor": "white",
           "zerolinewidth": 2
          }
         }
        },
        "xaxis": {
         "anchor": "y",
         "autorange": true,
         "domain": [
          0,
          0.98
         ],
         "range": [
          -0.5,
          149.5
         ],
         "title": {
          "text": "qtde_de_comentarios"
         },
         "type": "linear"
        },
        "yaxis": {
         "anchor": "x",
         "autorange": true,
         "domain": [
          0,
          1
         ],
         "range": [
          0,
          25.263157894736842
         ],
         "title": {
          "text": "count"
         }
        }
       }
      },
      "image/png": "[encoded data removed]",
      "text/html": [
       "<div>\n",
       "        \n",
       "        \n",
       "            <div id=\"2b441c78-164b-451d-96a3-f3bec51fa383\" class=\"plotly-graph-div\" style=\"height:600px; width:100%;\"></div>\n",
       "            <script type=\"text/javascript\">\n",
       "                require([\"plotly\"], function(Plotly) {\n",
       "                    window.PLOTLYENV=window.PLOTLYENV || {};\n",
       "                    \n",
       "                if (document.getElementById(\"2b441c78-164b-451d-96a3-f3bec51fa383\")) {\n",
       "                    Plotly.newPlot(\n",
       "                        '2b441c78-164b-451d-96a3-f3bec51fa383',\n",
       "                        [{\"alignmentgroup\": \"True\", \"bingroup\": \"x\", \"hoverlabel\": {\"namelength\": 0}, \"hovertemplate\": \"qtde_de_comentarios=%{x}<br>count=%{y}\", \"legendgroup\": \"\", \"marker\": {\"color\": \"#636efa\"}, \"name\": \"\", \"nbinsx\": 30, \"offsetgroup\": \"\", \"orientation\": \"v\", \"showlegend\": false, \"type\": \"histogram\", \"x\": [33, 53, 20, 15, 29, 11, 34, 20, 36, 10, 7, 14, 34, 13, 25, 6, 35, 37, 20, 101, 32, 11, 18, 8, 20, 3, 9, 18, 28, 32, 1, 18, 31, 13, 14, 7, 5, 42, 53, 18, 3, 8, 36, 1, 23, 42, 57, 6, 19, 8, 6, 20, 72, 35, 47, 16, 40, 30, 2, 28, 30, 33, 39, 16, 35, 40, 34, 14, 12, 32, 17, 36, 16, 42, 8, 16, 16, 15, 31, 76, 35, 10, 3, 26, 2, 88, 17, 25, 26, 15, 69, 27, 9, 5, 58, 39, 35, 32, 31, 24, 18, 35, 35, 18, 107, 38, 20, 8, 21, 43, 54, 2, 9, 34, 2, 15, 55, 38, 14, 35, 7, 22, 56, 17, 20, 9, 8, 12, 20, 24, 14, 16, 25, 34, 29, 10, 7, 33, 54, 20, 14, 7, 147, 21, 14, 92, 78, 29, 59, 15, 19, 36, 21, 36, 27, 17, 12, 22, 15, 12, 5, 44, 45], \"xaxis\": \"x\", \"yaxis\": \"y\"}],\n",
       "                        {\"barmode\": \"relative\", \"height\": 600, \"legend\": {\"tracegroupgap\": 0}, \"margin\": {\"t\": 60}, \"template\": {\"data\": {\"bar\": [{\"error_x\": {\"color\": \"#2a3f5f\"}, \"error_y\": {\"color\": \"#2a3f5f\"}, \"marker\": {\"line\": {\"color\": \"#E5ECF6\", \"width\": 0.5}}, \"type\": \"bar\"}], \"barpolar\": [{\"marker\": {\"line\": {\"color\": \"#E5ECF6\", \"width\": 0.5}}, \"type\": \"barpolar\"}], \"carpet\": [{\"aaxis\": {\"endlinecolor\": \"#2a3f5f\", \"gridcolor\": \"white\", \"linecolor\": \"white\", \"minorgridcolor\": \"white\", \"startlinecolor\": \"#2a3f5f\"}, \"baxis\": {\"endlinecolor\": \"#2a3f5f\", \"gridcolor\": \"white\", \"linecolor\": \"white\", \"minorgridcolor\": \"white\", \"startlinecolor\": \"#2a3f5f\"}, \"type\": \"carpet\"}], \"choropleth\": [{\"colorbar\": {\"outlinewidth\": 0, \"ticks\": \"\"}, \"type\": \"choropleth\"}], \"contour\": [{\"colorbar\": {\"outlinewidth\": 0, \"ticks\": \"\"}, \"colorscale\": [[0.0, \"#0d0887\"], [0.1111111111111111, \"#46039f\"], [0.2222222222222222, \"#7201a8\"], [0.3333333333333333, \"#9c179e\"], [0.4444444444444444, \"#bd3786\"], [0.5555555555555556, \"#d8576b\"], [0.6666666666666666, \"#ed7953\"], [0.7777777777777778, \"#fb9f3a\"], [0.8888888888888888, \"#fdca26\"], [1.0, \"#f0f921\"]], \"type\": \"contour\"}], \"contourcarpet\": [{\"colorbar\": {\"outlinewidth\": 0, \"ticks\": \"\"}, \"type\": \"contourcarpet\"}], \"heatmap\": [{\"colorbar\": {\"outlinewidth\": 0, \"ticks\": \"\"}, \"colorscale\": [[0.0, \"#0d0887\"], [0.1111111111111111, \"#46039f\"], [0.2222222222222222, \"#7201a8\"], [0.3333333333333333, \"#9c179e\"], [0.4444444444444444, \"#bd3786\"], [0.5555555555555556, \"#d8576b\"], [0.6666666666666666, \"#ed7953\"], [0.7777777777777778, \"#fb9f3a\"], [0.8888888888888888, \"#fdca26\"], [1.0, \"#f0f921\"]], \"type\": \"heatmap\"}], \"heatmapgl\": [{\"colorbar\": {\"outlinewidth\": 0, \"ticks\": \"\"}, \"colorscale\": [[0.0, \"#0d0887\"], [0.1111111111111111, \"#46039f\"], [0.2222222222222222, \"#7201a8\"], [0.3333333333333333, \"#9c179e\"], [0.4444444444444444, \"#bd3786\"], [0.5555555555555556, \"#d8576b\"], [0.6666666666666666, \"#ed7953\"], [0.7777777777777778, \"#fb9f3a\"], [0.8888888888888888, \"#fdca26\"], [1.0, \"#f0f921\"]], \"type\": \"heatmapgl\"}], \"histogram\": [{\"marker\": {\"colorbar\": {\"outlinewidth\": 0, \"ticks\": \"\"}}, \"type\": \"histogram\"}], \"histogram2d\": [{\"colorbar\": {\"outlinewidth\": 0, \"ticks\": \"\"}, \"colorscale\": [[0.0, \"#0d0887\"], [0.1111111111111111, \"#46039f\"], [0.2222222222222222, \"#7201a8\"], [0.3333333333333333, \"#9c179e\"], [0.4444444444444444, \"#bd3786\"], [0.5555555555555556, \"#d8576b\"], [0.6666666666666666, \"#ed7953\"], [0.7777777777777778, \"#fb9f3a\"], [0.8888888888888888, \"#fdca26\"], [1.0, \"#f0f921\"]], \"type\": \"histogram2d\"}], \"histogram2dcontour\": [{\"colorbar\": {\"outlinewidth\": 0, \"ticks\": \"\"}, \"colorscale\": [[0.0, \"#0d0887\"], [0.1111111111111111, \"#46039f\"], [0.2222222222222222, \"#7201a8\"], [0.3333333333333333, \"#9c179e\"], [0.4444444444444444, \"#bd3786\"], [0.5555555555555556, \"#d8576b\"], [0.6666666666666666, \"#ed7953\"], [0.7777777777777778, \"#fb9f3a\"], [0.8888888888888888, \"#fdca26\"], [1.0, \"#f0f921\"]], \"type\": \"histogram2dcontour\"}], \"mesh3d\": [{\"colorbar\": {\"outlinewidth\": 0, \"ticks\": \"\"}, \"type\": \"mesh3d\"}], \"parcoords\": [{\"line\": {\"colorbar\": {\"outlinewidth\": 0, \"ticks\": \"\"}}, \"type\": \"parcoords\"}], \"scatter\": [{\"marker\": {\"colorbar\": {\"outlinewidth\": 0, \"ticks\": \"\"}}, \"type\": \"scatter\"}], \"scatter3d\": [{\"line\": {\"colorbar\": {\"outlinewidth\": 0, \"ticks\": \"\"}}, \"marker\": {\"colorbar\": {\"outlinewidth\": 0, \"ticks\": \"\"}}, \"type\": \"scatter3d\"}], \"scattercarpet\": [{\"marker\": {\"colorbar\": {\"outlinewidth\": 0, \"ticks\": \"\"}}, \"type\": \"scattercarpet\"}], \"scattergeo\": [{\"marker\": {\"colorbar\": {\"outlinewidth\": 0, \"ticks\": \"\"}}, \"type\": \"scattergeo\"}], \"scattergl\": [{\"marker\": {\"colorbar\": {\"outlinewidth\": 0, \"ticks\": \"\"}}, \"type\": \"scattergl\"}], \"scattermapbox\": [{\"marker\": {\"colorbar\": {\"outlinewidth\": 0, \"ticks\": \"\"}}, \"type\": \"scattermapbox\"}], \"scatterpolar\": [{\"marker\": {\"colorbar\": {\"outlinewidth\": 0, \"ticks\": \"\"}}, \"type\": \"scatterpolar\"}], \"scatterpolargl\": [{\"marker\": {\"colorbar\": {\"outlinewidth\": 0, \"ticks\": \"\"}}, \"type\": \"scatterpolargl\"}], \"scatterternary\": [{\"marker\": {\"colorbar\": {\"outlinewidth\": 0, \"ticks\": \"\"}}, \"type\": \"scatterternary\"}], \"surface\": [{\"colorbar\": {\"outlinewidth\": 0, \"ticks\": \"\"}, \"colorscale\": [[0.0, \"#0d0887\"], [0.1111111111111111, \"#46039f\"], [0.2222222222222222, \"#7201a8\"], [0.3333333333333333, \"#9c179e\"], [0.4444444444444444, \"#bd3786\"], [0.5555555555555556, \"#d8576b\"], [0.6666666666666666, \"#ed7953\"], [0.7777777777777778, \"#fb9f3a\"], [0.8888888888888888, \"#fdca26\"], [1.0, \"#f0f921\"]], \"type\": \"surface\"}], \"table\": [{\"cells\": {\"fill\": {\"color\": \"#EBF0F8\"}, \"line\": {\"color\": \"white\"}}, \"header\": {\"fill\": {\"color\": \"#C8D4E3\"}, \"line\": {\"color\": \"white\"}}, \"type\": \"table\"}]}, \"layout\": {\"annotationdefaults\": {\"arrowcolor\": \"#2a3f5f\", \"arrowhead\": 0, \"arrowwidth\": 1}, \"colorscale\": {\"diverging\": [[0, \"#8e0152\"], [0.1, \"#c51b7d\"], [0.2, \"#de77ae\"], [0.3, \"#f1b6da\"], [0.4, \"#fde0ef\"], [0.5, \"#f7f7f7\"], [0.6, \"#e6f5d0\"], [0.7, \"#b8e186\"], [0.8, \"#7fbc41\"], [0.9, \"#4d9221\"], [1, \"#276419\"]], \"sequential\": [[0.0, \"#0d0887\"], [0.1111111111111111, \"#46039f\"], [0.2222222222222222, \"#7201a8\"], [0.3333333333333333, \"#9c179e\"], [0.4444444444444444, \"#bd3786\"], [0.5555555555555556, \"#d8576b\"], [0.6666666666666666, \"#ed7953\"], [0.7777777777777778, \"#fb9f3a\"], [0.8888888888888888, \"#fdca26\"], [1.0, \"#f0f921\"]], \"sequentialminus\": [[0.0, \"#0d0887\"], [0.1111111111111111, \"#46039f\"], [0.2222222222222222, \"#7201a8\"], [0.3333333333333333, \"#9c179e\"], [0.4444444444444444, \"#bd3786\"], [0.5555555555555556, \"#d8576b\"], [0.6666666666666666, \"#ed7953\"], [0.7777777777777778, \"#fb9f3a\"], [0.8888888888888888, \"#fdca26\"], [1.0, \"#f0f921\"]]}, \"colorway\": [\"#636efa\", \"#EF553B\", \"#00cc96\", \"#ab63fa\", \"#FFA15A\", \"#19d3f3\", \"#FF6692\", \"#B6E880\", \"#FF97FF\", \"#FECB52\"], \"font\": {\"color\": \"#2a3f5f\"}, \"geo\": {\"bgcolor\": \"white\", \"lakecolor\": \"white\", \"landcolor\": \"#E5ECF6\", \"showlakes\": true, \"showland\": true, \"subunitcolor\": \"white\"}, \"hoverlabel\": {\"align\": \"left\"}, \"hovermode\": \"closest\", \"mapbox\": {\"style\": \"light\"}, \"paper_bgcolor\": \"white\", \"plot_bgcolor\": \"#E5ECF6\", \"polar\": {\"angularaxis\": {\"gridcolor\": \"white\", \"linecolor\": \"white\", \"ticks\": \"\"}, \"bgcolor\": \"#E5ECF6\", \"radialaxis\": {\"gridcolor\": \"white\", \"linecolor\": \"white\", \"ticks\": \"\"}}, \"scene\": {\"xaxis\": {\"backgroundcolor\": \"#E5ECF6\", \"gridcolor\": \"white\", \"gridwidth\": 2, \"linecolor\": \"white\", \"showbackground\": true, \"ticks\": \"\", \"zerolinecolor\": \"white\"}, \"yaxis\": {\"backgroundcolor\": \"#E5ECF6\", \"gridcolor\": \"white\", \"gridwidth\": 2, \"linecolor\": \"white\", \"showbackground\": true, \"ticks\": \"\", \"zerolinecolor\": \"white\"}, \"zaxis\": {\"backgroundcolor\": \"#E5ECF6\", \"gridcolor\": \"white\", \"gridwidth\": 2, \"linecolor\": \"white\", \"showbackground\": true, \"ticks\": \"\", \"zerolinecolor\": \"white\"}}, \"shapedefaults\": {\"line\": {\"color\": \"#2a3f5f\"}}, \"ternary\": {\"aaxis\": {\"gridcolor\": \"white\", \"linecolor\": \"white\", \"ticks\": \"\"}, \"baxis\": {\"gridcolor\": \"white\", \"linecolor\": \"white\", \"ticks\": \"\"}, \"bgcolor\": \"#E5ECF6\", \"caxis\": {\"gridcolor\": \"white\", \"linecolor\": \"white\", \"ticks\": \"\"}}, \"title\": {\"x\": 0.05}, \"xaxis\": {\"automargin\": true, \"gridcolor\": \"white\", \"linecolor\": \"white\", \"ticks\": \"\", \"zerolinecolor\": \"white\", \"zerolinewidth\": 2}, \"yaxis\": {\"automargin\": true, \"gridcolor\": \"white\", \"linecolor\": \"white\", \"ticks\": \"\", \"zerolinecolor\": \"white\", \"zerolinewidth\": 2}}}, \"xaxis\": {\"anchor\": \"y\", \"domain\": [0.0, 0.98], \"title\": {\"text\": \"qtde_de_comentarios\"}}, \"yaxis\": {\"anchor\": \"x\", \"domain\": [0.0, 1.0], \"title\": {\"text\": \"count\"}}},\n",
       "                        {\"responsive\": true}\n",
       "                    ).then(function(){\n",
       "                            \n",
       "var gd = document.getElementById('2b441c78-164b-451d-96a3-f3bec51fa383');\n",
       "var x = new MutationObserver(function (mutations, observer) {{\n",
       "        var display = window.getComputedStyle(gd).display;\n",
       "        if (!display || display === 'none') {{\n",
       "            console.log([gd, 'removed!']);\n",
       "            Plotly.purge(gd);\n",
       "            observer.disconnect();\n",
       "        }}\n",
       "}});\n",
       "\n",
       "// Listen for the removal of the full notebook cells\n",
       "var notebookContainer = gd.closest('#notebook-container');\n",
       "if (notebookContainer) {{\n",
       "    x.observe(notebookContainer, {childList: true});\n",
       "}}\n",
       "\n",
       "// Listen for the clearing of the current output cell\n",
       "var outputEl = gd.closest('.output');\n",
       "if (outputEl) {{\n",
       "    x.observe(outputEl, {childList: true});\n",
       "}}\n",
       "\n",
       "                        })\n",
       "                };\n",
       "                });\n",
       "            </script>\n",
       "        </div>"
      ]
     },
     "metadata": {},
     "output_type": "display_data"
    }
   ],
   "source": [
    "px.histogram(df.groupby('titulo').count().reset_index().rename(columns={'comentario': 'qtde_de_comentarios'}), x='qtde_de_comentarios', nbins=30)"
   ]
  },
  {
   "cell_type": "markdown",
   "metadata": {},
   "source": [
    "O histograma comprova que o episódio com 147 comentários é um **evento isolado**. A maior parte dos episódios está no começo do gráfico, até ~50 comentários. Por curiosidade, eu fui ver qual era esse episódio com 147 comentários, e ele é o Tecnologias no Nubank – Hipsters \\#01, o primeiro episódio. Vendo isso, nós podemos pensar na seguinte hipótese:\n",
    "\n",
    "**Os episódios mais antigos terão mais comentários porque estão há mais tempo no ar**.\n",
    "\n",
    "Vamos testar essa hipótese de duas formas:\n",
    "\n",
    "* Calculando a correlação de pearson entre os dois atributos\n",
    "* Plotando os dados com scatter e uma linha de tendência.\n",
    "\n",
    "Adiantando o resultado (spoiler), existe uma correlação baixa (< 0.3) entre os atributos mas é possível visualizar de forma bem clara no gráfico.\n",
    "\n",
    "*Dica: você pode colocar o cursor em cima dos pontos do gráfico para ver o título do episódio.*"
   ]
  },
  {
   "cell_type": "code",
   "execution_count": 23,
   "metadata": {},
   "outputs": [
    {
     "name": "stdout",
     "output_type": "stream",
     "text": [
      "Correlação entre data de publicação e qtde. de comentários, sendo que 0 indica que não há correlação e 1 indica correlação perfeita.\n",
      "Valor: 0.10407843615936567\n"
     ]
    }
   ],
   "source": [
    "grouped_df = df.groupby(['titulo', 'data']).count().reset_index()\n",
    "grouped_df['semanas'] = grouped_df.index\n",
    "corr = grouped_df['semanas'].corr(grouped_df['comentario'])\n",
    "\n",
    "print('Correlação entre data de publicação e qtde. de comentários, sendo que 0 indica que não há correlação e 1 indica correlação perfeita.')\n",
    "print('Valor: {}'.format(corr))"
   ]
  },
  {
   "cell_type": "code",
   "execution_count": 24,
   "metadata": {},
   "outputs": [
    {
     "data": {
      "application/vnd.plotly.v1+json": {
       "config": {
        "plotlyServerURL": "https://plot.ly"
       },
       "data": [
        {
         "customdata": [
          [
           "Tecnologias no Nubank – Hipsters #01"
          ],
          [
           "Vida de Agência – Hipsters #02"
          ],
          [
           "Progressive Web Apps – Hipsters #03"
          ],
          [
           "Histórias do Cloud – Hipsters #04"
          ],
          [
           "Agilidade – Hipsters #05"
          ],
          [
           "Web Components – Hipsters #06"
          ],
          [
           "Oculus Rift e Realidade Virtual – Hipsters #07"
          ],
          [
           "Squads não-suicidas – Hipsters #08"
          ],
          [
           "CSS: Cansei de Ser Simples – Hipsters #09"
          ],
          [
           "Startups, Ninjas e Marketplaces – Hipsters #10"
          ],
          [
           "Por trás dos vídeos da Globo.com – Hipsters #11"
          ],
          [
           "Monitoramento: não receba mais telefonemas de madrugada! – Hipsters #12"
          ],
          [
           "HTTP/2: magia com o novo protocolo – Hipsters #13"
          ],
          [
           "Heurísticas e Buzzwords de UX – Hipsters #14"
          ],
          [
           "Startups, Cubos e Coworking – Hipsters #15"
          ],
          [
           "Single Page Applications – Hipsters #16"
          ],
          [
           "Microserviços – Hipsters #17"
          ],
          [
           "Bancos, Inovação e o Vale do Silício – Hipsters #18"
          ],
          [
           "Xamarin: Desenvolvimento multiplataforma – Hipsters #19"
          ],
          [
           "Startups, Olhos e MIT – Hipsters #20"
          ],
          [
           "Acessibilidade web – Hipsters #21"
          ],
          [
           "NoSQL: por quê? – Hipsters #22"
          ],
          [
           "Design Sprint – Hipsters #23"
          ],
          [
           "Indie Games – Hipsters #24"
          ],
          [
           "Startups, Música e Educação – Hipsters #25"
          ],
          [
           "Presente e Futuro do .NET – Hipsters #26"
          ],
          [
           "E o futuro do Java! – Hipsters #27"
          ],
          [
           "Prototipação: erre cedo para acertar cedo – Hipsters #28"
          ],
          [
           "Pagamentos Digitais e o Paypal – Hipsters #29"
          ],
          [
           "Startups, Marketplaces e Desapego – Hipsters #30"
          ],
          [
           "Carreira em Tecnologia – Hipsters #31"
          ],
          [
           "Mídias sociais e o caso do Nubank – Hipsters #32"
          ],
          [
           "Cafézinho Hipster – Hipsters #33"
          ],
          [
           "Mulheres na Tecnologia – Hipsters #34"
          ],
          [
           "Startups, Marketing e Resultados – Hipsters #35"
          ],
          [
           "PHP não é coisa de sobrinho! – Hipsters #36"
          ],
          [
           "Inteligência Artificial, Chatbots e Microsoft – Hipsters #37"
          ],
          [
           "O Reino encantado do JavaScript – Hipsters #38"
          ],
          [
           "Desenvolvimento Android – Hipsters #39"
          ],
          [
           "Startups, Blockchain e Bitcoins – Hipsters #40"
          ],
          [
           "Tecnologias na Netflix – Hipsters #41"
          ],
          [
           "Small Data, Big Data, Open Data – Hipsters #42"
          ],
          [
           "Internet das Coisas, Android e até Cerveja – Hipsters #43"
          ],
          [
           "UX: Pesquisa com o Usuário – Hipsters #44"
          ],
          [
           "Startups, Venture Capital e Investimentos – Hipsters #45"
          ],
          [
           "Tecnologias na StackOverflow – Hipsters #46"
          ],
          [
           "Faculdades: Ciência da Computação e Sistemas de Informação – Hipsters #47"
          ],
          [
           "Elixir, a linguagem hipster – Hipsters #48"
          ],
          [
           "MVP: Produto Mínimo Viável – Hipsters #49"
          ],
          [
           "Startups, fitness e o dilema do inovador – Hipsters #50"
          ],
          [
           "Testes Automatizados – Hipsters #51"
          ],
          [
           "A vez do Ruby on Rails – Hipsters #52"
          ],
          [
           "Geolocalização e Logística – Hipsters #53"
          ],
          [
           "Scrum: do zero ao Sprint – Hipsters #54"
          ],
          [
           "Startups, Processos e Mercado Global – Hipsters #55"
          ],
          [
           "Ionic e o Desenvolvimento Mobile – Hipsters #56"
          ],
          [
           "APIs: Gerenciamento e Criação – Hipsters #57"
          ],
          [
           "Evolução e Especificação do JavaScript Moderno – Hipsters #58"
          ],
          [
           "Testes A/B – Hipsters #59"
          ],
          [
           "Startups, Ecommerce e Deploys – Hipsters #60"
          ],
          [
           "Carreiras em Tecnologia (sem contar Programador e Designer!) – Hipsters #61"
          ],
          [
           "Data Science e Política na Operação Serenata de Amor – Hipsters #62"
          ],
          [
           "Tecnologias na Wine.com.br – Hipsters #63"
          ],
          [
           "Pull Requests e Code Review – Hipsters #64"
          ],
          [
           "Crianças, jovens e programação – Hipsters #65"
          ],
          [
           "React: o framework onipresente – Hipsters #66"
          ],
          [
           "A linguagem Go – Hipsters #67"
          ],
          [
           "O que faz um CTO? – Hipsters #68"
          ],
          [
           "Startups, investimentos e corretoras – Hipsters #70"
          ],
          [
           "Designers e Programadores – Hipsters #71"
          ],
          [
           "Por trás do WordPress – Hipsters #72"
          ],
          [
           "Big Data e Data Science: pra quê afinal? – Hipsters #73"
          ],
          [
           "Kanban e o fluxo de trabalho – Hipsters #74"
          ],
          [
           "Containers e Docker – Hipsters #75"
          ],
          [
           "Produtividade – Hipsters #76"
          ],
          [
           "Tendências em Tecnologia para 2018 – Hipsters #77"
          ],
          [
           "Javascript: Ember.js – Hipsters #78"
          ],
          [
           "Telefonia, Asterisk e Voip – Hipsters #79"
          ],
          [
           "Gestão com Management 3.0 – Hipsters #80"
          ],
          [
           "Primeiros passos com Devops – Hipsters #81"
          ],
          [
           "Programar sem enxergar – Hipsters #82"
          ],
          [
           "RPG hipster – Hipsters #83"
          ],
          [
           "Vida de Estagiário – Hipsters #85"
          ],
          [
           "Vida de Programadora – Hipsters #86"
          ],
          [
           "Spring Framework – Hipsters #87"
          ],
          [
           "Poliglotas, Aprendizado de Línguas e Tecnologia – Hipsters #88"
          ],
          [
           "PHP Experience: Performance Web, Criptomoedas e mais – Hipsters On The Road #01"
          ],
          [
           "Machine Learning – Hipsters #89"
          ],
          [
           "Linguagens Funcionais – Hipsters #91"
          ],
          [
           "Agile Trends: Lean Inception, Kanban, Comunidades – Hipsters On The Road #02"
          ],
          [
           "Ideias para TCCs e Projetos – Hipsters #92"
          ],
          [
           "Mitos de UX – Hipsters #93"
          ],
          [
           "Seleção e Contratação de Times de Tecnologia – Hipsters #94"
          ],
          [
           "Breve Historia da Implantação de Sistemas na Web – Hipsters #95"
          ],
          [
           "Desenvolvimento de Jogos Indie – Hipsters #96"
          ],
          [
           "Vida de Consultoria – Hipsters #97"
          ],
          [
           "Fake News – Hipsters #98"
          ],
          [
           "Por trás do Hipsters: Caelum, Alura e Casa do Código – Hipsters #100"
          ],
          [
           "Android P, Inteligência Artificial e Google I/O – Hipsters #101"
          ],
          [
           "Apps para SmartTVs – Hipsters #102"
          ],
          [
           "Edição de Vídeo: Efeitos Especiais – Hipsters #103"
          ],
          [
           "Um pouco de compiladores – Hipsters #105"
          ],
          [
           "Casos bacanas de Data Science – Hipsters #106"
          ],
          [
           "Tecnologias e Transformação Digital no Magazine Luiza – Hipsters #107"
          ],
          [
           "ASP.NET Core – Hipsters #108"
          ],
          [
           "Git e Github – Hipsters #109"
          ],
          [
           "Kotlin, Android e além – Hipsters #110"
          ],
          [
           "Trabalho Remoto – Hipsters #111"
          ],
          [
           "Startupismo da Real – Hipsters #112"
          ],
          [
           "Grandes livros de Tecnologia – Hipsters #113"
          ],
          [
           "Performance e Otimizações na Web – Hipsters #114"
          ],
          [
           "Scrum e Agile para além de Tecnologia – Hipsters #115"
          ],
          [
           "Como é trabalhar no Nubank? – Hipsters On The Road #04"
          ],
          [
           "Softwares de Defesa – Hipsters #116"
          ],
          [
           "Realidade Aumentada – Hipsters #117"
          ],
          [
           "Mainframe e desenvolvimento raiz – Hipsters #118"
          ],
          [
           "Java EE e Jakarta EE – Hipsters #119"
          ],
          [
           "Desenvolvimento iOS com Swift – Hipsters #120"
          ],
          [
           "Eventos de Tecnologia – Hipsters #121"
          ],
          [
           "Histórias de Black Friday – Hipsters #123"
          ],
          [
           "Trabalhando na Irlanda – Hipsters #124"
          ],
          [
           "Mais produtividade – Hipsters #125"
          ],
          [
           "Música e tecnologia – Hipsters #126"
          ],
          [
           "Inbound marketing – Hipsters #127"
          ],
          [
           "Começo de carreira – Hipsters #128"
          ],
          [
           "Chatbots e jornada do usuário – Hipsters #130"
          ],
          [
           "Qualidade e Software no Itaú – Hipsters #131"
          ],
          [
           "Lua, Brasil e Games – Hipsters #132"
          ],
          [
           "Podcasts, Jornalismo e CBN – Hipsters #133"
          ],
          [
           "Primeiros Passos em Data Science: Do Excel e BI ao Python – Hipsters #134"
          ],
          [
           "Carros Elétricos e Programação – Hipsters #135"
          ],
          [
           "Tecnologias no Banco BTG – Hipsters #136"
          ],
          [
           "Desafios em Machine Learning – Hipsters #137"
          ],
          [
           "Vida, Carreira e Perrengues no Exterior – Hipsters #138"
          ],
          [
           "Design Thinking – Hipsters #139"
          ],
          [
           "Como é trabalhar na iFood, Wavy, Sympla e grupo Movile? – Hipsters On The Road #05"
          ],
          [
           "Automação residencial – Hipsters #140"
          ],
          [
           "ERPs, Arquiteturas e TOTVS – Hipsters Ponto Tech #141"
          ],
          [
           "Angular vs React – Hipsters #142"
          ],
          [
           "Canais de Tecnologia no Youtube – Hipsters #143"
          ],
          [
           "Tendências em Tecnologia pra 2020 – Hipsters #144"
          ],
          [
           "Tecnologias no MercadoLivre – Hipsters Ponto Tech #145"
          ],
          [
           "Microsserviços na Caelum – Hipsters On The Road #6"
          ],
          [
           "Assistentes de voz: Futuro sem telas? – Hipsters Ponto Tech #146"
          ],
          [
           "Business Agility – Hipsters #147"
          ],
          [
           "Estratégias de migração de dados no Elo7 – Hipsters On The Road #07"
          ],
          [
           "React Native – Hipsters #148"
          ],
          [
           "Data Science, Engenharia, Design e Produto no Grupo Zap – Hipsters On The Road #08"
          ],
          [
           "Squads e Agilidade no Magazine Luiza – Hipsters Ponto Tech #149"
          ],
          [
           "Tecnologias no Nubank: 3 anos depois – Hipsters #150"
          ],
          [
           "Tecnologia e Produto no Instagram – Hipsters #151"
          ],
          [
           "Vue.js na Wirecard – Hipsters On The Road #09"
          ],
          [
           "Overengineering – Hipsters #152"
          ],
          [
           "Ecossistemas de Startups no Inovabra – Hipsters Ponto Tech #153"
          ],
          [
           "Microsserviços autônomos na Usabilla – Hipsters On The Road #10"
          ],
          [
           "Testes de Software e Inteligência Artificial – Hipsters #154"
          ],
          [
           "Node, Serverless, Elixir: a stack da Kovi – Hipsters On The Road #11"
          ],
          [
           "Negócios e Inovação Digital na Natura – Hipsters #155"
          ],
          [
           "Vida e Obra: John Carmack – Hipsters Ponto Tech #156"
          ],
          [
           "Gestão de Pessoas – Hipsters #157"
          ],
          [
           "Microsserviços na Monkey Exchange – Hipsters On The Road #12"
          ],
          [
           "Programação Funcional (e (clojure)) – Hipsters #158"
          ],
          [
           "Segurança da Informação: muito além do Telegram – Hipsters #159"
          ]
         ],
         "hoverlabel": {
          "namelength": 0
         },
         "hovertemplate": "semanas_desde_o_primeiro_episodio=%{x}<br>comentario=%{y}<br>titulo=%{customdata[0]}",
         "legendgroup": "",
         "marker": {
          "color": "#636efa",
          "symbol": "circle"
         },
         "mode": "markers",
         "name": "",
         "showlegend": false,
         "type": "scatter",
         "x": [
          0,
          1,
          2,
          3,
          4,
          5,
          6,
          7,
          8,
          9,
          10,
          11,
          12,
          13,
          14,
          15,
          16,
          17,
          18,
          19,
          20,
          21,
          22,
          23,
          24,
          25,
          26,
          27,
          28,
          29,
          30,
          31,
          32,
          33,
          34,
          35,
          36,
          37,
          38,
          39,
          40,
          41,
          42,
          43,
          44,
          45,
          46,
          47,
          48,
          49,
          50,
          51,
          52,
          53,
          54,
          55,
          56,
          57,
          58,
          59,
          60,
          61,
          62,
          63,
          64,
          65,
          66,
          67,
          68,
          69,
          70,
          71,
          72,
          73,
          74,
          75,
          76,
          77,
          78,
          79,
          80,
          81,
          82,
          83,
          84,
          85,
          86,
          87,
          88,
          89,
          90,
          91,
          92,
          93,
          94,
          95,
          96,
          97,
          98,
          99,
          100,
          101,
          102,
          103,
          104,
          105,
          106,
          107,
          108,
          109,
          110,
          111,
          112,
          113,
          114,
          115,
          116,
          117,
          118,
          119,
          120,
          121,
          122,
          123,
          124,
          125,
          126,
          127,
          128,
          129,
          130,
          131,
          132,
          133,
          134,
          135,
          136,
          137,
          138,
          139,
          140,
          141,
          142,
          143,
          144,
          145,
          146,
          147,
          148,
          149,
          150,
          151,
          152,
          153,
          154,
          155,
          156,
          157,
          158,
          159,
          160,
          161,
          162
         ],
         "xaxis": "x",
         "y": [
          147,
          27,
          107,
          40,
          34,
          44,
          25,
          22,
          35,
          24,
          32,
          31,
          35,
          47,
          20,
          55,
          42,
          34,
          45,
          14,
          29,
          26,
          7,
          28,
          20,
          31,
          53,
          38,
          27,
          12,
          101,
          35,
          37,
          76,
          8,
          69,
          30,
          88,
          31,
          17,
          33,
          38,
          33,
          21,
          25,
          54,
          57,
          36,
          32,
          34,
          59,
          53,
          19,
          34,
          16,
          39,
          20,
          42,
          29,
          9,
          32,
          32,
          20,
          20,
          28,
          54,
          33,
          17,
          29,
          42,
          35,
          13,
          40,
          18,
          35,
          92,
          35,
          14,
          8,
          18,
          35,
          21,
          12,
          22,
          35,
          58,
          15,
          17,
          14,
          11,
          30,
          15,
          15,
          25,
          13,
          17,
          6,
          39,
          20,
          10,
          8,
          36,
          18,
          7,
          15,
          20,
          34,
          36,
          56,
          72,
          9,
          9,
          9,
          14,
          2,
          36,
          16,
          14,
          23,
          16,
          19,
          16,
          10,
          2,
          20,
          8,
          8,
          12,
          5,
          24,
          11,
          14,
          18,
          12,
          5,
          3,
          14,
          18,
          36,
          20,
          78,
          7,
          16,
          7,
          6,
          1,
          43,
          1,
          7,
          21,
          10,
          5,
          26,
          3,
          8,
          15,
          2,
          3,
          15,
          6,
          16,
          18,
          2
         ],
         "yaxis": "y"
        },
        {
         "hoverlabel": {
          "namelength": 0
         },
         "hovertemplate": "<b>OLS trendline</b><br>comentario = -0.221039 * semanas_desde_o_primeiro_episodio + 44.848945<br>R<sup>2</sup>=0.233177<br><br>semanas_desde_o_primeiro_episodio=%{x}<br>comentario=%{y} <b>(trend)</b>",
         "legendgroup": "",
         "marker": {
          "color": "#636efa",
          "symbol": "circle"
         },
         "mode": "lines",
         "name": "",
         "showlegend": false,
         "type": "scatter",
         "x": [
          0,
          1,
          2,
          3,
          4,
          5,
          6,
          7,
          8,
          9,
          10,
          11,
          12,
          13,
          14,
          15,
          16,
          17,
          18,
          19,
          20,
          21,
          22,
          23,
          24,
          25,
          26,
          27,
          28,
          29,
          30,
          31,
          32,
          33,
          34,
          35,
          36,
          37,
          38,
          39,
          40,
          41,
          42,
          43,
          44,
          45,
          46,
          47,
          48,
          49,
          50,
          51,
          52,
          53,
          54,
          55,
          56,
          57,
          58,
          59,
          60,
          61,
          62,
          63,
          64,
          65,
          66,
          67,
          68,
          69,
          70,
          71,
          72,
          73,
          74,
          75,
          76,
          77,
          78,
          79,
          80,
          81,
          82,
          83,
          84,
          85,
          86,
          87,
          88,
          89,
          90,
          91,
          92,
          93,
          94,
          95,
          96,
          97,
          98,
          99,
          100,
          101,
          102,
          103,
          104,
          105,
          106,
          107,
          108,
          109,
          110,
          111,
          112,
          113,
          114,
          115,
          116,
          117,
          118,
          119,
          120,
          121,
          122,
          123,
          124,
          125,
          126,
          127,
          128,
          129,
          130,
          131,
          132,
          133,
          134,
          135,
          136,
          137,
          138,
          139,
          140,
          141,
          142,
          143,
          144,
          145,
          146,
          147,
          148,
          149,
          150,
          151,
          152,
          153,
          154,
          155,
          156,
          157,
          158,
          159,
          160,
          161,
          162
         ],
         "xaxis": "x",
         "y": [
          44.848945084542855,
          44.62790607456175,
          44.40686706458065,
          44.18582805459955,
          43.96478904461845,
          43.743750034637344,
          43.522711024656246,
          43.30167201467514,
          43.08063300469404,
          42.85959399471294,
          42.63855498473184,
          42.417515974750735,
          42.19647696476964,
          41.97543795478853,
          41.754398944807434,
          41.53335993482633,
          41.312320924845224,
          41.091281914864126,
          40.87024290488302,
          40.64920389490192,
          40.42816488492082,
          40.20712587493972,
          39.986086864958615,
          39.76504785497752,
          39.54400884499641,
          39.322969835015314,
          39.10193082503421,
          38.88089181505311,
          38.659852805072006,
          38.43881379509091,
          38.2177747851098,
          37.9967357751287,
          37.7756967651476,
          37.5546577551665,
          37.3336187451854,
          37.11257973520429,
          36.891540725223194,
          36.67050171524209,
          36.44946270526099,
          36.228423695279886,
          36.00738468529879,
          35.78634567531768,
          35.565306665336585,
          35.34426765535548,
          35.12322864537438,
          34.90218963539328,
          34.68115062541217,
          34.460111615431074,
          34.23907260544998,
          34.01803359546887,
          33.79699458548777,
          33.57595557550667,
          33.35491656552557,
          33.133877555544466,
          32.91283854556336,
          32.69179953558226,
          32.47076052560116,
          32.24972151562006,
          32.028682505638955,
          31.807643495657857,
          31.58660448567675,
          31.36556547569565,
          31.14452646571455,
          30.923487455733447,
          30.702448445752346,
          30.481409435771244,
          30.260370425790143,
          30.03933141580904,
          29.81829240582794,
          29.597253395846835,
          29.376214385865737,
          29.15517537588463,
          28.934136365903534,
          28.71309735592243,
          28.492058345941327,
          28.271019335960226,
          28.049980325979124,
          27.828941315998023,
          27.60790230601692,
          27.38686329603582,
          27.16582428605472,
          26.944785276073617,
          26.723746266092515,
          26.502707256111414,
          26.281668246130312,
          26.06062923614921,
          25.83959022616811,
          25.618551216187008,
          25.397512206205903,
          25.1764731962248,
          24.9554341862437,
          24.7343951762626,
          24.513356166281497,
          24.292317156300395,
          24.071278146319294,
          23.850239136338192,
          23.62920012635709,
          23.40816111637599,
          23.187122106394888,
          22.966083096413787,
          22.745044086432685,
          22.524005076451584,
          22.302966066470482,
          22.08192705648938,
          21.86088804650828,
          21.639849036527174,
          21.418810026546073,
          21.19777101656497,
          20.97673200658387,
          20.755692996602768,
          20.534653986621667,
          20.313614976640565,
          20.092575966659464,
          19.871536956678362,
          19.65049794669726,
          19.42945893671616,
          19.208419926735058,
          18.987380916753956,
          18.766341906772855,
          18.545302896791753,
          18.324263886810648,
          18.103224876829547,
          17.882185866848445,
          17.661146856867344,
          17.440107846886242,
          17.21906883690514,
          16.99802982692404,
          16.776990816942938,
          16.555951806961836,
          16.334912796980735,
          16.113873786999633,
          15.892834777018532,
          15.67179576703743,
          15.450756757056329,
          15.229717747075227,
          15.008678737094126,
          14.787639727113024,
          14.56660071713192,
          14.345561707150818,
          14.124522697169716,
          13.903483687188615,
          13.682444677207513,
          13.461405667226412,
          13.24036665724531,
          13.019327647264209,
          12.798288637283108,
          12.577249627302002,
          12.356210617320905,
          12.1351716073398,
          11.914132597358702,
          11.693093587377597,
          11.472054577396499,
          11.251015567415394,
          11.029976557434296,
          10.80893754745319,
          10.587898537472093,
          10.366859527490988,
          10.14582051750989,
          9.924781507528785,
          9.703742497547687,
          9.482703487566582,
          9.261664477585477,
          9.040625467604379
         ],
         "yaxis": "y"
        }
       ],
       "layout": {
        "autosize": true,
        "legend": {
         "tracegroupgap": 0
        },
        "margin": {
         "t": 60
        },
        "template": {
         "data": {
          "bar": [
           {
            "error_x": {
             "color": "#2a3f5f"
            },
            "error_y": {
             "color": "#2a3f5f"
            },
            "marker": {
             "line": {
              "color": "#E5ECF6",
              "width": 0.5
             }
            },
            "type": "bar"
           }
          ],
          "barpolar": [
           {
            "marker": {
             "line": {
              "color": "#E5ECF6",
              "width": 0.5
             }
            },
            "type": "barpolar"
           }
          ],
          "carpet": [
           {
            "aaxis": {
             "endlinecolor": "#2a3f5f",
             "gridcolor": "white",
             "linecolor": "white",
             "minorgridcolor": "white",
             "startlinecolor": "#2a3f5f"
            },
            "baxis": {
             "endlinecolor": "#2a3f5f",
             "gridcolor": "white",
             "linecolor": "white",
             "minorgridcolor": "white",
             "startlinecolor": "#2a3f5f"
            },
            "type": "carpet"
           }
          ],
          "choropleth": [
           {
            "colorbar": {
             "outlinewidth": 0,
             "ticks": ""
            },
            "type": "choropleth"
           }
          ],
          "contour": [
           {
            "colorbar": {
             "outlinewidth": 0,
             "ticks": ""
            },
            "colorscale": [
             [
              0,
              "#0d0887"
             ],
             [
              0.1111111111111111,
              "#46039f"
             ],
             [
              0.2222222222222222,
              "#7201a8"
             ],
             [
              0.3333333333333333,
              "#9c179e"
             ],
             [
              0.4444444444444444,
              "#bd3786"
             ],
             [
              0.5555555555555556,
              "#d8576b"
             ],
             [
              0.6666666666666666,
              "#ed7953"
             ],
             [
              0.7777777777777778,
              "#fb9f3a"
             ],
             [
              0.8888888888888888,
              "#fdca26"
             ],
             [
              1,
              "#f0f921"
             ]
            ],
            "type": "contour"
           }
          ],
          "contourcarpet": [
           {
            "colorbar": {
             "outlinewidth": 0,
             "ticks": ""
            },
            "type": "contourcarpet"
           }
          ],
          "heatmap": [
           {
            "colorbar": {
             "outlinewidth": 0,
             "ticks": ""
            },
            "colorscale": [
             [
              0,
              "#0d0887"
             ],
             [
              0.1111111111111111,
              "#46039f"
             ],
             [
              0.2222222222222222,
              "#7201a8"
             ],
             [
              0.3333333333333333,
              "#9c179e"
             ],
             [
              0.4444444444444444,
              "#bd3786"
             ],
             [
              0.5555555555555556,
              "#d8576b"
             ],
             [
              0.6666666666666666,
              "#ed7953"
             ],
             [
              0.7777777777777778,
              "#fb9f3a"
             ],
             [
              0.8888888888888888,
              "#fdca26"
             ],
             [
              1,
              "#f0f921"
             ]
            ],
            "type": "heatmap"
           }
          ],
          "heatmapgl": [
           {
            "colorbar": {
             "outlinewidth": 0,
             "ticks": ""
            },
            "colorscale": [
             [
              0,
              "#0d0887"
             ],
             [
              0.1111111111111111,
              "#46039f"
             ],
             [
              0.2222222222222222,
              "#7201a8"
             ],
             [
              0.3333333333333333,
              "#9c179e"
             ],
             [
              0.4444444444444444,
              "#bd3786"
             ],
             [
              0.5555555555555556,
              "#d8576b"
             ],
             [
              0.6666666666666666,
              "#ed7953"
             ],
             [
              0.7777777777777778,
              "#fb9f3a"
             ],
             [
              0.8888888888888888,
              "#fdca26"
             ],
             [
              1,
              "#f0f921"
             ]
            ],
            "type": "heatmapgl"
           }
          ],
          "histogram": [
           {
            "marker": {
             "colorbar": {
              "outlinewidth": 0,
              "ticks": ""
             }
            },
            "type": "histogram"
           }
          ],
          "histogram2d": [
           {
            "colorbar": {
             "outlinewidth": 0,
             "ticks": ""
            },
            "colorscale": [
             [
              0,
              "#0d0887"
             ],
             [
              0.1111111111111111,
              "#46039f"
             ],
             [
              0.2222222222222222,
              "#7201a8"
             ],
             [
              0.3333333333333333,
              "#9c179e"
             ],
             [
              0.4444444444444444,
              "#bd3786"
             ],
             [
              0.5555555555555556,
              "#d8576b"
             ],
             [
              0.6666666666666666,
              "#ed7953"
             ],
             [
              0.7777777777777778,
              "#fb9f3a"
             ],
             [
              0.8888888888888888,
              "#fdca26"
             ],
             [
              1,
              "#f0f921"
             ]
            ],
            "type": "histogram2d"
           }
          ],
          "histogram2dcontour": [
           {
            "colorbar": {
             "outlinewidth": 0,
             "ticks": ""
            },
            "colorscale": [
             [
              0,
              "#0d0887"
             ],
             [
              0.1111111111111111,
              "#46039f"
             ],
             [
              0.2222222222222222,
              "#7201a8"
             ],
             [
              0.3333333333333333,
              "#9c179e"
             ],
             [
              0.4444444444444444,
              "#bd3786"
             ],
             [
              0.5555555555555556,
              "#d8576b"
             ],
             [
              0.6666666666666666,
              "#ed7953"
             ],
             [
              0.7777777777777778,
              "#fb9f3a"
             ],
             [
              0.8888888888888888,
              "#fdca26"
             ],
             [
              1,
              "#f0f921"
             ]
            ],
            "type": "histogram2dcontour"
           }
          ],
          "mesh3d": [
           {
            "colorbar": {
             "outlinewidth": 0,
             "ticks": ""
            },
            "type": "mesh3d"
           }
          ],
          "parcoords": [
           {
            "line": {
             "colorbar": {
              "outlinewidth": 0,
              "ticks": ""
             }
            },
            "type": "parcoords"
           }
          ],
          "scatter": [
           {
            "marker": {
             "colorbar": {
              "outlinewidth": 0,
              "ticks": ""
             }
            },
            "type": "scatter"
           }
          ],
          "scatter3d": [
           {
            "line": {
             "colorbar": {
              "outlinewidth": 0,
              "ticks": ""
             }
            },
            "marker": {
             "colorbar": {
              "outlinewidth": 0,
              "ticks": ""
             }
            },
            "type": "scatter3d"
           }
          ],
          "scattercarpet": [
           {
            "marker": {
             "colorbar": {
              "outlinewidth": 0,
              "ticks": ""
             }
            },
            "type": "scattercarpet"
           }
          ],
          "scattergeo": [
           {
            "marker": {
             "colorbar": {
              "outlinewidth": 0,
              "ticks": ""
             }
            },
            "type": "scattergeo"
           }
          ],
          "scattergl": [
           {
            "marker": {
             "colorbar": {
              "outlinewidth": 0,
              "ticks": ""
             }
            },
            "type": "scattergl"
           }
          ],
          "scattermapbox": [
           {
            "marker": {
             "colorbar": {
              "outlinewidth": 0,
              "ticks": ""
             }
            },
            "type": "scattermapbox"
           }
          ],
          "scatterpolar": [
           {
            "marker": {
             "colorbar": {
              "outlinewidth": 0,
              "ticks": ""
             }
            },
            "type": "scatterpolar"
           }
          ],
          "scatterpolargl": [
           {
            "marker": {
             "colorbar": {
              "outlinewidth": 0,
              "ticks": ""
             }
            },
            "type": "scatterpolargl"
           }
          ],
          "scatterternary": [
           {
            "marker": {
             "colorbar": {
              "outlinewidth": 0,
              "ticks": ""
             }
            },
            "type": "scatterternary"
           }
          ],
          "surface": [
           {
            "colorbar": {
             "outlinewidth": 0,
             "ticks": ""
            },
            "colorscale": [
             [
              0,
              "#0d0887"
             ],
             [
              0.1111111111111111,
              "#46039f"
             ],
             [
              0.2222222222222222,
              "#7201a8"
             ],
             [
              0.3333333333333333,
              "#9c179e"
             ],
             [
              0.4444444444444444,
              "#bd3786"
             ],
             [
              0.5555555555555556,
              "#d8576b"
             ],
             [
              0.6666666666666666,
              "#ed7953"
             ],
             [
              0.7777777777777778,
              "#fb9f3a"
             ],
             [
              0.8888888888888888,
              "#fdca26"
             ],
             [
              1,
              "#f0f921"
             ]
            ],
            "type": "surface"
           }
          ],
          "table": [
           {
            "cells": {
             "fill": {
              "color": "#EBF0F8"
             },
             "line": {
              "color": "white"
             }
            },
            "header": {
             "fill": {
              "color": "#C8D4E3"
             },
             "line": {
              "color": "white"
             }
            },
            "type": "table"
           }
          ]
         },
         "layout": {
          "annotationdefaults": {
           "arrowcolor": "#2a3f5f",
           "arrowhead": 0,
           "arrowwidth": 1
          },
          "colorscale": {
           "diverging": [
            [
             0,
             "#8e0152"
            ],
            [
             0.1,
             "#c51b7d"
            ],
            [
             0.2,
             "#de77ae"
            ],
            [
             0.3,
             "#f1b6da"
            ],
            [
             0.4,
             "#fde0ef"
            ],
            [
             0.5,
             "#f7f7f7"
            ],
            [
             0.6,
             "#e6f5d0"
            ],
            [
             0.7,
             "#b8e186"
            ],
            [
             0.8,
             "#7fbc41"
            ],
            [
             0.9,
             "#4d9221"
            ],
            [
             1,
             "#276419"
            ]
           ],
           "sequential": [
            [
             0,
             "#0d0887"
            ],
            [
             0.1111111111111111,
             "#46039f"
            ],
            [
             0.2222222222222222,
             "#7201a8"
            ],
            [
             0.3333333333333333,
             "#9c179e"
            ],
            [
             0.4444444444444444,
             "#bd3786"
            ],
            [
             0.5555555555555556,
             "#d8576b"
            ],
            [
             0.6666666666666666,
             "#ed7953"
            ],
            [
             0.7777777777777778,
             "#fb9f3a"
            ],
            [
             0.8888888888888888,
             "#fdca26"
            ],
            [
             1,
             "#f0f921"
            ]
           ],
           "sequentialminus": [
            [
             0,
             "#0d0887"
            ],
            [
             0.1111111111111111,
             "#46039f"
            ],
            [
             0.2222222222222222,
             "#7201a8"
            ],
            [
             0.3333333333333333,
             "#9c179e"
            ],
            [
             0.4444444444444444,
             "#bd3786"
            ],
            [
             0.5555555555555556,
             "#d8576b"
            ],
            [
             0.6666666666666666,
             "#ed7953"
            ],
            [
             0.7777777777777778,
             "#fb9f3a"
            ],
            [
             0.8888888888888888,
             "#fdca26"
            ],
            [
             1,
             "#f0f921"
            ]
           ]
          },
          "colorway": [
           "#636efa",
           "#EF553B",
           "#00cc96",
           "#ab63fa",
           "#FFA15A",
           "#19d3f3",
           "#FF6692",
           "#B6E880",
           "#FF97FF",
           "#FECB52"
          ],
          "font": {
           "color": "#2a3f5f"
          },
          "geo": {
           "bgcolor": "white",
           "lakecolor": "white",
           "landcolor": "#E5ECF6",
           "showlakes": true,
           "showland": true,
           "subunitcolor": "white"
          },
          "hoverlabel": {
           "align": "left"
          },
          "hovermode": "closest",
          "mapbox": {
           "style": "light"
          },
          "paper_bgcolor": "white",
          "plot_bgcolor": "#E5ECF6",
          "polar": {
           "angularaxis": {
            "gridcolor": "white",
            "linecolor": "white",
            "ticks": ""
           },
           "bgcolor": "#E5ECF6",
           "radialaxis": {
            "gridcolor": "white",
            "linecolor": "white",
            "ticks": ""
           }
          },
          "scene": {
           "xaxis": {
            "backgroundcolor": "#E5ECF6",
            "gridcolor": "white",
            "gridwidth": 2,
            "linecolor": "white",
            "showbackground": true,
            "ticks": "",
            "zerolinecolor": "white"
           },
           "yaxis": {
            "backgroundcolor": "#E5ECF6",
            "gridcolor": "white",
            "gridwidth": 2,
            "linecolor": "white",
            "showbackground": true,
            "ticks": "",
            "zerolinecolor": "white"
           },
           "zaxis": {
            "backgroundcolor": "#E5ECF6",
            "gridcolor": "white",
            "gridwidth": 2,
            "linecolor": "white",
            "showbackground": true,
            "ticks": "",
            "zerolinecolor": "white"
           }
          },
          "shapedefaults": {
           "line": {
            "color": "#2a3f5f"
           }
          },
          "ternary": {
           "aaxis": {
            "gridcolor": "white",
            "linecolor": "white",
            "ticks": ""
           },
           "baxis": {
            "gridcolor": "white",
            "linecolor": "white",
            "ticks": ""
           },
           "bgcolor": "#E5ECF6",
           "caxis": {
            "gridcolor": "white",
            "linecolor": "white",
            "ticks": ""
           }
          },
          "title": {
           "x": 0.05
          },
          "xaxis": {
           "automargin": true,
           "gridcolor": "white",
           "linecolor": "white",
           "ticks": "",
           "zerolinecolor": "white",
           "zerolinewidth": 2
          },
          "yaxis": {
           "automargin": true,
           "gridcolor": "white",
           "linecolor": "white",
           "ticks": "",
           "zerolinecolor": "white",
           "zerolinewidth": 2
          }
         }
        },
        "xaxis": {
         "anchor": "y",
         "autorange": true,
         "domain": [
          0,
          0.98
         ],
         "range": [
          -9.962048264892507,
          171.9620482648925
         ],
         "title": {
          "text": "semanas_desde_o_primeiro_episodio"
         },
         "type": "linear"
        },
        "yaxis": {
         "anchor": "x",
         "autorange": true,
         "domain": [
          0,
          1
         ],
         "range": [
          -8.607626076260763,
          156.60762607626077
         ],
         "title": {
          "text": "comentario"
         },
         "type": "linear"
        }
       }
      },
      "image/png": "[encoded data removed]",
      "text/html": [
       "<div>\n",
       "        \n",
       "        \n",
       "            <div id=\"c0deacbd-b21a-4d6d-a411-ba9a117de267\" class=\"plotly-graph-div\" style=\"height:600px; width:100%;\"></div>\n",
       "            <script type=\"text/javascript\">\n",
       "                require([\"plotly\"], function(Plotly) {\n",
       "                    window.PLOTLYENV=window.PLOTLYENV || {};\n",
       "                    \n",
       "                if (document.getElementById(\"c0deacbd-b21a-4d6d-a411-ba9a117de267\")) {\n",
       "                    Plotly.newPlot(\n",
       "                        'c0deacbd-b21a-4d6d-a411-ba9a117de267',\n",
       "                        [{\"customdata\": [[\"Tecnologias no Nubank \\u2013 Hipsters #01\"], [\"Vida de Ag\\u00eancia \\u2013 Hipsters #02\"], [\"Progressive Web Apps \\u2013 Hipsters #03\"], [\"Hist\\u00f3rias do Cloud \\u2013 Hipsters #04\"], [\"Agilidade \\u2013 Hipsters #05\"], [\"Web Components \\u2013 Hipsters #06\"], [\"Oculus Rift e Realidade Virtual \\u2013 Hipsters #07\"], [\"Squads n\\u00e3o-suicidas \\u2013 Hipsters #08\"], [\"CSS: Cansei de Ser Simples \\u2013 Hipsters #09\"], [\"Startups, Ninjas e Marketplaces \\u2013 Hipsters #10\"], [\"Por tr\\u00e1s dos v\\u00eddeos da Globo.com \\u2013 Hipsters #11\"], [\"Monitoramento: n\\u00e3o receba mais telefonemas de madrugada! \\u2013 Hipsters #12\"], [\"HTTP/2: magia com o novo protocolo \\u2013 Hipsters #13\"], [\"Heur\\u00edsticas e Buzzwords de UX \\u2013 Hipsters #14\"], [\"Startups, Cubos e Coworking \\u2013 Hipsters #15\"], [\"Single Page Applications \\u2013 Hipsters #16\"], [\"Microservi\\u00e7os \\u2013 Hipsters #17\"], [\"Bancos, Inova\\u00e7\\u00e3o e o Vale do Sil\\u00edcio \\u2013 Hipsters #18\"], [\"Xamarin: Desenvolvimento multiplataforma \\u2013 Hipsters #19\"], [\"Startups, Olhos e MIT \\u2013 Hipsters #20\"], [\"Acessibilidade web \\u2013 Hipsters #21\"], [\"NoSQL: por qu\\u00ea? \\u2013 Hipsters #22\"], [\"Design Sprint \\u2013 Hipsters #23\"], [\"Indie Games \\u2013 Hipsters #24\"], [\"Startups, M\\u00fasica e Educa\\u00e7\\u00e3o \\u2013 Hipsters #25\"], [\"Presente e Futuro do .NET \\u2013 Hipsters #26\"], [\"E o futuro do Java! \\u2013 Hipsters #27\"], [\"Prototipa\\u00e7\\u00e3o: erre cedo para acertar cedo \\u2013 Hipsters #28\"], [\"Pagamentos Digitais e o Paypal \\u2013 Hipsters #29\"], [\"Startups, Marketplaces e Desapego \\u2013 Hipsters #30\"], [\"Carreira em Tecnologia \\u2013 Hipsters #31\"], [\"M\\u00eddias sociais e o caso do Nubank \\u2013 Hipsters #32\"], [\"Caf\\u00e9zinho Hipster \\u2013 Hipsters #33\"], [\"Mulheres na Tecnologia \\u2013 Hipsters #34\"], [\"Startups, Marketing e Resultados \\u2013 Hipsters #35\"], [\"PHP n\\u00e3o \\u00e9 coisa de sobrinho! \\u2013 Hipsters #36\"], [\"Intelig\\u00eancia Artificial, Chatbots e Microsoft \\u2013 Hipsters #37\"], [\"O Reino encantado do JavaScript \\u2013 Hipsters #38\"], [\"Desenvolvimento Android \\u2013 Hipsters #39\"], [\"Startups, Blockchain e Bitcoins \\u2013 Hipsters #40\"], [\"Tecnologias na Netflix \\u2013 Hipsters #41\"], [\"Small Data, Big Data, Open Data \\u2013 Hipsters #42\"], [\"Internet das Coisas, Android e at\\u00e9 Cerveja \\u2013 Hipsters #43\"], [\"UX: Pesquisa com o Usu\\u00e1rio \\u2013 Hipsters #44\"], [\"Startups, Venture Capital e Investimentos \\u2013 Hipsters #45\"], [\"Tecnologias na StackOverflow \\u2013 Hipsters #46\"], [\"Faculdades: Ci\\u00eancia da Computa\\u00e7\\u00e3o e Sistemas de Informa\\u00e7\\u00e3o \\u2013 Hipsters #47\"], [\"Elixir, a linguagem hipster \\u2013 Hipsters #48\"], [\"MVP: Produto M\\u00ednimo Vi\\u00e1vel \\u2013 Hipsters #49\"], [\"Startups, fitness e o dilema do inovador \\u2013 Hipsters #50\"], [\"Testes Automatizados \\u2013 Hipsters #51\"], [\"A vez do Ruby on Rails \\u2013 Hipsters #52\"], [\"Geolocaliza\\u00e7\\u00e3o e Log\\u00edstica \\u2013 Hipsters #53\"], [\"Scrum: do zero ao Sprint \\u2013 Hipsters #54\"], [\"Startups, Processos e Mercado Global \\u2013 Hipsters #55\"], [\"Ionic e o Desenvolvimento Mobile \\u2013 Hipsters #56\"], [\"APIs: Gerenciamento e Cria\\u00e7\\u00e3o \\u2013 Hipsters #57\"], [\"Evolu\\u00e7\\u00e3o e Especifica\\u00e7\\u00e3o do JavaScript Moderno \\u2013 Hipsters #58\"], [\"Testes A/B \\u2013 Hipsters #59\"], [\"Startups, Ecommerce e Deploys \\u2013 Hipsters #60\"], [\"Carreiras em Tecnologia (sem contar Programador e Designer!) \\u2013 Hipsters #61\"], [\"Data Science e Pol\\u00edtica na Opera\\u00e7\\u00e3o Serenata de Amor \\u2013 Hipsters #62\"], [\"Tecnologias na Wine.com.br \\u2013 Hipsters #63\"], [\"Pull Requests e Code Review \\u2013 Hipsters #64\"], [\"Crian\\u00e7as, jovens e programa\\u00e7\\u00e3o \\u2013 Hipsters #65\"], [\"React: o framework onipresente \\u2013 Hipsters #66\"], [\"A linguagem Go \\u2013 Hipsters #67\"], [\"O que faz um CTO? \\u2013 Hipsters #68\"], [\"Startups, investimentos e corretoras \\u2013 Hipsters #70\"], [\"Designers e Programadores \\u2013 Hipsters #71\"], [\"Por tr\\u00e1s do WordPress \\u2013 Hipsters #72\"], [\"Big Data e Data Science: pra qu\\u00ea afinal? \\u2013 Hipsters #73\"], [\"Kanban e o fluxo de trabalho \\u2013 Hipsters #74\"], [\"Containers e Docker \\u2013 Hipsters #75\"], [\"Produtividade \\u2013 Hipsters #76\"], [\"Tend\\u00eancias em Tecnologia para 2018 \\u2013 Hipsters #77\"], [\"Javascript: Ember.js \\u2013 Hipsters #78\"], [\"Telefonia, Asterisk e Voip \\u2013 Hipsters #79\"], [\"Gest\\u00e3o com Management 3.0 \\u2013 Hipsters #80\"], [\"Primeiros passos com Devops \\u2013 Hipsters #81\"], [\"Programar sem enxergar \\u2013 Hipsters #82\"], [\"RPG hipster \\u2013 Hipsters #83\"], [\"Vida de Estagi\\u00e1rio \\u2013 Hipsters #85\"], [\"Vida de Programadora \\u2013 Hipsters #86\"], [\"Spring Framework \\u2013 Hipsters #87\"], [\"Poliglotas, Aprendizado de L\\u00ednguas e Tecnologia \\u2013 Hipsters #88\"], [\"PHP Experience: Performance Web, Criptomoedas e mais \\u2013 Hipsters On The Road #01\"], [\"Machine Learning \\u2013 Hipsters #89\"], [\"Linguagens Funcionais \\u2013 Hipsters #91\"], [\"Agile Trends: Lean Inception, Kanban, Comunidades \\u2013 Hipsters On The Road #02\"], [\"Ideias para TCCs e Projetos \\u2013 Hipsters #92\"], [\"Mitos de UX \\u2013 Hipsters #93\"], [\"Sele\\u00e7\\u00e3o e Contrata\\u00e7\\u00e3o de Times de Tecnologia \\u2013 Hipsters #94\"], [\"Breve Historia da Implanta\\u00e7\\u00e3o de Sistemas na Web \\u2013 Hipsters #95\"], [\"Desenvolvimento de Jogos Indie \\u2013 Hipsters #96\"], [\"Vida de Consultoria \\u2013 Hipsters #97\"], [\"Fake News \\u2013 Hipsters #98\"], [\"Por tr\\u00e1s do Hipsters: Caelum, Alura e Casa do C\\u00f3digo \\u2013 Hipsters #100\"], [\"Android P, Intelig\\u00eancia Artificial e Google I/O \\u2013 Hipsters #101\"], [\"Apps para SmartTVs \\u2013 Hipsters #102\"], [\"Edi\\u00e7\\u00e3o de V\\u00eddeo: Efeitos Especiais \\u2013 Hipsters #103\"], [\"Um pouco de compiladores \\u2013 Hipsters #105\"], [\"Casos bacanas de Data Science \\u2013 Hipsters #106\"], [\"Tecnologias e Transforma\\u00e7\\u00e3o Digital no Magazine Luiza \\u2013 Hipsters #107\"], [\"ASP.NET Core \\u2013 Hipsters #108\"], [\"Git e Github \\u2013 Hipsters #109\"], [\"Kotlin, Android e al\\u00e9m \\u2013 Hipsters #110\"], [\"Trabalho Remoto \\u2013 Hipsters #111\"], [\"Startupismo da Real \\u2013 Hipsters #112\"], [\"Grandes livros de Tecnologia \\u2013 Hipsters #113\"], [\"Performance e Otimiza\\u00e7\\u00f5es na Web \\u2013 Hipsters #114\"], [\"Scrum e Agile para al\\u00e9m de Tecnologia \\u2013 Hipsters #115\"], [\"Como \\u00e9 trabalhar no Nubank? \\u2013 Hipsters On The Road #04\"], [\"Softwares de Defesa \\u2013 Hipsters #116\"], [\"Realidade Aumentada \\u2013 Hipsters #117\"], [\"Mainframe e desenvolvimento raiz \\u2013 Hipsters #118\"], [\"Java EE e Jakarta EE \\u2013 Hipsters #119\"], [\"Desenvolvimento iOS com Swift \\u2013 Hipsters #120\"], [\"Eventos de Tecnologia \\u2013 Hipsters #121\"], [\"Hist\\u00f3rias de Black Friday \\u2013 Hipsters #123\"], [\"Trabalhando na Irlanda \\u2013 Hipsters #124\"], [\"Mais produtividade \\u2013 Hipsters #125\"], [\"M\\u00fasica e tecnologia \\u2013 Hipsters #126\"], [\"Inbound marketing \\u2013 Hipsters #127\"], [\"Come\\u00e7o de carreira \\u2013 Hipsters #128\"], [\"Chatbots e jornada do usu\\u00e1rio \\u2013 Hipsters #130\"], [\"Qualidade e Software no Ita\\u00fa \\u2013 Hipsters #131\"], [\"Lua, Brasil e Games \\u2013 Hipsters #132\"], [\"Podcasts, Jornalismo e CBN \\u2013 Hipsters #133\"], [\"Primeiros Passos em Data Science: Do Excel e BI ao Python \\u2013 Hipsters #134\"], [\"Carros El\\u00e9tricos e Programa\\u00e7\\u00e3o \\u2013 Hipsters #135\"], [\"Tecnologias no Banco BTG \\u2013 Hipsters #136\"], [\"Desafios em Machine Learning \\u2013 Hipsters #137\"], [\"Vida, Carreira e Perrengues no Exterior \\u2013 Hipsters #138\"], [\"Design Thinking \\u2013 Hipsters #139\"], [\"Como \\u00e9 trabalhar na iFood, Wavy, Sympla e grupo Movile? \\u2013 Hipsters On The Road #05\"], [\"Automa\\u00e7\\u00e3o residencial \\u2013 Hipsters #140\"], [\"ERPs, Arquiteturas e TOTVS \\u2013 Hipsters Ponto Tech #141\"], [\"Angular vs React \\u2013 Hipsters #142\"], [\"Canais de Tecnologia no Youtube \\u2013 Hipsters #143\"], [\"Tend\\u00eancias em Tecnologia pra 2020 \\u2013 Hipsters #144\"], [\"Tecnologias no MercadoLivre \\u2013 Hipsters Ponto Tech #145\"], [\"Microsservi\\u00e7os na Caelum \\u2013 Hipsters On The Road #6\"], [\"Assistentes de voz: Futuro sem telas? \\u2013 Hipsters Ponto Tech #146\"], [\"Business Agility \\u2013 Hipsters #147\"], [\"Estrat\\u00e9gias de migra\\u00e7\\u00e3o de dados no Elo7 \\u2013 Hipsters On The Road #07\"], [\"React Native \\u2013 Hipsters #148\"], [\"Data Science, Engenharia, Design e Produto no Grupo Zap \\u2013 Hipsters On The Road #08\"], [\"Squads e Agilidade no Magazine Luiza \\u2013 Hipsters Ponto Tech #149\"], [\"Tecnologias no Nubank: 3 anos depois \\u2013 Hipsters #150\"], [\"Tecnologia e Produto no Instagram \\u2013 Hipsters #151\"], [\"Vue.js na Wirecard \\u2013 Hipsters On The Road #09\"], [\"Overengineering \\u2013 Hipsters #152\"], [\"Ecossistemas de Startups no Inovabra \\u2013 Hipsters Ponto Tech #153\"], [\"Microsservi\\u00e7os aut\\u00f4nomos na Usabilla \\u2013 Hipsters On The Road #10\"], [\"Testes de Software e Intelig\\u00eancia Artificial \\u2013 Hipsters #154\"], [\"Node, Serverless, Elixir: a stack da Kovi \\u2013 Hipsters On The Road #11\"], [\"Neg\\u00f3cios e Inova\\u00e7\\u00e3o Digital na Natura \\u2013 Hipsters #155\"], [\"Vida e Obra: John Carmack \\u2013 Hipsters Ponto Tech #156\"], [\"Gest\\u00e3o de Pessoas \\u2013 Hipsters #157\"], [\"Microsservi\\u00e7os na Monkey Exchange \\u2013 Hipsters On The Road #12\"], [\"Programa\\u00e7\\u00e3o Funcional (e (clojure)) \\u2013 Hipsters #158\"], [\"Seguran\\u00e7a da Informa\\u00e7\\u00e3o: muito al\\u00e9m do Telegram \\u2013 Hipsters #159\"]], \"hoverlabel\": {\"namelength\": 0}, \"hovertemplate\": \"semanas_desde_o_primeiro_episodio=%{x}<br>comentario=%{y}<br>titulo=%{customdata[0]}\", \"legendgroup\": \"\", \"marker\": {\"color\": \"#636efa\", \"symbol\": \"circle\"}, \"mode\": \"markers\", \"name\": \"\", \"showlegend\": false, \"type\": \"scatter\", \"x\": [0, 1, 2, 3, 4, 5, 6, 7, 8, 9, 10, 11, 12, 13, 14, 15, 16, 17, 18, 19, 20, 21, 22, 23, 24, 25, 26, 27, 28, 29, 30, 31, 32, 33, 34, 35, 36, 37, 38, 39, 40, 41, 42, 43, 44, 45, 46, 47, 48, 49, 50, 51, 52, 53, 54, 55, 56, 57, 58, 59, 60, 61, 62, 63, 64, 65, 66, 67, 68, 69, 70, 71, 72, 73, 74, 75, 76, 77, 78, 79, 80, 81, 82, 83, 84, 85, 86, 87, 88, 89, 90, 91, 92, 93, 94, 95, 96, 97, 98, 99, 100, 101, 102, 103, 104, 105, 106, 107, 108, 109, 110, 111, 112, 113, 114, 115, 116, 117, 118, 119, 120, 121, 122, 123, 124, 125, 126, 127, 128, 129, 130, 131, 132, 133, 134, 135, 136, 137, 138, 139, 140, 141, 142, 143, 144, 145, 146, 147, 148, 149, 150, 151, 152, 153, 154, 155, 156, 157, 158, 159, 160, 161, 162], \"xaxis\": \"x\", \"y\": [147, 27, 107, 40, 34, 44, 25, 22, 35, 24, 32, 31, 35, 47, 20, 55, 42, 34, 45, 14, 29, 26, 7, 28, 20, 31, 53, 38, 27, 12, 101, 35, 37, 76, 8, 69, 30, 88, 31, 17, 33, 38, 33, 21, 25, 54, 57, 36, 32, 34, 59, 53, 19, 34, 16, 39, 20, 42, 29, 9, 32, 32, 20, 20, 28, 54, 33, 17, 29, 42, 35, 13, 40, 18, 35, 92, 35, 14, 8, 18, 35, 21, 12, 22, 35, 58, 15, 17, 14, 11, 30, 15, 15, 25, 13, 17, 6, 39, 20, 10, 8, 36, 18, 7, 15, 20, 34, 36, 56, 72, 9, 9, 9, 14, 2, 36, 16, 14, 23, 16, 19, 16, 10, 2, 20, 8, 8, 12, 5, 24, 11, 14, 18, 12, 5, 3, 14, 18, 36, 20, 78, 7, 16, 7, 6, 1, 43, 1, 7, 21, 10, 5, 26, 3, 8, 15, 2, 3, 15, 6, 16, 18, 2], \"yaxis\": \"y\"}, {\"hoverlabel\": {\"namelength\": 0}, \"hovertemplate\": \"<b>OLS trendline</b><br>comentario = -0.221039 * semanas_desde_o_primeiro_episodio + 44.848945<br>R<sup>2</sup>=0.233177<br><br>semanas_desde_o_primeiro_episodio=%{x}<br>comentario=%{y} <b>(trend)</b>\", \"legendgroup\": \"\", \"marker\": {\"color\": \"#636efa\", \"symbol\": \"circle\"}, \"mode\": \"lines\", \"name\": \"\", \"showlegend\": false, \"type\": \"scatter\", \"x\": [0, 1, 2, 3, 4, 5, 6, 7, 8, 9, 10, 11, 12, 13, 14, 15, 16, 17, 18, 19, 20, 21, 22, 23, 24, 25, 26, 27, 28, 29, 30, 31, 32, 33, 34, 35, 36, 37, 38, 39, 40, 41, 42, 43, 44, 45, 46, 47, 48, 49, 50, 51, 52, 53, 54, 55, 56, 57, 58, 59, 60, 61, 62, 63, 64, 65, 66, 67, 68, 69, 70, 71, 72, 73, 74, 75, 76, 77, 78, 79, 80, 81, 82, 83, 84, 85, 86, 87, 88, 89, 90, 91, 92, 93, 94, 95, 96, 97, 98, 99, 100, 101, 102, 103, 104, 105, 106, 107, 108, 109, 110, 111, 112, 113, 114, 115, 116, 117, 118, 119, 120, 121, 122, 123, 124, 125, 126, 127, 128, 129, 130, 131, 132, 133, 134, 135, 136, 137, 138, 139, 140, 141, 142, 143, 144, 145, 146, 147, 148, 149, 150, 151, 152, 153, 154, 155, 156, 157, 158, 159, 160, 161, 162], \"xaxis\": \"x\", \"y\": [44.848945084542855, 44.62790607456175, 44.40686706458065, 44.18582805459955, 43.96478904461845, 43.743750034637344, 43.522711024656246, 43.30167201467514, 43.08063300469404, 42.85959399471294, 42.63855498473184, 42.417515974750735, 42.19647696476964, 41.97543795478853, 41.754398944807434, 41.53335993482633, 41.312320924845224, 41.091281914864126, 40.87024290488302, 40.64920389490192, 40.42816488492082, 40.20712587493972, 39.986086864958615, 39.76504785497752, 39.54400884499641, 39.322969835015314, 39.10193082503421, 38.88089181505311, 38.659852805072006, 38.43881379509091, 38.2177747851098, 37.9967357751287, 37.7756967651476, 37.5546577551665, 37.3336187451854, 37.11257973520429, 36.891540725223194, 36.67050171524209, 36.44946270526099, 36.228423695279886, 36.00738468529879, 35.78634567531768, 35.565306665336585, 35.34426765535548, 35.12322864537438, 34.90218963539328, 34.68115062541217, 34.460111615431074, 34.23907260544998, 34.01803359546887, 33.79699458548777, 33.57595557550667, 33.35491656552557, 33.133877555544466, 32.91283854556336, 32.69179953558226, 32.47076052560116, 32.24972151562006, 32.028682505638955, 31.807643495657857, 31.58660448567675, 31.36556547569565, 31.14452646571455, 30.923487455733447, 30.702448445752346, 30.481409435771244, 30.260370425790143, 30.03933141580904, 29.81829240582794, 29.597253395846835, 29.376214385865737, 29.15517537588463, 28.934136365903534, 28.71309735592243, 28.492058345941327, 28.271019335960226, 28.049980325979124, 27.828941315998023, 27.60790230601692, 27.38686329603582, 27.16582428605472, 26.944785276073617, 26.723746266092515, 26.502707256111414, 26.281668246130312, 26.06062923614921, 25.83959022616811, 25.618551216187008, 25.397512206205903, 25.1764731962248, 24.9554341862437, 24.7343951762626, 24.513356166281497, 24.292317156300395, 24.071278146319294, 23.850239136338192, 23.62920012635709, 23.40816111637599, 23.187122106394888, 22.966083096413787, 22.745044086432685, 22.524005076451584, 22.302966066470482, 22.08192705648938, 21.86088804650828, 21.639849036527174, 21.418810026546073, 21.19777101656497, 20.97673200658387, 20.755692996602768, 20.534653986621667, 20.313614976640565, 20.092575966659464, 19.871536956678362, 19.65049794669726, 19.42945893671616, 19.208419926735058, 18.987380916753956, 18.766341906772855, 18.545302896791753, 18.324263886810648, 18.103224876829547, 17.882185866848445, 17.661146856867344, 17.440107846886242, 17.21906883690514, 16.99802982692404, 16.776990816942938, 16.555951806961836, 16.334912796980735, 16.113873786999633, 15.892834777018532, 15.67179576703743, 15.450756757056329, 15.229717747075227, 15.008678737094126, 14.787639727113024, 14.56660071713192, 14.345561707150818, 14.124522697169716, 13.903483687188615, 13.682444677207513, 13.461405667226412, 13.24036665724531, 13.019327647264209, 12.798288637283108, 12.577249627302002, 12.356210617320905, 12.1351716073398, 11.914132597358702, 11.693093587377597, 11.472054577396499, 11.251015567415394, 11.029976557434296, 10.80893754745319, 10.587898537472093, 10.366859527490988, 10.14582051750989, 9.924781507528785, 9.703742497547687, 9.482703487566582, 9.261664477585477, 9.040625467604379], \"yaxis\": \"y\"}],\n",
       "                        {\"height\": 600, \"legend\": {\"tracegroupgap\": 0}, \"margin\": {\"t\": 60}, \"template\": {\"data\": {\"bar\": [{\"error_x\": {\"color\": \"#2a3f5f\"}, \"error_y\": {\"color\": \"#2a3f5f\"}, \"marker\": {\"line\": {\"color\": \"#E5ECF6\", \"width\": 0.5}}, \"type\": \"bar\"}], \"barpolar\": [{\"marker\": {\"line\": {\"color\": \"#E5ECF6\", \"width\": 0.5}}, \"type\": \"barpolar\"}], \"carpet\": [{\"aaxis\": {\"endlinecolor\": \"#2a3f5f\", \"gridcolor\": \"white\", \"linecolor\": \"white\", \"minorgridcolor\": \"white\", \"startlinecolor\": \"#2a3f5f\"}, \"baxis\": {\"endlinecolor\": \"#2a3f5f\", \"gridcolor\": \"white\", \"linecolor\": \"white\", \"minorgridcolor\": \"white\", \"startlinecolor\": \"#2a3f5f\"}, \"type\": \"carpet\"}], \"choropleth\": [{\"colorbar\": {\"outlinewidth\": 0, \"ticks\": \"\"}, \"type\": \"choropleth\"}], \"contour\": [{\"colorbar\": {\"outlinewidth\": 0, \"ticks\": \"\"}, \"colorscale\": [[0.0, \"#0d0887\"], [0.1111111111111111, \"#46039f\"], [0.2222222222222222, \"#7201a8\"], [0.3333333333333333, \"#9c179e\"], [0.4444444444444444, \"#bd3786\"], [0.5555555555555556, \"#d8576b\"], [0.6666666666666666, \"#ed7953\"], [0.7777777777777778, \"#fb9f3a\"], [0.8888888888888888, \"#fdca26\"], [1.0, \"#f0f921\"]], \"type\": \"contour\"}], \"contourcarpet\": [{\"colorbar\": {\"outlinewidth\": 0, \"ticks\": \"\"}, \"type\": \"contourcarpet\"}], \"heatmap\": [{\"colorbar\": {\"outlinewidth\": 0, \"ticks\": \"\"}, \"colorscale\": [[0.0, \"#0d0887\"], [0.1111111111111111, \"#46039f\"], [0.2222222222222222, \"#7201a8\"], [0.3333333333333333, \"#9c179e\"], [0.4444444444444444, \"#bd3786\"], [0.5555555555555556, \"#d8576b\"], [0.6666666666666666, \"#ed7953\"], [0.7777777777777778, \"#fb9f3a\"], [0.8888888888888888, \"#fdca26\"], [1.0, \"#f0f921\"]], \"type\": \"heatmap\"}], \"heatmapgl\": [{\"colorbar\": {\"outlinewidth\": 0, \"ticks\": \"\"}, \"colorscale\": [[0.0, \"#0d0887\"], [0.1111111111111111, \"#46039f\"], [0.2222222222222222, \"#7201a8\"], [0.3333333333333333, \"#9c179e\"], [0.4444444444444444, \"#bd3786\"], [0.5555555555555556, \"#d8576b\"], [0.6666666666666666, \"#ed7953\"], [0.7777777777777778, \"#fb9f3a\"], [0.8888888888888888, \"#fdca26\"], [1.0, \"#f0f921\"]], \"type\": \"heatmapgl\"}], \"histogram\": [{\"marker\": {\"colorbar\": {\"outlinewidth\": 0, \"ticks\": \"\"}}, \"type\": \"histogram\"}], \"histogram2d\": [{\"colorbar\": {\"outlinewidth\": 0, \"ticks\": \"\"}, \"colorscale\": [[0.0, \"#0d0887\"], [0.1111111111111111, \"#46039f\"], [0.2222222222222222, \"#7201a8\"], [0.3333333333333333, \"#9c179e\"], [0.4444444444444444, \"#bd3786\"], [0.5555555555555556, \"#d8576b\"], [0.6666666666666666, \"#ed7953\"], [0.7777777777777778, \"#fb9f3a\"], [0.8888888888888888, \"#fdca26\"], [1.0, \"#f0f921\"]], \"type\": \"histogram2d\"}], \"histogram2dcontour\": [{\"colorbar\": {\"outlinewidth\": 0, \"ticks\": \"\"}, \"colorscale\": [[0.0, \"#0d0887\"], [0.1111111111111111, \"#46039f\"], [0.2222222222222222, \"#7201a8\"], [0.3333333333333333, \"#9c179e\"], [0.4444444444444444, \"#bd3786\"], [0.5555555555555556, \"#d8576b\"], [0.6666666666666666, \"#ed7953\"], [0.7777777777777778, \"#fb9f3a\"], [0.8888888888888888, \"#fdca26\"], [1.0, \"#f0f921\"]], \"type\": \"histogram2dcontour\"}], \"mesh3d\": [{\"colorbar\": {\"outlinewidth\": 0, \"ticks\": \"\"}, \"type\": \"mesh3d\"}], \"parcoords\": [{\"line\": {\"colorbar\": {\"outlinewidth\": 0, \"ticks\": \"\"}}, \"type\": \"parcoords\"}], \"scatter\": [{\"marker\": {\"colorbar\": {\"outlinewidth\": 0, \"ticks\": \"\"}}, \"type\": \"scatter\"}], \"scatter3d\": [{\"line\": {\"colorbar\": {\"outlinewidth\": 0, \"ticks\": \"\"}}, \"marker\": {\"colorbar\": {\"outlinewidth\": 0, \"ticks\": \"\"}}, \"type\": \"scatter3d\"}], \"scattercarpet\": [{\"marker\": {\"colorbar\": {\"outlinewidth\": 0, \"ticks\": \"\"}}, \"type\": \"scattercarpet\"}], \"scattergeo\": [{\"marker\": {\"colorbar\": {\"outlinewidth\": 0, \"ticks\": \"\"}}, \"type\": \"scattergeo\"}], \"scattergl\": [{\"marker\": {\"colorbar\": {\"outlinewidth\": 0, \"ticks\": \"\"}}, \"type\": \"scattergl\"}], \"scattermapbox\": [{\"marker\": {\"colorbar\": {\"outlinewidth\": 0, \"ticks\": \"\"}}, \"type\": \"scattermapbox\"}], \"scatterpolar\": [{\"marker\": {\"colorbar\": {\"outlinewidth\": 0, \"ticks\": \"\"}}, \"type\": \"scatterpolar\"}], \"scatterpolargl\": [{\"marker\": {\"colorbar\": {\"outlinewidth\": 0, \"ticks\": \"\"}}, \"type\": \"scatterpolargl\"}], \"scatterternary\": [{\"marker\": {\"colorbar\": {\"outlinewidth\": 0, \"ticks\": \"\"}}, \"type\": \"scatterternary\"}], \"surface\": [{\"colorbar\": {\"outlinewidth\": 0, \"ticks\": \"\"}, \"colorscale\": [[0.0, \"#0d0887\"], [0.1111111111111111, \"#46039f\"], [0.2222222222222222, \"#7201a8\"], [0.3333333333333333, \"#9c179e\"], [0.4444444444444444, \"#bd3786\"], [0.5555555555555556, \"#d8576b\"], [0.6666666666666666, \"#ed7953\"], [0.7777777777777778, \"#fb9f3a\"], [0.8888888888888888, \"#fdca26\"], [1.0, \"#f0f921\"]], \"type\": \"surface\"}], \"table\": [{\"cells\": {\"fill\": {\"color\": \"#EBF0F8\"}, \"line\": {\"color\": \"white\"}}, \"header\": {\"fill\": {\"color\": \"#C8D4E3\"}, \"line\": {\"color\": \"white\"}}, \"type\": \"table\"}]}, \"layout\": {\"annotationdefaults\": {\"arrowcolor\": \"#2a3f5f\", \"arrowhead\": 0, \"arrowwidth\": 1}, \"colorscale\": {\"diverging\": [[0, \"#8e0152\"], [0.1, \"#c51b7d\"], [0.2, \"#de77ae\"], [0.3, \"#f1b6da\"], [0.4, \"#fde0ef\"], [0.5, \"#f7f7f7\"], [0.6, \"#e6f5d0\"], [0.7, \"#b8e186\"], [0.8, \"#7fbc41\"], [0.9, \"#4d9221\"], [1, \"#276419\"]], \"sequential\": [[0.0, \"#0d0887\"], [0.1111111111111111, \"#46039f\"], [0.2222222222222222, \"#7201a8\"], [0.3333333333333333, \"#9c179e\"], [0.4444444444444444, \"#bd3786\"], [0.5555555555555556, \"#d8576b\"], [0.6666666666666666, \"#ed7953\"], [0.7777777777777778, \"#fb9f3a\"], [0.8888888888888888, \"#fdca26\"], [1.0, \"#f0f921\"]], \"sequentialminus\": [[0.0, \"#0d0887\"], [0.1111111111111111, \"#46039f\"], [0.2222222222222222, \"#7201a8\"], [0.3333333333333333, \"#9c179e\"], [0.4444444444444444, \"#bd3786\"], [0.5555555555555556, \"#d8576b\"], [0.6666666666666666, \"#ed7953\"], [0.7777777777777778, \"#fb9f3a\"], [0.8888888888888888, \"#fdca26\"], [1.0, \"#f0f921\"]]}, \"colorway\": [\"#636efa\", \"#EF553B\", \"#00cc96\", \"#ab63fa\", \"#FFA15A\", \"#19d3f3\", \"#FF6692\", \"#B6E880\", \"#FF97FF\", \"#FECB52\"], \"font\": {\"color\": \"#2a3f5f\"}, \"geo\": {\"bgcolor\": \"white\", \"lakecolor\": \"white\", \"landcolor\": \"#E5ECF6\", \"showlakes\": true, \"showland\": true, \"subunitcolor\": \"white\"}, \"hoverlabel\": {\"align\": \"left\"}, \"hovermode\": \"closest\", \"mapbox\": {\"style\": \"light\"}, \"paper_bgcolor\": \"white\", \"plot_bgcolor\": \"#E5ECF6\", \"polar\": {\"angularaxis\": {\"gridcolor\": \"white\", \"linecolor\": \"white\", \"ticks\": \"\"}, \"bgcolor\": \"#E5ECF6\", \"radialaxis\": {\"gridcolor\": \"white\", \"linecolor\": \"white\", \"ticks\": \"\"}}, \"scene\": {\"xaxis\": {\"backgroundcolor\": \"#E5ECF6\", \"gridcolor\": \"white\", \"gridwidth\": 2, \"linecolor\": \"white\", \"showbackground\": true, \"ticks\": \"\", \"zerolinecolor\": \"white\"}, \"yaxis\": {\"backgroundcolor\": \"#E5ECF6\", \"gridcolor\": \"white\", \"gridwidth\": 2, \"linecolor\": \"white\", \"showbackground\": true, \"ticks\": \"\", \"zerolinecolor\": \"white\"}, \"zaxis\": {\"backgroundcolor\": \"#E5ECF6\", \"gridcolor\": \"white\", \"gridwidth\": 2, \"linecolor\": \"white\", \"showbackground\": true, \"ticks\": \"\", \"zerolinecolor\": \"white\"}}, \"shapedefaults\": {\"line\": {\"color\": \"#2a3f5f\"}}, \"ternary\": {\"aaxis\": {\"gridcolor\": \"white\", \"linecolor\": \"white\", \"ticks\": \"\"}, \"baxis\": {\"gridcolor\": \"white\", \"linecolor\": \"white\", \"ticks\": \"\"}, \"bgcolor\": \"#E5ECF6\", \"caxis\": {\"gridcolor\": \"white\", \"linecolor\": \"white\", \"ticks\": \"\"}}, \"title\": {\"x\": 0.05}, \"xaxis\": {\"automargin\": true, \"gridcolor\": \"white\", \"linecolor\": \"white\", \"ticks\": \"\", \"zerolinecolor\": \"white\", \"zerolinewidth\": 2}, \"yaxis\": {\"automargin\": true, \"gridcolor\": \"white\", \"linecolor\": \"white\", \"ticks\": \"\", \"zerolinecolor\": \"white\", \"zerolinewidth\": 2}}}, \"xaxis\": {\"anchor\": \"y\", \"domain\": [0.0, 0.98], \"title\": {\"text\": \"semanas_desde_o_primeiro_episodio\"}}, \"yaxis\": {\"anchor\": \"x\", \"domain\": [0.0, 1.0], \"title\": {\"text\": \"comentario\"}}},\n",
       "                        {\"responsive\": true}\n",
       "                    ).then(function(){\n",
       "                            \n",
       "var gd = document.getElementById('c0deacbd-b21a-4d6d-a411-ba9a117de267');\n",
       "var x = new MutationObserver(function (mutations, observer) {{\n",
       "        var display = window.getComputedStyle(gd).display;\n",
       "        if (!display || display === 'none') {{\n",
       "            console.log([gd, 'removed!']);\n",
       "            Plotly.purge(gd);\n",
       "            observer.disconnect();\n",
       "        }}\n",
       "}});\n",
       "\n",
       "// Listen for the removal of the full notebook cells\n",
       "var notebookContainer = gd.closest('#notebook-container');\n",
       "if (notebookContainer) {{\n",
       "    x.observe(notebookContainer, {childList: true});\n",
       "}}\n",
       "\n",
       "// Listen for the clearing of the current output cell\n",
       "var outputEl = gd.closest('.output');\n",
       "if (outputEl) {{\n",
       "    x.observe(outputEl, {childList: true});\n",
       "}}\n",
       "\n",
       "                        })\n",
       "                };\n",
       "                });\n",
       "            </script>\n",
       "        </div>"
      ]
     },
     "metadata": {},
     "output_type": "display_data"
    }
   ],
   "source": [
    "grouped_df = df.groupby(['titulo', 'data']).count().reset_index().sort_values('data').reset_index()\n",
    "grouped_df['semanas_desde_o_primeiro_episodio'] = grouped_df.index\n",
    "px.scatter(grouped_df, x='semanas_desde_o_primeiro_episodio', y='comentario', hover_data=['titulo'], trendline='ols')"
   ]
  },
  {
   "cell_type": "markdown",
   "metadata": {},
   "source": [
    "# Algumas análises, ainda em uma visão geral.\n",
    "\n",
    "## 1. Quais assuntos geram mais engajamento do público?\n",
    "\n",
    "Engajamento é algo muito mais abrangente (e subjetivo) do que a qtde. de comentários, mas é o dado que temos pra hoje. Nós podemos agrupar por tags (cada episódio possui uma ou mais tags) para descobrir os assuntos que gera mais engajamento do público.\n",
    "\n",
    "Na esquerda é mostrado uma contagem absoluta, e na direita a média por tag. A contagem não é legal porque existem, por exemplo, muito mais episódios sobre programação do que startup, fazendo a qtde. de comentários ser maior. Se a gente tirar a média, a qtde. de comentários é normalizada pela qtde. de episódios, o que gera uma métrica igual para todas as tags.\n",
    "\n",
    "*Web*, *front-end*, *mobile* e *infra* são os 4 assuntos mais comentados, e *edição de vídeo* ficou por último."
   ]
  },
  {
   "cell_type": "code",
   "execution_count": 25,
   "metadata": {},
   "outputs": [
    {
     "data": {
      "application/vnd.plotly.v1+json": {
       "config": {
        "plotlyServerURL": "https://plot.ly"
       },
       "data": [
        {
         "name": "Total de comentários por tag",
         "orientation": "h",
         "type": "bar",
         "x": [
          8,
          29,
          45,
          58,
          82,
          87,
          96,
          119,
          217,
          241,
          311,
          336,
          441,
          474,
          610,
          670,
          675,
          696,
          2632
         ],
         "xaxis": "x",
         "y": [
          "edição de vídeo",
          "ux",
          "marketing",
          "hardware",
          "gerais",
          "games",
          "devops",
          "design",
          "design & ux",
          "infra",
          "agilidade",
          "mobile",
          "business",
          "infraestrutura",
          "web",
          "carreira",
          "front-end",
          "startup",
          "programação"
         ],
         "yaxis": "y"
        },
        {
         "name": "Média de comentários por tag",
         "orientation": "h",
         "type": "bar",
         "x": [
          8,
          15,
          21.75,
          23.210526315789473,
          23.923076923076923,
          24,
          24.11111111111111,
          26.333333333333332,
          26.76923076923077,
          26.94478527607362,
          27.333333333333332,
          27.705263157894738,
          27.916666666666668,
          29,
          29,
          29.75,
          34.42857142857143,
          37.333333333333336,
          39.705882352941174,
          50.833333333333336
         ],
         "xaxis": "x2",
         "y": [
          "edição de vídeo",
          "marketing",
          "games",
          "business",
          "agilidade",
          "devops",
          "design & ux",
          "infraestrutura",
          "startup",
          "Podcast",
          "gerais",
          "programação",
          "carreira",
          "hardware",
          "ux",
          "design",
          "infra",
          "mobile",
          "front-end",
          "web"
         ],
         "yaxis": "y2"
        }
       ],
       "layout": {
        "autosize": true,
        "template": {
         "data": {
          "bar": [
           {
            "error_x": {
             "color": "#2a3f5f"
            },
            "error_y": {
             "color": "#2a3f5f"
            },
            "marker": {
             "line": {
              "color": "#E5ECF6",
              "width": 0.5
             }
            },
            "type": "bar"
           }
          ],
          "barpolar": [
           {
            "marker": {
             "line": {
              "color": "#E5ECF6",
              "width": 0.5
             }
            },
            "type": "barpolar"
           }
          ],
          "carpet": [
           {
            "aaxis": {
             "endlinecolor": "#2a3f5f",
             "gridcolor": "white",
             "linecolor": "white",
             "minorgridcolor": "white",
             "startlinecolor": "#2a3f5f"
            },
            "baxis": {
             "endlinecolor": "#2a3f5f",
             "gridcolor": "white",
             "linecolor": "white",
             "minorgridcolor": "white",
             "startlinecolor": "#2a3f5f"
            },
            "type": "carpet"
           }
          ],
          "choropleth": [
           {
            "colorbar": {
             "outlinewidth": 0,
             "ticks": ""
            },
            "type": "choropleth"
           }
          ],
          "contour": [
           {
            "colorbar": {
             "outlinewidth": 0,
             "ticks": ""
            },
            "colorscale": [
             [
              0,
              "#0d0887"
             ],
             [
              0.1111111111111111,
              "#46039f"
             ],
             [
              0.2222222222222222,
              "#7201a8"
             ],
             [
              0.3333333333333333,
              "#9c179e"
             ],
             [
              0.4444444444444444,
              "#bd3786"
             ],
             [
              0.5555555555555556,
              "#d8576b"
             ],
             [
              0.6666666666666666,
              "#ed7953"
             ],
             [
              0.7777777777777778,
              "#fb9f3a"
             ],
             [
              0.8888888888888888,
              "#fdca26"
             ],
             [
              1,
              "#f0f921"
             ]
            ],
            "type": "contour"
           }
          ],
          "contourcarpet": [
           {
            "colorbar": {
             "outlinewidth": 0,
             "ticks": ""
            },
            "type": "contourcarpet"
           }
          ],
          "heatmap": [
           {
            "colorbar": {
             "outlinewidth": 0,
             "ticks": ""
            },
            "colorscale": [
             [
              0,
              "#0d0887"
             ],
             [
              0.1111111111111111,
              "#46039f"
             ],
             [
              0.2222222222222222,
              "#7201a8"
             ],
             [
              0.3333333333333333,
              "#9c179e"
             ],
             [
              0.4444444444444444,
              "#bd3786"
             ],
             [
              0.5555555555555556,
              "#d8576b"
             ],
             [
              0.6666666666666666,
              "#ed7953"
             ],
             [
              0.7777777777777778,
              "#fb9f3a"
             ],
             [
              0.8888888888888888,
              "#fdca26"
             ],
             [
              1,
              "#f0f921"
             ]
            ],
            "type": "heatmap"
           }
          ],
          "heatmapgl": [
           {
            "colorbar": {
             "outlinewidth": 0,
             "ticks": ""
            },
            "colorscale": [
             [
              0,
              "#0d0887"
             ],
             [
              0.1111111111111111,
              "#46039f"
             ],
             [
              0.2222222222222222,
              "#7201a8"
             ],
             [
              0.3333333333333333,
              "#9c179e"
             ],
             [
              0.4444444444444444,
              "#bd3786"
             ],
             [
              0.5555555555555556,
              "#d8576b"
             ],
             [
              0.6666666666666666,
              "#ed7953"
             ],
             [
              0.7777777777777778,
              "#fb9f3a"
             ],
             [
              0.8888888888888888,
              "#fdca26"
             ],
             [
              1,
              "#f0f921"
             ]
            ],
            "type": "heatmapgl"
           }
          ],
          "histogram": [
           {
            "marker": {
             "colorbar": {
              "outlinewidth": 0,
              "ticks": ""
             }
            },
            "type": "histogram"
           }
          ],
          "histogram2d": [
           {
            "colorbar": {
             "outlinewidth": 0,
             "ticks": ""
            },
            "colorscale": [
             [
              0,
              "#0d0887"
             ],
             [
              0.1111111111111111,
              "#46039f"
             ],
             [
              0.2222222222222222,
              "#7201a8"
             ],
             [
              0.3333333333333333,
              "#9c179e"
             ],
             [
              0.4444444444444444,
              "#bd3786"
             ],
             [
              0.5555555555555556,
              "#d8576b"
             ],
             [
              0.6666666666666666,
              "#ed7953"
             ],
             [
              0.7777777777777778,
              "#fb9f3a"
             ],
             [
              0.8888888888888888,
              "#fdca26"
             ],
             [
              1,
              "#f0f921"
             ]
            ],
            "type": "histogram2d"
           }
          ],
          "histogram2dcontour": [
           {
            "colorbar": {
             "outlinewidth": 0,
             "ticks": ""
            },
            "colorscale": [
             [
              0,
              "#0d0887"
             ],
             [
              0.1111111111111111,
              "#46039f"
             ],
             [
              0.2222222222222222,
              "#7201a8"
             ],
             [
              0.3333333333333333,
              "#9c179e"
             ],
             [
              0.4444444444444444,
              "#bd3786"
             ],
             [
              0.5555555555555556,
              "#d8576b"
             ],
             [
              0.6666666666666666,
              "#ed7953"
             ],
             [
              0.7777777777777778,
              "#fb9f3a"
             ],
             [
              0.8888888888888888,
              "#fdca26"
             ],
             [
              1,
              "#f0f921"
             ]
            ],
            "type": "histogram2dcontour"
           }
          ],
          "mesh3d": [
           {
            "colorbar": {
             "outlinewidth": 0,
             "ticks": ""
            },
            "type": "mesh3d"
           }
          ],
          "parcoords": [
           {
            "line": {
             "colorbar": {
              "outlinewidth": 0,
              "ticks": ""
             }
            },
            "type": "parcoords"
           }
          ],
          "scatter": [
           {
            "marker": {
             "colorbar": {
              "outlinewidth": 0,
              "ticks": ""
             }
            },
            "type": "scatter"
           }
          ],
          "scatter3d": [
           {
            "line": {
             "colorbar": {
              "outlinewidth": 0,
              "ticks": ""
             }
            },
            "marker": {
             "colorbar": {
              "outlinewidth": 0,
              "ticks": ""
             }
            },
            "type": "scatter3d"
           }
          ],
          "scattercarpet": [
           {
            "marker": {
             "colorbar": {
              "outlinewidth": 0,
              "ticks": ""
             }
            },
            "type": "scattercarpet"
           }
          ],
          "scattergeo": [
           {
            "marker": {
             "colorbar": {
              "outlinewidth": 0,
              "ticks": ""
             }
            },
            "type": "scattergeo"
           }
          ],
          "scattergl": [
           {
            "marker": {
             "colorbar": {
              "outlinewidth": 0,
              "ticks": ""
             }
            },
            "type": "scattergl"
           }
          ],
          "scattermapbox": [
           {
            "marker": {
             "colorbar": {
              "outlinewidth": 0,
              "ticks": ""
             }
            },
            "type": "scattermapbox"
           }
          ],
          "scatterpolar": [
           {
            "marker": {
             "colorbar": {
              "outlinewidth": 0,
              "ticks": ""
             }
            },
            "type": "scatterpolar"
           }
          ],
          "scatterpolargl": [
           {
            "marker": {
             "colorbar": {
              "outlinewidth": 0,
              "ticks": ""
             }
            },
            "type": "scatterpolargl"
           }
          ],
          "scatterternary": [
           {
            "marker": {
             "colorbar": {
              "outlinewidth": 0,
              "ticks": ""
             }
            },
            "type": "scatterternary"
           }
          ],
          "surface": [
           {
            "colorbar": {
             "outlinewidth": 0,
             "ticks": ""
            },
            "colorscale": [
             [
              0,
              "#0d0887"
             ],
             [
              0.1111111111111111,
              "#46039f"
             ],
             [
              0.2222222222222222,
              "#7201a8"
             ],
             [
              0.3333333333333333,
              "#9c179e"
             ],
             [
              0.4444444444444444,
              "#bd3786"
             ],
             [
              0.5555555555555556,
              "#d8576b"
             ],
             [
              0.6666666666666666,
              "#ed7953"
             ],
             [
              0.7777777777777778,
              "#fb9f3a"
             ],
             [
              0.8888888888888888,
              "#fdca26"
             ],
             [
              1,
              "#f0f921"
             ]
            ],
            "type": "surface"
           }
          ],
          "table": [
           {
            "cells": {
             "fill": {
              "color": "#EBF0F8"
             },
             "line": {
              "color": "white"
             }
            },
            "header": {
             "fill": {
              "color": "#C8D4E3"
             },
             "line": {
              "color": "white"
             }
            },
            "type": "table"
           }
          ]
         },
         "layout": {
          "annotationdefaults": {
           "arrowcolor": "#2a3f5f",
           "arrowhead": 0,
           "arrowwidth": 1
          },
          "colorscale": {
           "diverging": [
            [
             0,
             "#8e0152"
            ],
            [
             0.1,
             "#c51b7d"
            ],
            [
             0.2,
             "#de77ae"
            ],
            [
             0.3,
             "#f1b6da"
            ],
            [
             0.4,
             "#fde0ef"
            ],
            [
             0.5,
             "#f7f7f7"
            ],
            [
             0.6,
             "#e6f5d0"
            ],
            [
             0.7,
             "#b8e186"
            ],
            [
             0.8,
             "#7fbc41"
            ],
            [
             0.9,
             "#4d9221"
            ],
            [
             1,
             "#276419"
            ]
           ],
           "sequential": [
            [
             0,
             "#0d0887"
            ],
            [
             0.1111111111111111,
             "#46039f"
            ],
            [
             0.2222222222222222,
             "#7201a8"
            ],
            [
             0.3333333333333333,
             "#9c179e"
            ],
            [
             0.4444444444444444,
             "#bd3786"
            ],
            [
             0.5555555555555556,
             "#d8576b"
            ],
            [
             0.6666666666666666,
             "#ed7953"
            ],
            [
             0.7777777777777778,
             "#fb9f3a"
            ],
            [
             0.8888888888888888,
             "#fdca26"
            ],
            [
             1,
             "#f0f921"
            ]
           ],
           "sequentialminus": [
            [
             0,
             "#0d0887"
            ],
            [
             0.1111111111111111,
             "#46039f"
            ],
            [
             0.2222222222222222,
             "#7201a8"
            ],
            [
             0.3333333333333333,
             "#9c179e"
            ],
            [
             0.4444444444444444,
             "#bd3786"
            ],
            [
             0.5555555555555556,
             "#d8576b"
            ],
            [
             0.6666666666666666,
             "#ed7953"
            ],
            [
             0.7777777777777778,
             "#fb9f3a"
            ],
            [
             0.8888888888888888,
             "#fdca26"
            ],
            [
             1,
             "#f0f921"
            ]
           ]
          },
          "colorway": [
           "#636efa",
           "#EF553B",
           "#00cc96",
           "#ab63fa",
           "#FFA15A",
           "#19d3f3",
           "#FF6692",
           "#B6E880",
           "#FF97FF",
           "#FECB52"
          ],
          "font": {
           "color": "#2a3f5f"
          },
          "geo": {
           "bgcolor": "white",
           "lakecolor": "white",
           "landcolor": "#E5ECF6",
           "showlakes": true,
           "showland": true,
           "subunitcolor": "white"
          },
          "hoverlabel": {
           "align": "left"
          },
          "hovermode": "closest",
          "mapbox": {
           "style": "light"
          },
          "paper_bgcolor": "white",
          "plot_bgcolor": "#E5ECF6",
          "polar": {
           "angularaxis": {
            "gridcolor": "white",
            "linecolor": "white",
            "ticks": ""
           },
           "bgcolor": "#E5ECF6",
           "radialaxis": {
            "gridcolor": "white",
            "linecolor": "white",
            "ticks": ""
           }
          },
          "scene": {
           "xaxis": {
            "backgroundcolor": "#E5ECF6",
            "gridcolor": "white",
            "gridwidth": 2,
            "linecolor": "white",
            "showbackground": true,
            "ticks": "",
            "zerolinecolor": "white"
           },
           "yaxis": {
            "backgroundcolor": "#E5ECF6",
            "gridcolor": "white",
            "gridwidth": 2,
            "linecolor": "white",
            "showbackground": true,
            "ticks": "",
            "zerolinecolor": "white"
           },
           "zaxis": {
            "backgroundcolor": "#E5ECF6",
            "gridcolor": "white",
            "gridwidth": 2,
            "linecolor": "white",
            "showbackground": true,
            "ticks": "",
            "zerolinecolor": "white"
           }
          },
          "shapedefaults": {
           "line": {
            "color": "#2a3f5f"
           }
          },
          "ternary": {
           "aaxis": {
            "gridcolor": "white",
            "linecolor": "white",
            "ticks": ""
           },
           "baxis": {
            "gridcolor": "white",
            "linecolor": "white",
            "ticks": ""
           },
           "bgcolor": "#E5ECF6",
           "caxis": {
            "gridcolor": "white",
            "linecolor": "white",
            "ticks": ""
           }
          },
          "title": {
           "x": 0.05
          },
          "xaxis": {
           "automargin": true,
           "gridcolor": "white",
           "linecolor": "white",
           "ticks": "",
           "zerolinecolor": "white",
           "zerolinewidth": 2
          },
          "yaxis": {
           "automargin": true,
           "gridcolor": "white",
           "linecolor": "white",
           "ticks": "",
           "zerolinecolor": "white",
           "zerolinewidth": 2
          }
         }
        },
        "xaxis": {
         "anchor": "y",
         "autorange": true,
         "domain": [
          0,
          0.45
         ],
         "range": [
          0,
          2770.5263157894738
         ],
         "type": "linear"
        },
        "xaxis2": {
         "anchor": "y2",
         "autorange": true,
         "domain": [
          0.55,
          1
         ],
         "range": [
          0,
          53.50877192982456
         ],
         "type": "linear"
        },
        "yaxis": {
         "anchor": "x",
         "autorange": true,
         "domain": [
          0,
          1
         ],
         "range": [
          -0.5,
          18.5
         ],
         "type": "category"
        },
        "yaxis2": {
         "anchor": "x2",
         "autorange": true,
         "domain": [
          0,
          1
         ],
         "range": [
          -0.5,
          19.5
         ],
         "type": "category"
        }
       }
      },
      "image/png": "[encoded data removed]",
      "text/html": [
       "<div>\n",
       "        \n",
       "        \n",
       "            <div id=\"67b5b241-93bd-4282-aebd-edbb35421b04\" class=\"plotly-graph-div\" style=\"height:600px; width:100%;\"></div>\n",
       "            <script type=\"text/javascript\">\n",
       "                require([\"plotly\"], function(Plotly) {\n",
       "                    window.PLOTLYENV=window.PLOTLYENV || {};\n",
       "                    \n",
       "                if (document.getElementById(\"67b5b241-93bd-4282-aebd-edbb35421b04\")) {\n",
       "                    Plotly.newPlot(\n",
       "                        '67b5b241-93bd-4282-aebd-edbb35421b04',\n",
       "                        [{\"name\": \"Total de coment\\u00e1rios por tag\", \"orientation\": \"h\", \"type\": \"bar\", \"x\": [8, 29, 45, 58, 82, 87, 96, 119, 217, 241, 311, 336, 441, 474, 610, 670, 675, 696, 2632], \"xaxis\": \"x\", \"y\": [\"edi\\u00e7\\u00e3o de v\\u00eddeo\", \"ux\", \"marketing\", \"hardware\", \"gerais\", \"games\", \"devops\", \"design\", \"design & ux\", \"infra\", \"agilidade\", \"mobile\", \"business\", \"infraestrutura\", \"web\", \"carreira\", \"front-end\", \"startup\", \"programa\\u00e7\\u00e3o\"], \"yaxis\": \"y\"}, {\"name\": \"M\\u00e9dia de coment\\u00e1rios por tag\", \"orientation\": \"h\", \"type\": \"bar\", \"x\": [8.0, 15.0, 21.75, 23.210526315789473, 23.923076923076923, 24.0, 24.11111111111111, 26.333333333333332, 26.76923076923077, 26.94478527607362, 27.333333333333332, 27.705263157894738, 27.916666666666668, 29.0, 29.0, 29.75, 34.42857142857143, 37.333333333333336, 39.705882352941174, 50.833333333333336], \"xaxis\": \"x2\", \"y\": [\"edi\\u00e7\\u00e3o de v\\u00eddeo\", \"marketing\", \"games\", \"business\", \"agilidade\", \"devops\", \"design & ux\", \"infraestrutura\", \"startup\", \"Podcast\", \"gerais\", \"programa\\u00e7\\u00e3o\", \"carreira\", \"hardware\", \"ux\", \"design\", \"infra\", \"mobile\", \"front-end\", \"web\"], \"yaxis\": \"y2\"}],\n",
       "                        {\"height\": 600, \"template\": {\"data\": {\"bar\": [{\"error_x\": {\"color\": \"#2a3f5f\"}, \"error_y\": {\"color\": \"#2a3f5f\"}, \"marker\": {\"line\": {\"color\": \"#E5ECF6\", \"width\": 0.5}}, \"type\": \"bar\"}], \"barpolar\": [{\"marker\": {\"line\": {\"color\": \"#E5ECF6\", \"width\": 0.5}}, \"type\": \"barpolar\"}], \"carpet\": [{\"aaxis\": {\"endlinecolor\": \"#2a3f5f\", \"gridcolor\": \"white\", \"linecolor\": \"white\", \"minorgridcolor\": \"white\", \"startlinecolor\": \"#2a3f5f\"}, \"baxis\": {\"endlinecolor\": \"#2a3f5f\", \"gridcolor\": \"white\", \"linecolor\": \"white\", \"minorgridcolor\": \"white\", \"startlinecolor\": \"#2a3f5f\"}, \"type\": \"carpet\"}], \"choropleth\": [{\"colorbar\": {\"outlinewidth\": 0, \"ticks\": \"\"}, \"type\": \"choropleth\"}], \"contour\": [{\"colorbar\": {\"outlinewidth\": 0, \"ticks\": \"\"}, \"colorscale\": [[0.0, \"#0d0887\"], [0.1111111111111111, \"#46039f\"], [0.2222222222222222, \"#7201a8\"], [0.3333333333333333, \"#9c179e\"], [0.4444444444444444, \"#bd3786\"], [0.5555555555555556, \"#d8576b\"], [0.6666666666666666, \"#ed7953\"], [0.7777777777777778, \"#fb9f3a\"], [0.8888888888888888, \"#fdca26\"], [1.0, \"#f0f921\"]], \"type\": \"contour\"}], \"contourcarpet\": [{\"colorbar\": {\"outlinewidth\": 0, \"ticks\": \"\"}, \"type\": \"contourcarpet\"}], \"heatmap\": [{\"colorbar\": {\"outlinewidth\": 0, \"ticks\": \"\"}, \"colorscale\": [[0.0, \"#0d0887\"], [0.1111111111111111, \"#46039f\"], [0.2222222222222222, \"#7201a8\"], [0.3333333333333333, \"#9c179e\"], [0.4444444444444444, \"#bd3786\"], [0.5555555555555556, \"#d8576b\"], [0.6666666666666666, \"#ed7953\"], [0.7777777777777778, \"#fb9f3a\"], [0.8888888888888888, \"#fdca26\"], [1.0, \"#f0f921\"]], \"type\": \"heatmap\"}], \"heatmapgl\": [{\"colorbar\": {\"outlinewidth\": 0, \"ticks\": \"\"}, \"colorscale\": [[0.0, \"#0d0887\"], [0.1111111111111111, \"#46039f\"], [0.2222222222222222, \"#7201a8\"], [0.3333333333333333, \"#9c179e\"], [0.4444444444444444, \"#bd3786\"], [0.5555555555555556, \"#d8576b\"], [0.6666666666666666, \"#ed7953\"], [0.7777777777777778, \"#fb9f3a\"], [0.8888888888888888, \"#fdca26\"], [1.0, \"#f0f921\"]], \"type\": \"heatmapgl\"}], \"histogram\": [{\"marker\": {\"colorbar\": {\"outlinewidth\": 0, \"ticks\": \"\"}}, \"type\": \"histogram\"}], \"histogram2d\": [{\"colorbar\": {\"outlinewidth\": 0, \"ticks\": \"\"}, \"colorscale\": [[0.0, \"#0d0887\"], [0.1111111111111111, \"#46039f\"], [0.2222222222222222, \"#7201a8\"], [0.3333333333333333, \"#9c179e\"], [0.4444444444444444, \"#bd3786\"], [0.5555555555555556, \"#d8576b\"], [0.6666666666666666, \"#ed7953\"], [0.7777777777777778, \"#fb9f3a\"], [0.8888888888888888, \"#fdca26\"], [1.0, \"#f0f921\"]], \"type\": \"histogram2d\"}], \"histogram2dcontour\": [{\"colorbar\": {\"outlinewidth\": 0, \"ticks\": \"\"}, \"colorscale\": [[0.0, \"#0d0887\"], [0.1111111111111111, \"#46039f\"], [0.2222222222222222, \"#7201a8\"], [0.3333333333333333, \"#9c179e\"], [0.4444444444444444, \"#bd3786\"], [0.5555555555555556, \"#d8576b\"], [0.6666666666666666, \"#ed7953\"], [0.7777777777777778, \"#fb9f3a\"], [0.8888888888888888, \"#fdca26\"], [1.0, \"#f0f921\"]], \"type\": \"histogram2dcontour\"}], \"mesh3d\": [{\"colorbar\": {\"outlinewidth\": 0, \"ticks\": \"\"}, \"type\": \"mesh3d\"}], \"parcoords\": [{\"line\": {\"colorbar\": {\"outlinewidth\": 0, \"ticks\": \"\"}}, \"type\": \"parcoords\"}], \"scatter\": [{\"marker\": {\"colorbar\": {\"outlinewidth\": 0, \"ticks\": \"\"}}, \"type\": \"scatter\"}], \"scatter3d\": [{\"line\": {\"colorbar\": {\"outlinewidth\": 0, \"ticks\": \"\"}}, \"marker\": {\"colorbar\": {\"outlinewidth\": 0, \"ticks\": \"\"}}, \"type\": \"scatter3d\"}], \"scattercarpet\": [{\"marker\": {\"colorbar\": {\"outlinewidth\": 0, \"ticks\": \"\"}}, \"type\": \"scattercarpet\"}], \"scattergeo\": [{\"marker\": {\"colorbar\": {\"outlinewidth\": 0, \"ticks\": \"\"}}, \"type\": \"scattergeo\"}], \"scattergl\": [{\"marker\": {\"colorbar\": {\"outlinewidth\": 0, \"ticks\": \"\"}}, \"type\": \"scattergl\"}], \"scattermapbox\": [{\"marker\": {\"colorbar\": {\"outlinewidth\": 0, \"ticks\": \"\"}}, \"type\": \"scattermapbox\"}], \"scatterpolar\": [{\"marker\": {\"colorbar\": {\"outlinewidth\": 0, \"ticks\": \"\"}}, \"type\": \"scatterpolar\"}], \"scatterpolargl\": [{\"marker\": {\"colorbar\": {\"outlinewidth\": 0, \"ticks\": \"\"}}, \"type\": \"scatterpolargl\"}], \"scatterternary\": [{\"marker\": {\"colorbar\": {\"outlinewidth\": 0, \"ticks\": \"\"}}, \"type\": \"scatterternary\"}], \"surface\": [{\"colorbar\": {\"outlinewidth\": 0, \"ticks\": \"\"}, \"colorscale\": [[0.0, \"#0d0887\"], [0.1111111111111111, \"#46039f\"], [0.2222222222222222, \"#7201a8\"], [0.3333333333333333, \"#9c179e\"], [0.4444444444444444, \"#bd3786\"], [0.5555555555555556, \"#d8576b\"], [0.6666666666666666, \"#ed7953\"], [0.7777777777777778, \"#fb9f3a\"], [0.8888888888888888, \"#fdca26\"], [1.0, \"#f0f921\"]], \"type\": \"surface\"}], \"table\": [{\"cells\": {\"fill\": {\"color\": \"#EBF0F8\"}, \"line\": {\"color\": \"white\"}}, \"header\": {\"fill\": {\"color\": \"#C8D4E3\"}, \"line\": {\"color\": \"white\"}}, \"type\": \"table\"}]}, \"layout\": {\"annotationdefaults\": {\"arrowcolor\": \"#2a3f5f\", \"arrowhead\": 0, \"arrowwidth\": 1}, \"colorscale\": {\"diverging\": [[0, \"#8e0152\"], [0.1, \"#c51b7d\"], [0.2, \"#de77ae\"], [0.3, \"#f1b6da\"], [0.4, \"#fde0ef\"], [0.5, \"#f7f7f7\"], [0.6, \"#e6f5d0\"], [0.7, \"#b8e186\"], [0.8, \"#7fbc41\"], [0.9, \"#4d9221\"], [1, \"#276419\"]], \"sequential\": [[0.0, \"#0d0887\"], [0.1111111111111111, \"#46039f\"], [0.2222222222222222, \"#7201a8\"], [0.3333333333333333, \"#9c179e\"], [0.4444444444444444, \"#bd3786\"], [0.5555555555555556, \"#d8576b\"], [0.6666666666666666, \"#ed7953\"], [0.7777777777777778, \"#fb9f3a\"], [0.8888888888888888, \"#fdca26\"], [1.0, \"#f0f921\"]], \"sequentialminus\": [[0.0, \"#0d0887\"], [0.1111111111111111, \"#46039f\"], [0.2222222222222222, \"#7201a8\"], [0.3333333333333333, \"#9c179e\"], [0.4444444444444444, \"#bd3786\"], [0.5555555555555556, \"#d8576b\"], [0.6666666666666666, \"#ed7953\"], [0.7777777777777778, \"#fb9f3a\"], [0.8888888888888888, \"#fdca26\"], [1.0, \"#f0f921\"]]}, \"colorway\": [\"#636efa\", \"#EF553B\", \"#00cc96\", \"#ab63fa\", \"#FFA15A\", \"#19d3f3\", \"#FF6692\", \"#B6E880\", \"#FF97FF\", \"#FECB52\"], \"font\": {\"color\": \"#2a3f5f\"}, \"geo\": {\"bgcolor\": \"white\", \"lakecolor\": \"white\", \"landcolor\": \"#E5ECF6\", \"showlakes\": true, \"showland\": true, \"subunitcolor\": \"white\"}, \"hoverlabel\": {\"align\": \"left\"}, \"hovermode\": \"closest\", \"mapbox\": {\"style\": \"light\"}, \"paper_bgcolor\": \"white\", \"plot_bgcolor\": \"#E5ECF6\", \"polar\": {\"angularaxis\": {\"gridcolor\": \"white\", \"linecolor\": \"white\", \"ticks\": \"\"}, \"bgcolor\": \"#E5ECF6\", \"radialaxis\": {\"gridcolor\": \"white\", \"linecolor\": \"white\", \"ticks\": \"\"}}, \"scene\": {\"xaxis\": {\"backgroundcolor\": \"#E5ECF6\", \"gridcolor\": \"white\", \"gridwidth\": 2, \"linecolor\": \"white\", \"showbackground\": true, \"ticks\": \"\", \"zerolinecolor\": \"white\"}, \"yaxis\": {\"backgroundcolor\": \"#E5ECF6\", \"gridcolor\": \"white\", \"gridwidth\": 2, \"linecolor\": \"white\", \"showbackground\": true, \"ticks\": \"\", \"zerolinecolor\": \"white\"}, \"zaxis\": {\"backgroundcolor\": \"#E5ECF6\", \"gridcolor\": \"white\", \"gridwidth\": 2, \"linecolor\": \"white\", \"showbackground\": true, \"ticks\": \"\", \"zerolinecolor\": \"white\"}}, \"shapedefaults\": {\"line\": {\"color\": \"#2a3f5f\"}}, \"ternary\": {\"aaxis\": {\"gridcolor\": \"white\", \"linecolor\": \"white\", \"ticks\": \"\"}, \"baxis\": {\"gridcolor\": \"white\", \"linecolor\": \"white\", \"ticks\": \"\"}, \"bgcolor\": \"#E5ECF6\", \"caxis\": {\"gridcolor\": \"white\", \"linecolor\": \"white\", \"ticks\": \"\"}}, \"title\": {\"x\": 0.05}, \"xaxis\": {\"automargin\": true, \"gridcolor\": \"white\", \"linecolor\": \"white\", \"ticks\": \"\", \"zerolinecolor\": \"white\", \"zerolinewidth\": 2}, \"yaxis\": {\"automargin\": true, \"gridcolor\": \"white\", \"linecolor\": \"white\", \"ticks\": \"\", \"zerolinecolor\": \"white\", \"zerolinewidth\": 2}}}, \"xaxis\": {\"anchor\": \"y\", \"domain\": [0.0, 0.45]}, \"xaxis2\": {\"anchor\": \"y2\", \"domain\": [0.55, 1.0]}, \"yaxis\": {\"anchor\": \"x\", \"domain\": [0.0, 1.0]}, \"yaxis2\": {\"anchor\": \"x2\", \"domain\": [0.0, 1.0]}},\n",
       "                        {\"responsive\": true}\n",
       "                    ).then(function(){\n",
       "                            \n",
       "var gd = document.getElementById('67b5b241-93bd-4282-aebd-edbb35421b04');\n",
       "var x = new MutationObserver(function (mutations, observer) {{\n",
       "        var display = window.getComputedStyle(gd).display;\n",
       "        if (!display || display === 'none') {{\n",
       "            console.log([gd, 'removed!']);\n",
       "            Plotly.purge(gd);\n",
       "            observer.disconnect();\n",
       "        }}\n",
       "}});\n",
       "\n",
       "// Listen for the removal of the full notebook cells\n",
       "var notebookContainer = gd.closest('#notebook-container');\n",
       "if (notebookContainer) {{\n",
       "    x.observe(notebookContainer, {childList: true});\n",
       "}}\n",
       "\n",
       "// Listen for the clearing of the current output cell\n",
       "var outputEl = gd.closest('.output');\n",
       "if (outputEl) {{\n",
       "    x.observe(outputEl, {childList: true});\n",
       "}}\n",
       "\n",
       "                        })\n",
       "                };\n",
       "                });\n",
       "            </script>\n",
       "        </div>"
      ]
     },
     "metadata": {},
     "output_type": "display_data"
    }
   ],
   "source": [
    "df_tags = df.tags.apply(pd.Series) \\\n",
    "    .merge(df, left_index=True, right_index=True) \\\n",
    "    .drop('tags', axis=1) \\\n",
    "    .melt(id_vars=['titulo', 'data', 'autor_comentario', 'comentario', 'participantes'], value_name='tag') \\\n",
    "    .drop('variable', axis=1) \\\n",
    "    .dropna()\n",
    "\n",
    "comentarios_por_tag = df_tags.groupby('tag').count().reset_index().sort_values('comentario')\n",
    "comentarios_por_tag.rename(columns={'comentario': 'qtde_de_comentarios'}, inplace=True)\n",
    "# Remover a tag Podcast porque *todos* os episódios tem essa tag.\n",
    "comentarios_por_tag = comentarios_por_tag[comentarios_por_tag['tag'] != 'Podcast']\n",
    "\n",
    "media_comentarios_por_tag = df_tags.groupby(['tag', 'titulo']).agg({'comentario': 'size'}).reset_index() \\\n",
    "    .groupby('tag').mean().reset_index() \\\n",
    "    .sort_values('comentario', ascending=True)\n",
    "media_comentarios_por_tag.rename(columns={'comentario': 'media_comentarios'}, inplace=True)\n",
    "\n",
    "fig = make_subplots(rows=1, cols=2)\n",
    "\n",
    "fig.add_trace(\n",
    "    go.Bar(\n",
    "        x = comentarios_por_tag['qtde_de_comentarios'],\n",
    "        y = comentarios_por_tag['tag'],\n",
    "        orientation='h',\n",
    "        name = 'Total de comentários por tag'\n",
    "    ),\n",
    "    row=1, col=1\n",
    ")\n",
    "\n",
    "fig.add_trace(\n",
    "    go.Bar(\n",
    "        x = media_comentarios_por_tag['media_comentarios'],\n",
    "        y = media_comentarios_por_tag['tag'],\n",
    "        orientation = 'h',\n",
    "        name= 'Média de comentários por tag'\n",
    "    ),\n",
    "    row=1, col=2\n",
    ")\n",
    "\n",
    "fig.update_layout(height=600)\n",
    "fig.show()"
   ]
  },
  {
   "cell_type": "markdown",
   "metadata": {},
   "source": [
    "## 2. Em quantos episódios as pessoas comentam?\n",
    "\n",
    "Em outras palavras, das pessoas que deixam um comentário, quantas voltam para deixar novos comentários no futuro?\n",
    "\n",
    "Meu palpite antes de rodar essa análise é que a maioria das pessoas deixa um único comentário em um único episódio, e um grupo pequeno de pessoas comentam com frequência, em vários episódios.\n",
    "\n",
    "![](grafico.png)"
   ]
  },
  {
   "cell_type": "code",
   "execution_count": 26,
   "metadata": {},
   "outputs": [
    {
     "data": {
      "application/vnd.plotly.v1+json": {
       "config": {
        "plotlyServerURL": "https://plot.ly"
       },
       "data": [
        {
         "alignmentgroup": "True",
         "bingroup": "x",
         "hoverlabel": {
          "namelength": 0
         },
         "hovertemplate": "comentario=%{x}<br>count=%{y}",
         "legendgroup": "",
         "marker": {
          "color": "#636efa"
         },
         "name": "",
         "nbinsx": 100,
         "offsetgroup": "",
         "orientation": "v",
         "showlegend": false,
         "type": "histogram",
         "x": [
          3,
          2,
          1,
          1,
          1,
          1,
          1,
          2,
          4,
          1,
          2,
          2,
          5,
          1,
          4,
          1,
          1,
          1,
          1,
          1,
          1,
          7,
          2,
          1,
          1,
          1,
          3,
          1,
          9,
          1,
          4,
          2,
          1,
          1,
          1,
          1,
          4,
          2,
          1,
          1,
          3,
          1,
          1,
          3,
          1,
          1,
          4,
          1,
          1,
          1,
          2,
          1,
          1,
          4,
          1,
          2,
          1,
          1,
          1,
          4,
          1,
          1,
          5,
          1,
          1,
          1,
          10,
          1,
          1,
          1,
          1,
          5,
          1,
          1,
          1,
          1,
          12,
          1,
          2,
          1,
          6,
          1,
          1,
          2,
          1,
          1,
          1,
          4,
          2,
          2,
          1,
          2,
          1,
          1,
          1,
          1,
          2,
          1,
          1,
          4,
          1,
          7,
          6,
          3,
          2,
          1,
          1,
          1,
          1,
          1,
          2,
          1,
          1,
          2,
          1,
          5,
          2,
          1,
          3,
          1,
          1,
          1,
          1,
          2,
          3,
          2,
          1,
          1,
          1,
          6,
          1,
          1,
          2,
          15,
          1,
          1,
          2,
          2,
          2,
          3,
          2,
          1,
          14,
          1,
          5,
          1,
          1,
          1,
          1,
          1,
          6,
          1,
          2,
          1,
          3,
          4,
          1,
          1,
          1,
          3,
          3,
          1,
          2,
          1,
          1,
          1,
          2,
          3,
          3,
          2,
          12,
          4,
          25,
          1,
          1,
          1,
          1,
          1,
          1,
          1,
          1,
          1,
          5,
          1,
          1,
          1,
          7,
          1,
          1,
          1,
          1,
          1,
          3,
          1,
          3,
          1,
          1,
          2,
          6,
          2,
          1,
          2,
          1,
          1,
          3,
          20,
          1,
          2,
          2,
          1,
          1,
          4,
          1,
          2,
          1,
          2,
          1,
          2,
          7,
          1,
          1,
          2,
          9,
          2,
          1,
          1,
          1,
          1,
          1,
          1,
          1,
          1,
          6,
          1,
          1,
          14,
          1,
          1,
          1,
          1,
          2,
          1,
          4,
          8,
          1,
          5,
          1,
          1,
          1,
          1,
          1,
          1,
          1,
          3,
          2,
          1,
          2,
          3,
          1,
          5,
          2,
          1,
          1,
          3,
          1,
          3,
          2,
          1,
          1,
          2,
          9,
          1,
          3,
          3,
          2,
          5,
          2,
          1,
          1,
          1,
          1,
          7,
          1,
          1,
          2,
          1,
          1,
          1,
          1,
          1,
          11,
          1,
          10,
          1,
          1,
          1,
          1,
          7,
          2,
          8,
          1,
          2,
          8,
          1,
          1,
          1,
          1,
          1,
          1,
          1,
          21,
          1,
          1,
          1,
          1,
          1,
          1,
          1,
          1,
          1,
          1,
          1,
          7,
          1,
          1,
          1,
          3,
          2,
          1,
          1,
          1,
          1,
          3,
          1,
          2,
          1,
          1,
          4,
          2,
          1,
          1,
          6,
          1,
          1,
          3,
          1,
          1,
          1,
          1,
          1,
          1,
          1,
          1,
          1,
          1,
          1,
          1,
          7,
          1,
          1,
          4,
          3,
          2,
          1,
          9,
          1,
          1,
          1,
          2,
          2,
          1,
          1,
          19,
          11,
          5,
          1,
          3,
          1,
          5,
          1,
          1,
          3,
          1,
          13,
          2,
          1,
          12,
          1,
          2,
          1,
          1,
          1,
          6,
          1,
          1,
          1,
          1,
          1,
          2,
          1,
          1,
          7,
          1,
          6,
          1,
          1,
          1,
          1,
          3,
          1,
          2,
          1,
          3,
          1,
          1,
          1,
          1,
          1,
          1,
          5,
          1,
          1,
          2,
          9,
          1,
          2,
          1,
          1,
          1,
          1,
          1,
          1,
          4,
          1,
          1,
          1,
          1,
          1,
          6,
          3,
          2,
          2,
          1,
          1,
          2,
          1,
          1,
          1,
          2,
          14,
          14,
          1,
          2,
          1,
          13,
          12,
          1,
          1,
          4,
          6,
          1,
          1,
          1,
          1,
          1,
          1,
          1,
          1,
          1,
          1,
          1,
          2,
          1,
          1,
          1,
          1,
          1,
          1,
          1,
          1,
          7,
          1,
          6,
          1,
          5,
          1,
          3,
          1,
          2,
          36,
          1,
          2,
          4,
          1,
          1,
          4,
          13,
          1,
          1,
          1,
          7,
          1,
          2,
          1,
          2,
          2,
          2,
          2,
          1,
          2,
          1,
          1,
          1,
          2,
          1,
          1,
          3,
          2,
          2,
          1,
          4,
          1,
          1,
          1,
          1,
          15,
          9,
          1,
          1,
          2,
          2,
          1,
          1,
          1,
          6,
          3,
          2,
          1,
          1,
          1,
          1,
          2,
          2,
          2,
          1,
          1,
          1,
          1,
          5,
          2,
          1,
          2,
          1,
          1,
          1,
          4,
          1,
          1,
          1,
          1,
          1,
          13,
          2,
          1,
          3,
          1,
          2,
          2,
          2,
          1,
          3,
          3,
          35,
          1,
          5,
          2,
          1,
          1,
          2,
          2,
          3,
          1,
          1,
          1,
          1,
          1,
          12,
          2,
          2,
          1,
          1,
          1,
          1,
          1,
          3,
          1,
          1,
          1,
          1,
          1,
          1,
          2,
          11,
          5,
          1,
          1,
          1,
          1,
          1,
          1,
          1,
          1,
          1,
          3,
          1,
          1,
          3,
          1,
          1,
          2,
          1,
          2,
          1,
          1,
          5,
          4,
          1,
          1,
          2,
          1,
          2,
          1,
          1,
          3,
          1,
          1,
          1,
          1,
          2,
          2,
          1,
          3,
          1,
          2,
          1,
          1,
          1,
          1,
          1,
          2,
          1,
          1,
          1,
          1,
          3,
          1,
          1,
          1,
          1,
          2,
          3,
          8,
          1,
          1,
          2,
          1,
          1,
          2,
          1,
          1,
          1,
          1,
          1,
          3,
          3,
          1,
          1,
          1,
          1,
          5,
          1,
          3,
          6,
          1,
          1,
          3,
          1,
          1,
          7,
          1,
          1,
          3,
          1,
          1,
          2,
          1,
          2,
          1,
          1,
          2,
          4,
          1,
          1,
          1,
          1,
          1,
          1,
          5,
          2,
          1,
          1,
          3,
          4,
          1,
          1,
          3,
          1,
          1,
          1,
          1,
          1,
          1,
          1,
          1,
          1,
          1,
          1,
          1,
          1,
          1,
          2,
          1,
          2,
          2,
          3,
          1,
          3,
          3,
          6,
          1,
          1,
          1,
          1,
          6,
          1,
          3,
          1,
          1,
          2,
          1,
          1,
          1,
          4,
          2,
          5,
          3,
          4,
          3,
          2,
          1,
          1,
          1,
          2,
          1,
          1,
          1,
          1,
          1,
          1,
          1,
          1,
          1,
          1,
          11,
          1,
          1,
          1,
          1,
          2,
          1,
          2,
          31,
          1,
          1,
          4,
          2,
          2,
          1,
          3,
          1,
          1,
          1,
          1,
          1,
          1,
          2,
          7,
          2,
          1,
          1,
          1,
          9,
          1,
          1,
          1,
          1,
          1,
          1,
          4,
          1,
          5,
          1,
          2,
          1,
          2,
          1,
          1,
          1,
          2,
          5,
          2,
          1,
          1,
          2,
          1,
          1,
          4,
          6,
          1,
          1,
          10,
          1,
          1,
          5,
          2,
          1,
          1,
          1,
          1,
          1,
          1,
          1,
          1,
          3,
          5,
          1,
          2,
          1,
          1,
          1,
          1,
          1,
          1,
          2,
          2,
          1,
          2,
          1,
          1,
          2,
          1,
          1,
          1,
          2,
          1,
          1,
          1,
          5,
          3,
          2,
          1,
          2,
          1,
          1,
          1,
          6,
          1,
          4,
          34,
          3,
          1,
          1,
          1,
          1,
          2,
          2,
          1,
          3,
          2,
          1,
          2,
          1,
          1,
          1,
          1,
          1,
          3,
          1,
          1,
          1,
          8,
          1,
          1,
          1,
          9,
          3,
          1,
          2,
          1,
          1,
          1,
          3,
          1,
          15,
          1,
          1,
          4,
          2,
          7,
          1,
          1,
          1,
          4,
          1,
          1,
          1,
          1,
          2,
          1,
          1,
          1,
          1,
          1,
          1,
          1,
          1,
          1,
          1,
          11,
          6,
          1,
          2,
          1,
          3,
          1,
          6,
          1,
          1,
          1,
          2,
          1,
          1,
          1,
          1,
          1,
          1,
          3,
          3,
          1,
          1,
          1,
          1,
          1,
          1,
          1,
          1,
          1,
          4,
          2,
          1,
          2,
          1,
          13,
          1,
          14,
          2,
          1,
          2,
          1,
          2,
          1,
          1,
          1,
          1,
          1,
          1,
          2,
          2,
          1,
          1,
          1,
          1,
          1,
          3,
          1,
          2,
          3,
          2,
          1,
          17,
          1,
          1,
          1,
          1,
          1,
          1,
          10,
          3,
          2,
          1,
          1,
          1,
          1,
          1,
          2,
          5,
          2,
          1,
          1,
          1,
          1,
          3,
          1,
          2,
          4,
          1,
          6,
          3,
          1,
          1,
          1,
          4,
          1,
          1,
          1,
          4,
          4,
          1,
          1,
          1,
          4,
          2,
          135,
          2,
          1,
          3,
          2,
          1,
          1,
          1,
          1,
          1,
          2,
          1,
          2,
          3,
          4,
          1,
          4,
          1,
          6,
          1,
          1,
          2,
          1,
          2,
          3,
          1,
          3,
          3,
          1,
          3,
          1,
          1,
          8,
          1,
          7,
          1,
          1,
          1,
          3,
          3,
          1,
          1,
          3,
          1,
          1,
          3,
          6,
          1,
          4,
          2,
          21,
          1,
          1,
          2,
          1,
          1,
          3,
          2,
          1,
          1,
          2,
          2,
          1,
          2,
          1,
          1,
          1,
          1,
          1,
          1,
          1,
          2,
          1,
          1,
          1,
          3,
          1,
          3,
          2,
          5,
          1,
          1,
          1,
          393,
          1,
          1,
          1,
          1,
          3,
          1,
          1,
          1,
          1,
          1,
          1,
          1,
          1,
          1,
          2,
          2,
          3,
          1,
          1,
          1,
          3,
          1,
          1,
          6,
          1,
          1,
          2,
          2,
          4,
          1,
          4,
          2,
          1,
          2,
          3,
          1,
          20,
          2,
          2,
          2,
          1,
          3,
          1,
          1,
          1,
          20,
          2,
          1,
          1,
          1,
          1,
          1,
          1,
          2,
          1,
          3,
          4,
          1,
          1,
          3,
          1,
          2,
          2,
          1,
          1,
          2,
          1,
          1,
          1,
          1,
          1,
          5,
          1,
          3,
          5,
          1,
          1,
          1,
          3,
          1,
          2,
          1,
          3,
          6,
          1,
          1,
          1,
          2,
          1,
          1,
          3,
          1,
          1,
          1,
          1,
          1,
          1,
          1,
          2,
          1,
          7,
          1,
          1,
          1,
          2,
          2,
          1,
          1,
          1,
          2,
          1,
          1,
          1,
          1,
          1,
          1,
          1,
          1,
          1,
          2,
          1,
          6,
          1,
          1,
          2,
          1,
          1,
          6,
          40,
          1,
          1,
          1,
          10,
          2,
          2,
          1,
          1,
          2,
          1,
          1,
          1,
          3,
          1,
          2,
          1,
          1,
          2,
          2,
          2,
          1,
          1,
          2,
          1,
          3,
          3,
          4,
          1,
          1,
          1,
          1,
          1,
          2,
          1,
          1,
          1,
          1,
          2,
          2,
          10,
          1,
          6,
          2,
          6,
          1,
          1,
          1,
          1,
          1,
          1,
          6,
          4,
          1,
          1,
          3,
          3,
          1,
          1,
          1,
          2,
          1,
          1,
          2,
          15,
          1,
          1,
          1,
          8,
          1,
          1,
          1,
          1,
          1,
          1,
          1,
          1,
          1,
          1,
          2,
          1,
          2,
          1,
          1,
          1,
          28,
          3,
          1,
          1,
          1,
          5,
          1,
          1,
          2,
          1,
          2,
          2,
          1,
          2,
          1,
          7,
          1,
          3,
          1,
          1,
          1,
          2,
          1,
          31,
          2,
          1,
          1,
          3,
          2,
          1,
          1,
          3,
          1,
          1,
          3,
          2,
          1,
          1,
          1,
          3,
          1,
          1,
          1,
          1,
          1,
          1,
          2,
          1,
          1,
          1,
          2,
          1,
          1,
          2,
          1,
          3,
          2,
          1,
          4,
          1,
          1,
          2,
          1,
          9,
          3,
          6,
          1,
          1,
          1,
          1,
          1,
          1,
          1,
          5,
          1,
          3,
          2,
          1,
          48,
          1,
          1,
          2,
          2,
          5,
          1,
          1,
          1,
          1,
          3,
          1,
          2,
          1,
          1,
          1,
          2,
          1,
          2,
          1,
          1,
          1,
          3,
          1,
          2,
          2,
          2,
          7,
          1,
          2,
          1,
          1,
          1,
          1,
          2,
          10,
          4,
          1,
          2,
          1,
          1,
          4,
          1,
          2,
          7,
          1,
          1,
          1,
          1,
          2,
          4,
          1,
          3,
          1,
          1,
          1,
          1,
          1,
          2,
          1,
          2,
          1,
          2,
          4,
          1,
          1,
          1,
          7,
          1,
          1,
          1,
          1,
          22,
          1,
          1,
          4,
          1,
          1,
          3,
          1,
          10,
          1,
          1,
          7,
          1,
          2,
          2,
          7,
          1,
          2,
          1,
          1,
          2,
          1,
          1,
          1,
          1,
          37,
          1,
          1,
          1,
          4,
          1,
          1,
          1,
          1,
          1,
          1,
          1,
          1,
          1,
          1,
          1,
          1,
          1,
          4,
          17,
          3,
          1,
          1,
          1,
          1,
          4,
          1,
          1,
          1,
          1,
          5,
          1,
          1,
          2,
          1,
          1,
          1,
          1,
          3,
          1,
          1,
          1,
          1,
          2,
          1,
          1,
          2,
          7,
          1,
          1,
          1,
          1,
          1,
          1,
          1,
          2,
          1,
          2,
          1,
          2,
          3,
          2,
          4,
          3,
          1,
          1,
          1,
          1,
          3,
          1,
          1,
          2,
          1,
          1,
          1,
          1,
          2,
          1,
          1,
          3,
          8,
          2,
          1,
          3,
          2,
          1,
          3,
          1,
          1,
          2,
          1,
          1,
          2,
          1,
          1,
          1,
          2,
          3,
          1,
          2,
          6,
          1,
          1,
          2,
          1,
          1,
          4,
          2,
          3,
          1,
          1,
          7,
          1,
          2,
          1,
          2,
          2,
          2,
          1,
          1,
          1,
          1,
          1,
          1,
          1,
          1,
          1,
          1,
          2,
          4,
          1,
          1,
          3,
          1,
          1,
          2,
          1,
          2,
          2,
          1,
          1,
          1,
          2,
          2,
          1,
          3,
          1,
          3,
          5,
          1,
          1,
          1,
          1,
          1,
          1,
          1,
          1,
          2,
          2,
          3,
          1,
          1,
          4,
          4,
          3,
          2,
          1,
          1,
          1,
          2,
          3,
          1,
          1,
          7,
          2,
          2,
          1,
          4,
          1,
          4,
          3,
          1,
          1
         ],
         "xaxis": "x",
         "yaxis": "y"
        }
       ],
       "layout": {
        "autosize": true,
        "barmode": "relative",
        "legend": {
         "tracegroupgap": 0
        },
        "template": {
         "data": {
          "bar": [
           {
            "error_x": {
             "color": "#2a3f5f"
            },
            "error_y": {
             "color": "#2a3f5f"
            },
            "marker": {
             "line": {
              "color": "#E5ECF6",
              "width": 0.5
             }
            },
            "type": "bar"
           }
          ],
          "barpolar": [
           {
            "marker": {
             "line": {
              "color": "#E5ECF6",
              "width": 0.5
             }
            },
            "type": "barpolar"
           }
          ],
          "carpet": [
           {
            "aaxis": {
             "endlinecolor": "#2a3f5f",
             "gridcolor": "white",
             "linecolor": "white",
             "minorgridcolor": "white",
             "startlinecolor": "#2a3f5f"
            },
            "baxis": {
             "endlinecolor": "#2a3f5f",
             "gridcolor": "white",
             "linecolor": "white",
             "minorgridcolor": "white",
             "startlinecolor": "#2a3f5f"
            },
            "type": "carpet"
           }
          ],
          "choropleth": [
           {
            "colorbar": {
             "outlinewidth": 0,
             "ticks": ""
            },
            "type": "choropleth"
           }
          ],
          "contour": [
           {
            "colorbar": {
             "outlinewidth": 0,
             "ticks": ""
            },
            "colorscale": [
             [
              0,
              "#0d0887"
             ],
             [
              0.1111111111111111,
              "#46039f"
             ],
             [
              0.2222222222222222,
              "#7201a8"
             ],
             [
              0.3333333333333333,
              "#9c179e"
             ],
             [
              0.4444444444444444,
              "#bd3786"
             ],
             [
              0.5555555555555556,
              "#d8576b"
             ],
             [
              0.6666666666666666,
              "#ed7953"
             ],
             [
              0.7777777777777778,
              "#fb9f3a"
             ],
             [
              0.8888888888888888,
              "#fdca26"
             ],
             [
              1,
              "#f0f921"
             ]
            ],
            "type": "contour"
           }
          ],
          "contourcarpet": [
           {
            "colorbar": {
             "outlinewidth": 0,
             "ticks": ""
            },
            "type": "contourcarpet"
           }
          ],
          "heatmap": [
           {
            "colorbar": {
             "outlinewidth": 0,
             "ticks": ""
            },
            "colorscale": [
             [
              0,
              "#0d0887"
             ],
             [
              0.1111111111111111,
              "#46039f"
             ],
             [
              0.2222222222222222,
              "#7201a8"
             ],
             [
              0.3333333333333333,
              "#9c179e"
             ],
             [
              0.4444444444444444,
              "#bd3786"
             ],
             [
              0.5555555555555556,
              "#d8576b"
             ],
             [
              0.6666666666666666,
              "#ed7953"
             ],
             [
              0.7777777777777778,
              "#fb9f3a"
             ],
             [
              0.8888888888888888,
              "#fdca26"
             ],
             [
              1,
              "#f0f921"
             ]
            ],
            "type": "heatmap"
           }
          ],
          "heatmapgl": [
           {
            "colorbar": {
             "outlinewidth": 0,
             "ticks": ""
            },
            "colorscale": [
             [
              0,
              "#0d0887"
             ],
             [
              0.1111111111111111,
              "#46039f"
             ],
             [
              0.2222222222222222,
              "#7201a8"
             ],
             [
              0.3333333333333333,
              "#9c179e"
             ],
             [
              0.4444444444444444,
              "#bd3786"
             ],
             [
              0.5555555555555556,
              "#d8576b"
             ],
             [
              0.6666666666666666,
              "#ed7953"
             ],
             [
              0.7777777777777778,
              "#fb9f3a"
             ],
             [
              0.8888888888888888,
              "#fdca26"
             ],
             [
              1,
              "#f0f921"
             ]
            ],
            "type": "heatmapgl"
           }
          ],
          "histogram": [
           {
            "marker": {
             "colorbar": {
              "outlinewidth": 0,
              "ticks": ""
             }
            },
            "type": "histogram"
           }
          ],
          "histogram2d": [
           {
            "colorbar": {
             "outlinewidth": 0,
             "ticks": ""
            },
            "colorscale": [
             [
              0,
              "#0d0887"
             ],
             [
              0.1111111111111111,
              "#46039f"
             ],
             [
              0.2222222222222222,
              "#7201a8"
             ],
             [
              0.3333333333333333,
              "#9c179e"
             ],
             [
              0.4444444444444444,
              "#bd3786"
             ],
             [
              0.5555555555555556,
              "#d8576b"
             ],
             [
              0.6666666666666666,
              "#ed7953"
             ],
             [
              0.7777777777777778,
              "#fb9f3a"
             ],
             [
              0.8888888888888888,
              "#fdca26"
             ],
             [
              1,
              "#f0f921"
             ]
            ],
            "type": "histogram2d"
           }
          ],
          "histogram2dcontour": [
           {
            "colorbar": {
             "outlinewidth": 0,
             "ticks": ""
            },
            "colorscale": [
             [
              0,
              "#0d0887"
             ],
             [
              0.1111111111111111,
              "#46039f"
             ],
             [
              0.2222222222222222,
              "#7201a8"
             ],
             [
              0.3333333333333333,
              "#9c179e"
             ],
             [
              0.4444444444444444,
              "#bd3786"
             ],
             [
              0.5555555555555556,
              "#d8576b"
             ],
             [
              0.6666666666666666,
              "#ed7953"
             ],
             [
              0.7777777777777778,
              "#fb9f3a"
             ],
             [
              0.8888888888888888,
              "#fdca26"
             ],
             [
              1,
              "#f0f921"
             ]
            ],
            "type": "histogram2dcontour"
           }
          ],
          "mesh3d": [
           {
            "colorbar": {
             "outlinewidth": 0,
             "ticks": ""
            },
            "type": "mesh3d"
           }
          ],
          "parcoords": [
           {
            "line": {
             "colorbar": {
              "outlinewidth": 0,
              "ticks": ""
             }
            },
            "type": "parcoords"
           }
          ],
          "scatter": [
           {
            "marker": {
             "colorbar": {
              "outlinewidth": 0,
              "ticks": ""
             }
            },
            "type": "scatter"
           }
          ],
          "scatter3d": [
           {
            "line": {
             "colorbar": {
              "outlinewidth": 0,
              "ticks": ""
             }
            },
            "marker": {
             "colorbar": {
              "outlinewidth": 0,
              "ticks": ""
             }
            },
            "type": "scatter3d"
           }
          ],
          "scattercarpet": [
           {
            "marker": {
             "colorbar": {
              "outlinewidth": 0,
              "ticks": ""
             }
            },
            "type": "scattercarpet"
           }
          ],
          "scattergeo": [
           {
            "marker": {
             "colorbar": {
              "outlinewidth": 0,
              "ticks": ""
             }
            },
            "type": "scattergeo"
           }
          ],
          "scattergl": [
           {
            "marker": {
             "colorbar": {
              "outlinewidth": 0,
              "ticks": ""
             }
            },
            "type": "scattergl"
           }
          ],
          "scattermapbox": [
           {
            "marker": {
             "colorbar": {
              "outlinewidth": 0,
              "ticks": ""
             }
            },
            "type": "scattermapbox"
           }
          ],
          "scatterpolar": [
           {
            "marker": {
             "colorbar": {
              "outlinewidth": 0,
              "ticks": ""
             }
            },
            "type": "scatterpolar"
           }
          ],
          "scatterpolargl": [
           {
            "marker": {
             "colorbar": {
              "outlinewidth": 0,
              "ticks": ""
             }
            },
            "type": "scatterpolargl"
           }
          ],
          "scatterternary": [
           {
            "marker": {
             "colorbar": {
              "outlinewidth": 0,
              "ticks": ""
             }
            },
            "type": "scatterternary"
           }
          ],
          "surface": [
           {
            "colorbar": {
             "outlinewidth": 0,
             "ticks": ""
            },
            "colorscale": [
             [
              0,
              "#0d0887"
             ],
             [
              0.1111111111111111,
              "#46039f"
             ],
             [
              0.2222222222222222,
              "#7201a8"
             ],
             [
              0.3333333333333333,
              "#9c179e"
             ],
             [
              0.4444444444444444,
              "#bd3786"
             ],
             [
              0.5555555555555556,
              "#d8576b"
             ],
             [
              0.6666666666666666,
              "#ed7953"
             ],
             [
              0.7777777777777778,
              "#fb9f3a"
             ],
             [
              0.8888888888888888,
              "#fdca26"
             ],
             [
              1,
              "#f0f921"
             ]
            ],
            "type": "surface"
           }
          ],
          "table": [
           {
            "cells": {
             "fill": {
              "color": "#EBF0F8"
             },
             "line": {
              "color": "white"
             }
            },
            "header": {
             "fill": {
              "color": "#C8D4E3"
             },
             "line": {
              "color": "white"
             }
            },
            "type": "table"
           }
          ]
         },
         "layout": {
          "annotationdefaults": {
           "arrowcolor": "#2a3f5f",
           "arrowhead": 0,
           "arrowwidth": 1
          },
          "colorscale": {
           "diverging": [
            [
             0,
             "#8e0152"
            ],
            [
             0.1,
             "#c51b7d"
            ],
            [
             0.2,
             "#de77ae"
            ],
            [
             0.3,
             "#f1b6da"
            ],
            [
             0.4,
             "#fde0ef"
            ],
            [
             0.5,
             "#f7f7f7"
            ],
            [
             0.6,
             "#e6f5d0"
            ],
            [
             0.7,
             "#b8e186"
            ],
            [
             0.8,
             "#7fbc41"
            ],
            [
             0.9,
             "#4d9221"
            ],
            [
             1,
             "#276419"
            ]
           ],
           "sequential": [
            [
             0,
             "#0d0887"
            ],
            [
             0.1111111111111111,
             "#46039f"
            ],
            [
             0.2222222222222222,
             "#7201a8"
            ],
            [
             0.3333333333333333,
             "#9c179e"
            ],
            [
             0.4444444444444444,
             "#bd3786"
            ],
            [
             0.5555555555555556,
             "#d8576b"
            ],
            [
             0.6666666666666666,
             "#ed7953"
            ],
            [
             0.7777777777777778,
             "#fb9f3a"
            ],
            [
             0.8888888888888888,
             "#fdca26"
            ],
            [
             1,
             "#f0f921"
            ]
           ],
           "sequentialminus": [
            [
             0,
             "#0d0887"
            ],
            [
             0.1111111111111111,
             "#46039f"
            ],
            [
             0.2222222222222222,
             "#7201a8"
            ],
            [
             0.3333333333333333,
             "#9c179e"
            ],
            [
             0.4444444444444444,
             "#bd3786"
            ],
            [
             0.5555555555555556,
             "#d8576b"
            ],
            [
             0.6666666666666666,
             "#ed7953"
            ],
            [
             0.7777777777777778,
             "#fb9f3a"
            ],
            [
             0.8888888888888888,
             "#fdca26"
            ],
            [
             1,
             "#f0f921"
            ]
           ]
          },
          "colorway": [
           "#636efa",
           "#EF553B",
           "#00cc96",
           "#ab63fa",
           "#FFA15A",
           "#19d3f3",
           "#FF6692",
           "#B6E880",
           "#FF97FF",
           "#FECB52"
          ],
          "font": {
           "color": "#2a3f5f"
          },
          "geo": {
           "bgcolor": "white",
           "lakecolor": "white",
           "landcolor": "#E5ECF6",
           "showlakes": true,
           "showland": true,
           "subunitcolor": "white"
          },
          "hoverlabel": {
           "align": "left"
          },
          "hovermode": "closest",
          "mapbox": {
           "style": "light"
          },
          "paper_bgcolor": "white",
          "plot_bgcolor": "#E5ECF6",
          "polar": {
           "angularaxis": {
            "gridcolor": "white",
            "linecolor": "white",
            "ticks": ""
           },
           "bgcolor": "#E5ECF6",
           "radialaxis": {
            "gridcolor": "white",
            "linecolor": "white",
            "ticks": ""
           }
          },
          "scene": {
           "xaxis": {
            "backgroundcolor": "#E5ECF6",
            "gridcolor": "white",
            "gridwidth": 2,
            "linecolor": "white",
            "showbackground": true,
            "ticks": "",
            "zerolinecolor": "white"
           },
           "yaxis": {
            "backgroundcolor": "#E5ECF6",
            "gridcolor": "white",
            "gridwidth": 2,
            "linecolor": "white",
            "showbackground": true,
            "ticks": "",
            "zerolinecolor": "white"
           },
           "zaxis": {
            "backgroundcolor": "#E5ECF6",
            "gridcolor": "white",
            "gridwidth": 2,
            "linecolor": "white",
            "showbackground": true,
            "ticks": "",
            "zerolinecolor": "white"
           }
          },
          "shapedefaults": {
           "line": {
            "color": "#2a3f5f"
           }
          },
          "ternary": {
           "aaxis": {
            "gridcolor": "white",
            "linecolor": "white",
            "ticks": ""
           },
           "baxis": {
            "gridcolor": "white",
            "linecolor": "white",
            "ticks": ""
           },
           "bgcolor": "#E5ECF6",
           "caxis": {
            "gridcolor": "white",
            "linecolor": "white",
            "ticks": ""
           }
          },
          "title": {
           "x": 0.05
          },
          "xaxis": {
           "automargin": true,
           "gridcolor": "white",
           "linecolor": "white",
           "ticks": "",
           "zerolinecolor": "white",
           "zerolinewidth": 2
          },
          "yaxis": {
           "automargin": true,
           "gridcolor": "white",
           "linecolor": "white",
           "ticks": "",
           "zerolinecolor": "white",
           "zerolinewidth": 2
          }
         }
        },
        "title": {
         "text": "Histograma da qtde. de comentários por pessoa"
        },
        "xaxis": {
         "anchor": "y",
         "autorange": true,
         "domain": [
          0,
          0.98
         ],
         "range": [
          -0.5,
          394.5
         ],
         "title": {
          "text": "comentario"
         },
         "type": "linear"
        },
        "yaxis": {
         "anchor": "x",
         "autorange": true,
         "domain": [
          0,
          1
         ],
         "range": [
          0,
          1616.842105263158
         ],
         "title": {
          "text": "count"
         }
        }
       }
      },
      "image/png": "[encoded data removed]",
      "text/html": [
       "<div>\n",
       "        \n",
       "        \n",
       "            <div id=\"b9464620-01b3-4e5a-a01f-b4a26b4f3bb1\" class=\"plotly-graph-div\" style=\"height:600px; width:100%;\"></div>\n",
       "            <script type=\"text/javascript\">\n",
       "                require([\"plotly\"], function(Plotly) {\n",
       "                    window.PLOTLYENV=window.PLOTLYENV || {};\n",
       "                    \n",
       "                if (document.getElementById(\"b9464620-01b3-4e5a-a01f-b4a26b4f3bb1\")) {\n",
       "                    Plotly.newPlot(\n",
       "                        'b9464620-01b3-4e5a-a01f-b4a26b4f3bb1',\n",
       "                        [{\"alignmentgroup\": \"True\", \"bingroup\": \"x\", \"hoverlabel\": {\"namelength\": 0}, \"hovertemplate\": \"comentario=%{x}<br>count=%{y}\", \"legendgroup\": \"\", \"marker\": {\"color\": \"#636efa\"}, \"name\": \"\", \"nbinsx\": 100, \"offsetgroup\": \"\", \"orientation\": \"v\", \"showlegend\": false, \"type\": \"histogram\", \"x\": [3, 2, 1, 1, 1, 1, 1, 2, 4, 1, 2, 2, 5, 1, 4, 1, 1, 1, 1, 1, 1, 7, 2, 1, 1, 1, 3, 1, 9, 1, 4, 2, 1, 1, 1, 1, 4, 2, 1, 1, 3, 1, 1, 3, 1, 1, 4, 1, 1, 1, 2, 1, 1, 4, 1, 2, 1, 1, 1, 4, 1, 1, 5, 1, 1, 1, 10, 1, 1, 1, 1, 5, 1, 1, 1, 1, 12, 1, 2, 1, 6, 1, 1, 2, 1, 1, 1, 4, 2, 2, 1, 2, 1, 1, 1, 1, 2, 1, 1, 4, 1, 7, 6, 3, 2, 1, 1, 1, 1, 1, 2, 1, 1, 2, 1, 5, 2, 1, 3, 1, 1, 1, 1, 2, 3, 2, 1, 1, 1, 6, 1, 1, 2, 15, 1, 1, 2, 2, 2, 3, 2, 1, 14, 1, 5, 1, 1, 1, 1, 1, 6, 1, 2, 1, 3, 4, 1, 1, 1, 3, 3, 1, 2, 1, 1, 1, 2, 3, 3, 2, 12, 4, 25, 1, 1, 1, 1, 1, 1, 1, 1, 1, 5, 1, 1, 1, 7, 1, 1, 1, 1, 1, 3, 1, 3, 1, 1, 2, 6, 2, 1, 2, 1, 1, 3, 20, 1, 2, 2, 1, 1, 4, 1, 2, 1, 2, 1, 2, 7, 1, 1, 2, 9, 2, 1, 1, 1, 1, 1, 1, 1, 1, 6, 1, 1, 14, 1, 1, 1, 1, 2, 1, 4, 8, 1, 5, 1, 1, 1, 1, 1, 1, 1, 3, 2, 1, 2, 3, 1, 5, 2, 1, 1, 3, 1, 3, 2, 1, 1, 2, 9, 1, 3, 3, 2, 5, 2, 1, 1, 1, 1, 7, 1, 1, 2, 1, 1, 1, 1, 1, 11, 1, 10, 1, 1, 1, 1, 7, 2, 8, 1, 2, 8, 1, 1, 1, 1, 1, 1, 1, 21, 1, 1, 1, 1, 1, 1, 1, 1, 1, 1, 1, 7, 1, 1, 1, 3, 2, 1, 1, 1, 1, 3, 1, 2, 1, 1, 4, 2, 1, 1, 6, 1, 1, 3, 1, 1, 1, 1, 1, 1, 1, 1, 1, 1, 1, 1, 7, 1, 1, 4, 3, 2, 1, 9, 1, 1, 1, 2, 2, 1, 1, 19, 11, 5, 1, 3, 1, 5, 1, 1, 3, 1, 13, 2, 1, 12, 1, 2, 1, 1, 1, 6, 1, 1, 1, 1, 1, 2, 1, 1, 7, 1, 6, 1, 1, 1, 1, 3, 1, 2, 1, 3, 1, 1, 1, 1, 1, 1, 5, 1, 1, 2, 9, 1, 2, 1, 1, 1, 1, 1, 1, 4, 1, 1, 1, 1, 1, 6, 3, 2, 2, 1, 1, 2, 1, 1, 1, 2, 14, 14, 1, 2, 1, 13, 12, 1, 1, 4, 6, 1, 1, 1, 1, 1, 1, 1, 1, 1, 1, 1, 2, 1, 1, 1, 1, 1, 1, 1, 1, 7, 1, 6, 1, 5, 1, 3, 1, 2, 36, 1, 2, 4, 1, 1, 4, 13, 1, 1, 1, 7, 1, 2, 1, 2, 2, 2, 2, 1, 2, 1, 1, 1, 2, 1, 1, 3, 2, 2, 1, 4, 1, 1, 1, 1, 15, 9, 1, 1, 2, 2, 1, 1, 1, 6, 3, 2, 1, 1, 1, 1, 2, 2, 2, 1, 1, 1, 1, 5, 2, 1, 2, 1, 1, 1, 4, 1, 1, 1, 1, 1, 13, 2, 1, 3, 1, 2, 2, 2, 1, 3, 3, 35, 1, 5, 2, 1, 1, 2, 2, 3, 1, 1, 1, 1, 1, 12, 2, 2, 1, 1, 1, 1, 1, 3, 1, 1, 1, 1, 1, 1, 2, 11, 5, 1, 1, 1, 1, 1, 1, 1, 1, 1, 3, 1, 1, 3, 1, 1, 2, 1, 2, 1, 1, 5, 4, 1, 1, 2, 1, 2, 1, 1, 3, 1, 1, 1, 1, 2, 2, 1, 3, 1, 2, 1, 1, 1, 1, 1, 2, 1, 1, 1, 1, 3, 1, 1, 1, 1, 2, 3, 8, 1, 1, 2, 1, 1, 2, 1, 1, 1, 1, 1, 3, 3, 1, 1, 1, 1, 5, 1, 3, 6, 1, 1, 3, 1, 1, 7, 1, 1, 3, 1, 1, 2, 1, 2, 1, 1, 2, 4, 1, 1, 1, 1, 1, 1, 5, 2, 1, 1, 3, 4, 1, 1, 3, 1, 1, 1, 1, 1, 1, 1, 1, 1, 1, 1, 1, 1, 1, 2, 1, 2, 2, 3, 1, 3, 3, 6, 1, 1, 1, 1, 6, 1, 3, 1, 1, 2, 1, 1, 1, 4, 2, 5, 3, 4, 3, 2, 1, 1, 1, 2, 1, 1, 1, 1, 1, 1, 1, 1, 1, 1, 11, 1, 1, 1, 1, 2, 1, 2, 31, 1, 1, 4, 2, 2, 1, 3, 1, 1, 1, 1, 1, 1, 2, 7, 2, 1, 1, 1, 9, 1, 1, 1, 1, 1, 1, 4, 1, 5, 1, 2, 1, 2, 1, 1, 1, 2, 5, 2, 1, 1, 2, 1, 1, 4, 6, 1, 1, 10, 1, 1, 5, 2, 1, 1, 1, 1, 1, 1, 1, 1, 3, 5, 1, 2, 1, 1, 1, 1, 1, 1, 2, 2, 1, 2, 1, 1, 2, 1, 1, 1, 2, 1, 1, 1, 5, 3, 2, 1, 2, 1, 1, 1, 6, 1, 4, 34, 3, 1, 1, 1, 1, 2, 2, 1, 3, 2, 1, 2, 1, 1, 1, 1, 1, 3, 1, 1, 1, 8, 1, 1, 1, 9, 3, 1, 2, 1, 1, 1, 3, 1, 15, 1, 1, 4, 2, 7, 1, 1, 1, 4, 1, 1, 1, 1, 2, 1, 1, 1, 1, 1, 1, 1, 1, 1, 1, 11, 6, 1, 2, 1, 3, 1, 6, 1, 1, 1, 2, 1, 1, 1, 1, 1, 1, 3, 3, 1, 1, 1, 1, 1, 1, 1, 1, 1, 4, 2, 1, 2, 1, 13, 1, 14, 2, 1, 2, 1, 2, 1, 1, 1, 1, 1, 1, 2, 2, 1, 1, 1, 1, 1, 3, 1, 2, 3, 2, 1, 17, 1, 1, 1, 1, 1, 1, 10, 3, 2, 1, 1, 1, 1, 1, 2, 5, 2, 1, 1, 1, 1, 3, 1, 2, 4, 1, 6, 3, 1, 1, 1, 4, 1, 1, 1, 4, 4, 1, 1, 1, 4, 2, 135, 2, 1, 3, 2, 1, 1, 1, 1, 1, 2, 1, 2, 3, 4, 1, 4, 1, 6, 1, 1, 2, 1, 2, 3, 1, 3, 3, 1, 3, 1, 1, 8, 1, 7, 1, 1, 1, 3, 3, 1, 1, 3, 1, 1, 3, 6, 1, 4, 2, 21, 1, 1, 2, 1, 1, 3, 2, 1, 1, 2, 2, 1, 2, 1, 1, 1, 1, 1, 1, 1, 2, 1, 1, 1, 3, 1, 3, 2, 5, 1, 1, 1, 393, 1, 1, 1, 1, 3, 1, 1, 1, 1, 1, 1, 1, 1, 1, 2, 2, 3, 1, 1, 1, 3, 1, 1, 6, 1, 1, 2, 2, 4, 1, 4, 2, 1, 2, 3, 1, 20, 2, 2, 2, 1, 3, 1, 1, 1, 20, 2, 1, 1, 1, 1, 1, 1, 2, 1, 3, 4, 1, 1, 3, 1, 2, 2, 1, 1, 2, 1, 1, 1, 1, 1, 5, 1, 3, 5, 1, 1, 1, 3, 1, 2, 1, 3, 6, 1, 1, 1, 2, 1, 1, 3, 1, 1, 1, 1, 1, 1, 1, 2, 1, 7, 1, 1, 1, 2, 2, 1, 1, 1, 2, 1, 1, 1, 1, 1, 1, 1, 1, 1, 2, 1, 6, 1, 1, 2, 1, 1, 6, 40, 1, 1, 1, 10, 2, 2, 1, 1, 2, 1, 1, 1, 3, 1, 2, 1, 1, 2, 2, 2, 1, 1, 2, 1, 3, 3, 4, 1, 1, 1, 1, 1, 2, 1, 1, 1, 1, 2, 2, 10, 1, 6, 2, 6, 1, 1, 1, 1, 1, 1, 6, 4, 1, 1, 3, 3, 1, 1, 1, 2, 1, 1, 2, 15, 1, 1, 1, 8, 1, 1, 1, 1, 1, 1, 1, 1, 1, 1, 2, 1, 2, 1, 1, 1, 28, 3, 1, 1, 1, 5, 1, 1, 2, 1, 2, 2, 1, 2, 1, 7, 1, 3, 1, 1, 1, 2, 1, 31, 2, 1, 1, 3, 2, 1, 1, 3, 1, 1, 3, 2, 1, 1, 1, 3, 1, 1, 1, 1, 1, 1, 2, 1, 1, 1, 2, 1, 1, 2, 1, 3, 2, 1, 4, 1, 1, 2, 1, 9, 3, 6, 1, 1, 1, 1, 1, 1, 1, 5, 1, 3, 2, 1, 48, 1, 1, 2, 2, 5, 1, 1, 1, 1, 3, 1, 2, 1, 1, 1, 2, 1, 2, 1, 1, 1, 3, 1, 2, 2, 2, 7, 1, 2, 1, 1, 1, 1, 2, 10, 4, 1, 2, 1, 1, 4, 1, 2, 7, 1, 1, 1, 1, 2, 4, 1, 3, 1, 1, 1, 1, 1, 2, 1, 2, 1, 2, 4, 1, 1, 1, 7, 1, 1, 1, 1, 22, 1, 1, 4, 1, 1, 3, 1, 10, 1, 1, 7, 1, 2, 2, 7, 1, 2, 1, 1, 2, 1, 1, 1, 1, 37, 1, 1, 1, 4, 1, 1, 1, 1, 1, 1, 1, 1, 1, 1, 1, 1, 1, 4, 17, 3, 1, 1, 1, 1, 4, 1, 1, 1, 1, 5, 1, 1, 2, 1, 1, 1, 1, 3, 1, 1, 1, 1, 2, 1, 1, 2, 7, 1, 1, 1, 1, 1, 1, 1, 2, 1, 2, 1, 2, 3, 2, 4, 3, 1, 1, 1, 1, 3, 1, 1, 2, 1, 1, 1, 1, 2, 1, 1, 3, 8, 2, 1, 3, 2, 1, 3, 1, 1, 2, 1, 1, 2, 1, 1, 1, 2, 3, 1, 2, 6, 1, 1, 2, 1, 1, 4, 2, 3, 1, 1, 7, 1, 2, 1, 2, 2, 2, 1, 1, 1, 1, 1, 1, 1, 1, 1, 1, 2, 4, 1, 1, 3, 1, 1, 2, 1, 2, 2, 1, 1, 1, 2, 2, 1, 3, 1, 3, 5, 1, 1, 1, 1, 1, 1, 1, 1, 2, 2, 3, 1, 1, 4, 4, 3, 2, 1, 1, 1, 2, 3, 1, 1, 7, 2, 2, 1, 4, 1, 4, 3, 1, 1], \"xaxis\": \"x\", \"yaxis\": \"y\"}],\n",
       "                        {\"barmode\": \"relative\", \"height\": 600, \"legend\": {\"tracegroupgap\": 0}, \"template\": {\"data\": {\"bar\": [{\"error_x\": {\"color\": \"#2a3f5f\"}, \"error_y\": {\"color\": \"#2a3f5f\"}, \"marker\": {\"line\": {\"color\": \"#E5ECF6\", \"width\": 0.5}}, \"type\": \"bar\"}], \"barpolar\": [{\"marker\": {\"line\": {\"color\": \"#E5ECF6\", \"width\": 0.5}}, \"type\": \"barpolar\"}], \"carpet\": [{\"aaxis\": {\"endlinecolor\": \"#2a3f5f\", \"gridcolor\": \"white\", \"linecolor\": \"white\", \"minorgridcolor\": \"white\", \"startlinecolor\": \"#2a3f5f\"}, \"baxis\": {\"endlinecolor\": \"#2a3f5f\", \"gridcolor\": \"white\", \"linecolor\": \"white\", \"minorgridcolor\": \"white\", \"startlinecolor\": \"#2a3f5f\"}, \"type\": \"carpet\"}], \"choropleth\": [{\"colorbar\": {\"outlinewidth\": 0, \"ticks\": \"\"}, \"type\": \"choropleth\"}], \"contour\": [{\"colorbar\": {\"outlinewidth\": 0, \"ticks\": \"\"}, \"colorscale\": [[0.0, \"#0d0887\"], [0.1111111111111111, \"#46039f\"], [0.2222222222222222, \"#7201a8\"], [0.3333333333333333, \"#9c179e\"], [0.4444444444444444, \"#bd3786\"], [0.5555555555555556, \"#d8576b\"], [0.6666666666666666, \"#ed7953\"], [0.7777777777777778, \"#fb9f3a\"], [0.8888888888888888, \"#fdca26\"], [1.0, \"#f0f921\"]], \"type\": \"contour\"}], \"contourcarpet\": [{\"colorbar\": {\"outlinewidth\": 0, \"ticks\": \"\"}, \"type\": \"contourcarpet\"}], \"heatmap\": [{\"colorbar\": {\"outlinewidth\": 0, \"ticks\": \"\"}, \"colorscale\": [[0.0, \"#0d0887\"], [0.1111111111111111, \"#46039f\"], [0.2222222222222222, \"#7201a8\"], [0.3333333333333333, \"#9c179e\"], [0.4444444444444444, \"#bd3786\"], [0.5555555555555556, \"#d8576b\"], [0.6666666666666666, \"#ed7953\"], [0.7777777777777778, \"#fb9f3a\"], [0.8888888888888888, \"#fdca26\"], [1.0, \"#f0f921\"]], \"type\": \"heatmap\"}], \"heatmapgl\": [{\"colorbar\": {\"outlinewidth\": 0, \"ticks\": \"\"}, \"colorscale\": [[0.0, \"#0d0887\"], [0.1111111111111111, \"#46039f\"], [0.2222222222222222, \"#7201a8\"], [0.3333333333333333, \"#9c179e\"], [0.4444444444444444, \"#bd3786\"], [0.5555555555555556, \"#d8576b\"], [0.6666666666666666, \"#ed7953\"], [0.7777777777777778, \"#fb9f3a\"], [0.8888888888888888, \"#fdca26\"], [1.0, \"#f0f921\"]], \"type\": \"heatmapgl\"}], \"histogram\": [{\"marker\": {\"colorbar\": {\"outlinewidth\": 0, \"ticks\": \"\"}}, \"type\": \"histogram\"}], \"histogram2d\": [{\"colorbar\": {\"outlinewidth\": 0, \"ticks\": \"\"}, \"colorscale\": [[0.0, \"#0d0887\"], [0.1111111111111111, \"#46039f\"], [0.2222222222222222, \"#7201a8\"], [0.3333333333333333, \"#9c179e\"], [0.4444444444444444, \"#bd3786\"], [0.5555555555555556, \"#d8576b\"], [0.6666666666666666, \"#ed7953\"], [0.7777777777777778, \"#fb9f3a\"], [0.8888888888888888, \"#fdca26\"], [1.0, \"#f0f921\"]], \"type\": \"histogram2d\"}], \"histogram2dcontour\": [{\"colorbar\": {\"outlinewidth\": 0, \"ticks\": \"\"}, \"colorscale\": [[0.0, \"#0d0887\"], [0.1111111111111111, \"#46039f\"], [0.2222222222222222, \"#7201a8\"], [0.3333333333333333, \"#9c179e\"], [0.4444444444444444, \"#bd3786\"], [0.5555555555555556, \"#d8576b\"], [0.6666666666666666, \"#ed7953\"], [0.7777777777777778, \"#fb9f3a\"], [0.8888888888888888, \"#fdca26\"], [1.0, \"#f0f921\"]], \"type\": \"histogram2dcontour\"}], \"mesh3d\": [{\"colorbar\": {\"outlinewidth\": 0, \"ticks\": \"\"}, \"type\": \"mesh3d\"}], \"parcoords\": [{\"line\": {\"colorbar\": {\"outlinewidth\": 0, \"ticks\": \"\"}}, \"type\": \"parcoords\"}], \"scatter\": [{\"marker\": {\"colorbar\": {\"outlinewidth\": 0, \"ticks\": \"\"}}, \"type\": \"scatter\"}], \"scatter3d\": [{\"line\": {\"colorbar\": {\"outlinewidth\": 0, \"ticks\": \"\"}}, \"marker\": {\"colorbar\": {\"outlinewidth\": 0, \"ticks\": \"\"}}, \"type\": \"scatter3d\"}], \"scattercarpet\": [{\"marker\": {\"colorbar\": {\"outlinewidth\": 0, \"ticks\": \"\"}}, \"type\": \"scattercarpet\"}], \"scattergeo\": [{\"marker\": {\"colorbar\": {\"outlinewidth\": 0, \"ticks\": \"\"}}, \"type\": \"scattergeo\"}], \"scattergl\": [{\"marker\": {\"colorbar\": {\"outlinewidth\": 0, \"ticks\": \"\"}}, \"type\": \"scattergl\"}], \"scattermapbox\": [{\"marker\": {\"colorbar\": {\"outlinewidth\": 0, \"ticks\": \"\"}}, \"type\": \"scattermapbox\"}], \"scatterpolar\": [{\"marker\": {\"colorbar\": {\"outlinewidth\": 0, \"ticks\": \"\"}}, \"type\": \"scatterpolar\"}], \"scatterpolargl\": [{\"marker\": {\"colorbar\": {\"outlinewidth\": 0, \"ticks\": \"\"}}, \"type\": \"scatterpolargl\"}], \"scatterternary\": [{\"marker\": {\"colorbar\": {\"outlinewidth\": 0, \"ticks\": \"\"}}, \"type\": \"scatterternary\"}], \"surface\": [{\"colorbar\": {\"outlinewidth\": 0, \"ticks\": \"\"}, \"colorscale\": [[0.0, \"#0d0887\"], [0.1111111111111111, \"#46039f\"], [0.2222222222222222, \"#7201a8\"], [0.3333333333333333, \"#9c179e\"], [0.4444444444444444, \"#bd3786\"], [0.5555555555555556, \"#d8576b\"], [0.6666666666666666, \"#ed7953\"], [0.7777777777777778, \"#fb9f3a\"], [0.8888888888888888, \"#fdca26\"], [1.0, \"#f0f921\"]], \"type\": \"surface\"}], \"table\": [{\"cells\": {\"fill\": {\"color\": \"#EBF0F8\"}, \"line\": {\"color\": \"white\"}}, \"header\": {\"fill\": {\"color\": \"#C8D4E3\"}, \"line\": {\"color\": \"white\"}}, \"type\": \"table\"}]}, \"layout\": {\"annotationdefaults\": {\"arrowcolor\": \"#2a3f5f\", \"arrowhead\": 0, \"arrowwidth\": 1}, \"colorscale\": {\"diverging\": [[0, \"#8e0152\"], [0.1, \"#c51b7d\"], [0.2, \"#de77ae\"], [0.3, \"#f1b6da\"], [0.4, \"#fde0ef\"], [0.5, \"#f7f7f7\"], [0.6, \"#e6f5d0\"], [0.7, \"#b8e186\"], [0.8, \"#7fbc41\"], [0.9, \"#4d9221\"], [1, \"#276419\"]], \"sequential\": [[0.0, \"#0d0887\"], [0.1111111111111111, \"#46039f\"], [0.2222222222222222, \"#7201a8\"], [0.3333333333333333, \"#9c179e\"], [0.4444444444444444, \"#bd3786\"], [0.5555555555555556, \"#d8576b\"], [0.6666666666666666, \"#ed7953\"], [0.7777777777777778, \"#fb9f3a\"], [0.8888888888888888, \"#fdca26\"], [1.0, \"#f0f921\"]], \"sequentialminus\": [[0.0, \"#0d0887\"], [0.1111111111111111, \"#46039f\"], [0.2222222222222222, \"#7201a8\"], [0.3333333333333333, \"#9c179e\"], [0.4444444444444444, \"#bd3786\"], [0.5555555555555556, \"#d8576b\"], [0.6666666666666666, \"#ed7953\"], [0.7777777777777778, \"#fb9f3a\"], [0.8888888888888888, \"#fdca26\"], [1.0, \"#f0f921\"]]}, \"colorway\": [\"#636efa\", \"#EF553B\", \"#00cc96\", \"#ab63fa\", \"#FFA15A\", \"#19d3f3\", \"#FF6692\", \"#B6E880\", \"#FF97FF\", \"#FECB52\"], \"font\": {\"color\": \"#2a3f5f\"}, \"geo\": {\"bgcolor\": \"white\", \"lakecolor\": \"white\", \"landcolor\": \"#E5ECF6\", \"showlakes\": true, \"showland\": true, \"subunitcolor\": \"white\"}, \"hoverlabel\": {\"align\": \"left\"}, \"hovermode\": \"closest\", \"mapbox\": {\"style\": \"light\"}, \"paper_bgcolor\": \"white\", \"plot_bgcolor\": \"#E5ECF6\", \"polar\": {\"angularaxis\": {\"gridcolor\": \"white\", \"linecolor\": \"white\", \"ticks\": \"\"}, \"bgcolor\": \"#E5ECF6\", \"radialaxis\": {\"gridcolor\": \"white\", \"linecolor\": \"white\", \"ticks\": \"\"}}, \"scene\": {\"xaxis\": {\"backgroundcolor\": \"#E5ECF6\", \"gridcolor\": \"white\", \"gridwidth\": 2, \"linecolor\": \"white\", \"showbackground\": true, \"ticks\": \"\", \"zerolinecolor\": \"white\"}, \"yaxis\": {\"backgroundcolor\": \"#E5ECF6\", \"gridcolor\": \"white\", \"gridwidth\": 2, \"linecolor\": \"white\", \"showbackground\": true, \"ticks\": \"\", \"zerolinecolor\": \"white\"}, \"zaxis\": {\"backgroundcolor\": \"#E5ECF6\", \"gridcolor\": \"white\", \"gridwidth\": 2, \"linecolor\": \"white\", \"showbackground\": true, \"ticks\": \"\", \"zerolinecolor\": \"white\"}}, \"shapedefaults\": {\"line\": {\"color\": \"#2a3f5f\"}}, \"ternary\": {\"aaxis\": {\"gridcolor\": \"white\", \"linecolor\": \"white\", \"ticks\": \"\"}, \"baxis\": {\"gridcolor\": \"white\", \"linecolor\": \"white\", \"ticks\": \"\"}, \"bgcolor\": \"#E5ECF6\", \"caxis\": {\"gridcolor\": \"white\", \"linecolor\": \"white\", \"ticks\": \"\"}}, \"title\": {\"x\": 0.05}, \"xaxis\": {\"automargin\": true, \"gridcolor\": \"white\", \"linecolor\": \"white\", \"ticks\": \"\", \"zerolinecolor\": \"white\", \"zerolinewidth\": 2}, \"yaxis\": {\"automargin\": true, \"gridcolor\": \"white\", \"linecolor\": \"white\", \"ticks\": \"\", \"zerolinecolor\": \"white\", \"zerolinewidth\": 2}}}, \"title\": {\"text\": \"Histograma da qtde. de coment\\u00e1rios por pessoa\"}, \"xaxis\": {\"anchor\": \"y\", \"domain\": [0.0, 0.98], \"title\": {\"text\": \"comentario\"}}, \"yaxis\": {\"anchor\": \"x\", \"domain\": [0.0, 1.0], \"title\": {\"text\": \"count\"}}},\n",
       "                        {\"responsive\": true}\n",
       "                    ).then(function(){\n",
       "                            \n",
       "var gd = document.getElementById('b9464620-01b3-4e5a-a01f-b4a26b4f3bb1');\n",
       "var x = new MutationObserver(function (mutations, observer) {{\n",
       "        var display = window.getComputedStyle(gd).display;\n",
       "        if (!display || display === 'none') {{\n",
       "            console.log([gd, 'removed!']);\n",
       "            Plotly.purge(gd);\n",
       "            observer.disconnect();\n",
       "        }}\n",
       "}});\n",
       "\n",
       "// Listen for the removal of the full notebook cells\n",
       "var notebookContainer = gd.closest('#notebook-container');\n",
       "if (notebookContainer) {{\n",
       "    x.observe(notebookContainer, {childList: true});\n",
       "}}\n",
       "\n",
       "// Listen for the clearing of the current output cell\n",
       "var outputEl = gd.closest('.output');\n",
       "if (outputEl) {{\n",
       "    x.observe(outputEl, {childList: true});\n",
       "}}\n",
       "\n",
       "                        })\n",
       "                };\n",
       "                });\n",
       "            </script>\n",
       "        </div>"
      ]
     },
     "metadata": {},
     "output_type": "display_data"
    }
   ],
   "source": [
    "px.histogram(df.groupby('autor_comentario').count(), x='comentario', nbins=100, title=\"Histograma da qtde. de comentários por pessoa\")"
   ]
  },
  {
   "cell_type": "markdown",
   "metadata": {},
   "source": [
    "Esse gráfico me deixou um pouco... supreso. Ele segue o formato que eu tinha imaginado, mas os valores são bem mais drásticos. Quem será a pessoa que deixou quase 400 comentários?\n",
    "\n",
    "Vamos dar uma olhada nas 5 pessoas que comentaram mais vezes:"
   ]
  },
  {
   "cell_type": "code",
   "execution_count": 27,
   "metadata": {},
   "outputs": [
    {
     "data": {
      "text/html": [
       "<div>\n",
       "<style scoped>\n",
       "    .dataframe tbody tr th:only-of-type {\n",
       "        vertical-align: middle;\n",
       "    }\n",
       "\n",
       "    .dataframe tbody tr th {\n",
       "        vertical-align: top;\n",
       "    }\n",
       "\n",
       "    .dataframe thead th {\n",
       "        text-align: right;\n",
       "    }\n",
       "</style>\n",
       "<table border=\"1\" class=\"dataframe\">\n",
       "  <thead>\n",
       "    <tr style=\"text-align: right;\">\n",
       "      <th></th>\n",
       "      <th>titulo</th>\n",
       "      <th>data</th>\n",
       "      <th>tags</th>\n",
       "      <th>participantes</th>\n",
       "      <th>comentario</th>\n",
       "    </tr>\n",
       "    <tr>\n",
       "      <th>autor_comentario</th>\n",
       "      <th></th>\n",
       "      <th></th>\n",
       "      <th></th>\n",
       "      <th></th>\n",
       "      <th></th>\n",
       "    </tr>\n",
       "  </thead>\n",
       "  <tbody>\n",
       "    <tr>\n",
       "      <th>Paulo Silveira</th>\n",
       "      <td>393</td>\n",
       "      <td>393</td>\n",
       "      <td>393</td>\n",
       "      <td>393</td>\n",
       "      <td>393</td>\n",
       "    </tr>\n",
       "    <tr>\n",
       "      <th>Maurício Linhares</th>\n",
       "      <td>135</td>\n",
       "      <td>135</td>\n",
       "      <td>135</td>\n",
       "      <td>135</td>\n",
       "      <td>135</td>\n",
       "    </tr>\n",
       "    <tr>\n",
       "      <th>Tiago Aguiar Moreira</th>\n",
       "      <td>48</td>\n",
       "      <td>48</td>\n",
       "      <td>48</td>\n",
       "      <td>48</td>\n",
       "      <td>48</td>\n",
       "    </tr>\n",
       "    <tr>\n",
       "      <th>Roberta Arcoverde</th>\n",
       "      <td>40</td>\n",
       "      <td>40</td>\n",
       "      <td>40</td>\n",
       "      <td>40</td>\n",
       "      <td>40</td>\n",
       "    </tr>\n",
       "    <tr>\n",
       "      <th>Welton Vaz de Souza</th>\n",
       "      <td>37</td>\n",
       "      <td>37</td>\n",
       "      <td>37</td>\n",
       "      <td>37</td>\n",
       "      <td>37</td>\n",
       "    </tr>\n",
       "  </tbody>\n",
       "</table>\n",
       "</div>"
      ],
      "text/plain": [
       "                      titulo  data  tags  participantes  comentario\n",
       "autor_comentario                                                   \n",
       "Paulo Silveira           393   393   393            393         393\n",
       "Maurício Linhares        135   135   135            135         135\n",
       "Tiago Aguiar Moreira      48    48    48             48          48\n",
       "Roberta Arcoverde         40    40    40             40          40\n",
       "Welton Vaz de Souza       37    37    37             37          37"
      ]
     },
     "execution_count": 27,
     "metadata": {},
     "output_type": "execute_result"
    }
   ],
   "source": [
    "df.groupby('autor_comentario').count().sort_values('comentario', ascending=False).head()"
   ]
  },
  {
   "cell_type": "markdown",
   "metadata": {},
   "source": [
    "Bem, eu deveria ter imaginado. Das 5 pessoas, 3 são participantes dos episódios que estão provavelmente respondendo comentários dos ouvintes. Vamos plotar novamente o gráfico de frequência, dessa vez ignorando os participantes.\n",
    "\n",
    "O gráfico é bem parecido com o anterior, porém sem os valores extremos. "
   ]
  },
  {
   "cell_type": "code",
   "execution_count": 28,
   "metadata": {},
   "outputs": [
    {
     "data": {
      "application/vnd.plotly.v1+json": {
       "config": {
        "plotlyServerURL": "https://plot.ly"
       },
       "data": [
        {
         "alignmentgroup": "True",
         "bingroup": "x",
         "hoverlabel": {
          "namelength": 0
         },
         "hovertemplate": "comentario=%{x}<br>count=%{y}",
         "legendgroup": "",
         "marker": {
          "color": "#636efa"
         },
         "name": "",
         "nbinsx": 48,
         "offsetgroup": "",
         "orientation": "v",
         "showlegend": false,
         "type": "histogram",
         "x": [
          3,
          2,
          1,
          1,
          1,
          1,
          1,
          2,
          4,
          1,
          2,
          2,
          5,
          1,
          4,
          1,
          1,
          1,
          1,
          1,
          1,
          7,
          2,
          1,
          1,
          1,
          3,
          1,
          9,
          1,
          4,
          2,
          1,
          1,
          1,
          1,
          4,
          2,
          1,
          3,
          1,
          1,
          3,
          1,
          1,
          1,
          1,
          2,
          1,
          1,
          4,
          1,
          2,
          1,
          1,
          1,
          4,
          1,
          1,
          5,
          1,
          1,
          1,
          10,
          1,
          1,
          1,
          1,
          5,
          1,
          1,
          1,
          1,
          12,
          1,
          2,
          1,
          6,
          1,
          1,
          2,
          1,
          1,
          1,
          4,
          2,
          2,
          1,
          2,
          1,
          1,
          1,
          1,
          1,
          1,
          4,
          1,
          7,
          6,
          3,
          2,
          1,
          1,
          1,
          1,
          1,
          2,
          1,
          1,
          2,
          1,
          5,
          2,
          1,
          3,
          1,
          1,
          1,
          1,
          2,
          3,
          2,
          1,
          1,
          1,
          6,
          1,
          1,
          2,
          15,
          1,
          1,
          2,
          2,
          2,
          3,
          2,
          1,
          14,
          1,
          5,
          1,
          1,
          1,
          1,
          1,
          6,
          1,
          2,
          1,
          3,
          4,
          1,
          1,
          1,
          3,
          3,
          1,
          2,
          1,
          1,
          1,
          2,
          3,
          3,
          2,
          12,
          4,
          25,
          1,
          1,
          1,
          1,
          1,
          1,
          1,
          1,
          1,
          5,
          1,
          1,
          1,
          7,
          1,
          1,
          1,
          1,
          1,
          3,
          1,
          1,
          1,
          2,
          6,
          2,
          1,
          2,
          1,
          3,
          20,
          1,
          2,
          2,
          1,
          1,
          4,
          1,
          2,
          1,
          2,
          1,
          2,
          7,
          1,
          1,
          2,
          9,
          2,
          1,
          1,
          1,
          1,
          1,
          1,
          1,
          1,
          6,
          1,
          14,
          1,
          1,
          1,
          1,
          2,
          1,
          4,
          8,
          1,
          5,
          1,
          1,
          1,
          1,
          1,
          1,
          1,
          3,
          2,
          1,
          2,
          1,
          5,
          2,
          1,
          1,
          3,
          1,
          3,
          2,
          1,
          1,
          2,
          1,
          3,
          3,
          2,
          5,
          2,
          1,
          1,
          1,
          1,
          7,
          1,
          1,
          2,
          1,
          1,
          1,
          1,
          1,
          11,
          1,
          10,
          1,
          1,
          1,
          1,
          7,
          2,
          1,
          2,
          8,
          1,
          1,
          1,
          1,
          1,
          1,
          1,
          21,
          1,
          1,
          1,
          1,
          1,
          1,
          1,
          1,
          1,
          1,
          1,
          7,
          1,
          1,
          1,
          3,
          2,
          1,
          1,
          1,
          1,
          3,
          1,
          2,
          1,
          1,
          4,
          2,
          1,
          1,
          6,
          1,
          1,
          3,
          1,
          1,
          1,
          1,
          1,
          1,
          1,
          1,
          1,
          1,
          1,
          1,
          7,
          1,
          1,
          4,
          3,
          2,
          1,
          9,
          1,
          1,
          1,
          2,
          2,
          1,
          1,
          19,
          11,
          5,
          1,
          3,
          1,
          1,
          1,
          3,
          1,
          13,
          2,
          1,
          12,
          1,
          2,
          1,
          1,
          1,
          6,
          1,
          1,
          1,
          1,
          1,
          2,
          1,
          1,
          7,
          1,
          6,
          1,
          1,
          1,
          1,
          3,
          1,
          2,
          1,
          3,
          1,
          1,
          1,
          1,
          1,
          1,
          5,
          1,
          1,
          2,
          9,
          1,
          2,
          1,
          1,
          1,
          1,
          1,
          1,
          4,
          1,
          1,
          1,
          1,
          1,
          6,
          2,
          2,
          1,
          1,
          2,
          1,
          1,
          1,
          2,
          14,
          1,
          2,
          1,
          13,
          12,
          1,
          1,
          4,
          1,
          1,
          1,
          1,
          1,
          1,
          1,
          1,
          1,
          1,
          1,
          2,
          1,
          1,
          1,
          1,
          1,
          1,
          1,
          1,
          1,
          6,
          1,
          5,
          1,
          3,
          1,
          2,
          36,
          1,
          2,
          4,
          1,
          1,
          4,
          13,
          1,
          1,
          1,
          7,
          1,
          2,
          1,
          2,
          2,
          2,
          2,
          1,
          2,
          1,
          1,
          1,
          2,
          1,
          1,
          3,
          2,
          2,
          1,
          4,
          1,
          1,
          1,
          1,
          9,
          1,
          1,
          2,
          2,
          1,
          1,
          1,
          6,
          3,
          2,
          1,
          1,
          1,
          1,
          2,
          2,
          2,
          1,
          1,
          1,
          1,
          5,
          2,
          1,
          2,
          1,
          1,
          1,
          4,
          1,
          1,
          1,
          1,
          1,
          13,
          2,
          1,
          3,
          1,
          2,
          2,
          2,
          1,
          3,
          3,
          1,
          5,
          2,
          1,
          1,
          2,
          3,
          1,
          1,
          1,
          1,
          1,
          12,
          2,
          2,
          1,
          1,
          1,
          1,
          1,
          3,
          1,
          1,
          1,
          1,
          1,
          1,
          2,
          5,
          1,
          1,
          1,
          1,
          1,
          1,
          1,
          1,
          3,
          1,
          3,
          1,
          1,
          2,
          1,
          2,
          1,
          1,
          5,
          4,
          1,
          1,
          2,
          1,
          1,
          1,
          3,
          1,
          1,
          1,
          1,
          2,
          2,
          1,
          3,
          1,
          2,
          1,
          1,
          1,
          1,
          1,
          2,
          1,
          1,
          1,
          1,
          3,
          1,
          1,
          1,
          1,
          2,
          3,
          8,
          1,
          1,
          2,
          1,
          1,
          2,
          1,
          1,
          1,
          1,
          1,
          3,
          3,
          1,
          1,
          1,
          1,
          5,
          1,
          3,
          6,
          1,
          1,
          3,
          1,
          1,
          7,
          1,
          1,
          3,
          1,
          1,
          2,
          1,
          2,
          1,
          1,
          2,
          4,
          1,
          1,
          1,
          1,
          1,
          1,
          5,
          2,
          1,
          1,
          3,
          4,
          1,
          1,
          3,
          1,
          1,
          1,
          1,
          1,
          1,
          1,
          1,
          1,
          1,
          1,
          1,
          1,
          1,
          2,
          1,
          2,
          2,
          3,
          1,
          3,
          3,
          6,
          1,
          1,
          1,
          1,
          6,
          1,
          3,
          1,
          1,
          2,
          1,
          1,
          1,
          4,
          2,
          5,
          3,
          4,
          3,
          2,
          1,
          1,
          1,
          2,
          1,
          1,
          1,
          1,
          1,
          1,
          1,
          1,
          1,
          1,
          11,
          1,
          1,
          1,
          1,
          2,
          1,
          2,
          31,
          1,
          1,
          4,
          2,
          2,
          1,
          3,
          1,
          1,
          1,
          1,
          1,
          1,
          2,
          7,
          2,
          1,
          1,
          1,
          9,
          1,
          1,
          1,
          1,
          1,
          1,
          4,
          1,
          5,
          1,
          2,
          1,
          2,
          1,
          1,
          1,
          2,
          2,
          1,
          1,
          2,
          1,
          1,
          4,
          6,
          1,
          1,
          1,
          1,
          5,
          2,
          1,
          1,
          1,
          1,
          1,
          1,
          1,
          1,
          3,
          5,
          1,
          2,
          1,
          1,
          1,
          1,
          1,
          1,
          2,
          2,
          1,
          2,
          1,
          1,
          2,
          1,
          1,
          1,
          1,
          1,
          1,
          5,
          3,
          2,
          1,
          2,
          1,
          1,
          1,
          6,
          1,
          4,
          34,
          3,
          1,
          1,
          1,
          2,
          2,
          1,
          3,
          2,
          1,
          2,
          1,
          1,
          1,
          1,
          1,
          3,
          1,
          1,
          1,
          8,
          1,
          1,
          1,
          9,
          3,
          1,
          2,
          1,
          1,
          1,
          3,
          1,
          15,
          1,
          1,
          4,
          2,
          7,
          1,
          1,
          1,
          4,
          1,
          1,
          1,
          1,
          2,
          1,
          1,
          1,
          1,
          1,
          1,
          1,
          1,
          1,
          1,
          11,
          6,
          1,
          2,
          1,
          3,
          1,
          6,
          1,
          1,
          1,
          2,
          1,
          1,
          1,
          1,
          1,
          1,
          3,
          3,
          1,
          1,
          1,
          1,
          1,
          1,
          1,
          1,
          1,
          4,
          2,
          1,
          2,
          1,
          1,
          14,
          2,
          1,
          2,
          1,
          2,
          1,
          1,
          1,
          1,
          1,
          1,
          2,
          2,
          1,
          1,
          1,
          1,
          1,
          1,
          2,
          3,
          2,
          1,
          17,
          1,
          1,
          1,
          1,
          1,
          10,
          3,
          2,
          1,
          1,
          1,
          1,
          1,
          2,
          5,
          2,
          1,
          1,
          1,
          1,
          3,
          1,
          2,
          4,
          1,
          6,
          3,
          1,
          1,
          1,
          4,
          1,
          1,
          1,
          4,
          4,
          1,
          1,
          1,
          2,
          2,
          1,
          3,
          2,
          1,
          1,
          1,
          1,
          1,
          2,
          1,
          2,
          3,
          4,
          1,
          4,
          1,
          6,
          1,
          1,
          2,
          1,
          2,
          3,
          1,
          3,
          3,
          1,
          3,
          1,
          1,
          1,
          7,
          1,
          1,
          1,
          3,
          1,
          1,
          3,
          1,
          1,
          3,
          6,
          1,
          4,
          2,
          21,
          1,
          1,
          2,
          1,
          1,
          3,
          2,
          1,
          1,
          2,
          2,
          1,
          2,
          1,
          1,
          1,
          1,
          1,
          1,
          1,
          2,
          1,
          1,
          1,
          3,
          1,
          3,
          2,
          5,
          1,
          1,
          1,
          1,
          1,
          1,
          1,
          3,
          1,
          1,
          1,
          1,
          1,
          1,
          1,
          1,
          2,
          2,
          3,
          1,
          1,
          1,
          1,
          1,
          6,
          1,
          1,
          2,
          2,
          4,
          1,
          4,
          2,
          1,
          2,
          3,
          1,
          20,
          2,
          2,
          1,
          3,
          1,
          1,
          1,
          20,
          2,
          1,
          1,
          1,
          1,
          1,
          1,
          2,
          1,
          3,
          4,
          1,
          1,
          3,
          1,
          2,
          2,
          1,
          1,
          2,
          1,
          1,
          1,
          1,
          1,
          5,
          1,
          3,
          5,
          1,
          1,
          1,
          3,
          1,
          2,
          1,
          3,
          6,
          1,
          1,
          1,
          2,
          1,
          1,
          3,
          1,
          1,
          1,
          1,
          1,
          1,
          1,
          2,
          1,
          7,
          1,
          1,
          2,
          2,
          1,
          1,
          1,
          2,
          1,
          1,
          1,
          1,
          1,
          1,
          1,
          1,
          1,
          2,
          1,
          6,
          1,
          1,
          2,
          1,
          1,
          6,
          1,
          1,
          1,
          10,
          2,
          2,
          1,
          1,
          2,
          1,
          1,
          1,
          3,
          1,
          2,
          1,
          1,
          2,
          2,
          1,
          1,
          2,
          1,
          3,
          4,
          1,
          1,
          1,
          1,
          2,
          1,
          1,
          1,
          1,
          2,
          2,
          10,
          1,
          6,
          2,
          1,
          1,
          1,
          1,
          1,
          1,
          6,
          4,
          1,
          1,
          3,
          3,
          1,
          1,
          1,
          2,
          1,
          1,
          2,
          15,
          1,
          1,
          1,
          8,
          1,
          1,
          1,
          1,
          1,
          1,
          1,
          1,
          1,
          1,
          2,
          1,
          2,
          1,
          1,
          1,
          28,
          3,
          1,
          1,
          1,
          5,
          1,
          1,
          2,
          1,
          2,
          2,
          1,
          2,
          1,
          7,
          1,
          3,
          1,
          1,
          1,
          2,
          1,
          2,
          1,
          1,
          3,
          2,
          1,
          1,
          3,
          1,
          1,
          3,
          2,
          1,
          1,
          1,
          1,
          1,
          1,
          1,
          1,
          1,
          2,
          1,
          1,
          1,
          2,
          1,
          1,
          2,
          1,
          3,
          2,
          1,
          4,
          1,
          1,
          2,
          1,
          9,
          3,
          6,
          1,
          1,
          1,
          1,
          1,
          1,
          1,
          5,
          1,
          3,
          2,
          1,
          48,
          1,
          1,
          2,
          2,
          1,
          1,
          1,
          1,
          3,
          1,
          2,
          1,
          1,
          1,
          2,
          1,
          2,
          1,
          1,
          1,
          3,
          1,
          2,
          2,
          2,
          7,
          1,
          2,
          1,
          1,
          1,
          1,
          2,
          10,
          4,
          1,
          2,
          1,
          1,
          4,
          1,
          2,
          7,
          1,
          1,
          1,
          1,
          2,
          4,
          1,
          3,
          1,
          1,
          1,
          1,
          1,
          2,
          1,
          2,
          1,
          2,
          4,
          1,
          1,
          1,
          7,
          1,
          1,
          1,
          1,
          1,
          1,
          4,
          1,
          1,
          3,
          1,
          10,
          1,
          1,
          7,
          2,
          2,
          7,
          1,
          2,
          1,
          1,
          2,
          1,
          1,
          1,
          1,
          37,
          1,
          1,
          1,
          4,
          1,
          1,
          1,
          1,
          1,
          1,
          1,
          1,
          1,
          1,
          1,
          1,
          1,
          17,
          3,
          1,
          1,
          1,
          1,
          4,
          1,
          1,
          1,
          1,
          5,
          1,
          1,
          2,
          1,
          1,
          1,
          1,
          3,
          1,
          1,
          1,
          1,
          2,
          1,
          1,
          2,
          7,
          1,
          1,
          1,
          1,
          1,
          1,
          1,
          2,
          1,
          2,
          1,
          2,
          3,
          2,
          4,
          3,
          1,
          1,
          1,
          1,
          3,
          1,
          1,
          2,
          1,
          1,
          1,
          1,
          2,
          1,
          1,
          3,
          8,
          2,
          1,
          3,
          2,
          1,
          3,
          1,
          1,
          2,
          1,
          1,
          2,
          1,
          1,
          1,
          2,
          3,
          1,
          2,
          6,
          1,
          1,
          2,
          1,
          1,
          4,
          2,
          3,
          1,
          1,
          7,
          1,
          2,
          1,
          2,
          2,
          2,
          1,
          1,
          1,
          1,
          1,
          1,
          1,
          1,
          1,
          1,
          2,
          4,
          1,
          1,
          3,
          1,
          1,
          2,
          1,
          2,
          2,
          1,
          1,
          1,
          2,
          2,
          1,
          3,
          1,
          3,
          5,
          1,
          1,
          1,
          1,
          1,
          1,
          1,
          1,
          2,
          2,
          3,
          1,
          1,
          4,
          4,
          3,
          2,
          1,
          1,
          1,
          2,
          3,
          1,
          1,
          7,
          2,
          2,
          1,
          4,
          1,
          4,
          3,
          1,
          1
         ],
         "xaxis": "x",
         "yaxis": "y"
        }
       ],
       "layout": {
        "autosize": true,
        "barmode": "relative",
        "legend": {
         "tracegroupgap": 0
        },
        "template": {
         "data": {
          "bar": [
           {
            "error_x": {
             "color": "#2a3f5f"
            },
            "error_y": {
             "color": "#2a3f5f"
            },
            "marker": {
             "line": {
              "color": "#E5ECF6",
              "width": 0.5
             }
            },
            "type": "bar"
           }
          ],
          "barpolar": [
           {
            "marker": {
             "line": {
              "color": "#E5ECF6",
              "width": 0.5
             }
            },
            "type": "barpolar"
           }
          ],
          "carpet": [
           {
            "aaxis": {
             "endlinecolor": "#2a3f5f",
             "gridcolor": "white",
             "linecolor": "white",
             "minorgridcolor": "white",
             "startlinecolor": "#2a3f5f"
            },
            "baxis": {
             "endlinecolor": "#2a3f5f",
             "gridcolor": "white",
             "linecolor": "white",
             "minorgridcolor": "white",
             "startlinecolor": "#2a3f5f"
            },
            "type": "carpet"
           }
          ],
          "choropleth": [
           {
            "colorbar": {
             "outlinewidth": 0,
             "ticks": ""
            },
            "type": "choropleth"
           }
          ],
          "contour": [
           {
            "colorbar": {
             "outlinewidth": 0,
             "ticks": ""
            },
            "colorscale": [
             [
              0,
              "#0d0887"
             ],
             [
              0.1111111111111111,
              "#46039f"
             ],
             [
              0.2222222222222222,
              "#7201a8"
             ],
             [
              0.3333333333333333,
              "#9c179e"
             ],
             [
              0.4444444444444444,
              "#bd3786"
             ],
             [
              0.5555555555555556,
              "#d8576b"
             ],
             [
              0.6666666666666666,
              "#ed7953"
             ],
             [
              0.7777777777777778,
              "#fb9f3a"
             ],
             [
              0.8888888888888888,
              "#fdca26"
             ],
             [
              1,
              "#f0f921"
             ]
            ],
            "type": "contour"
           }
          ],
          "contourcarpet": [
           {
            "colorbar": {
             "outlinewidth": 0,
             "ticks": ""
            },
            "type": "contourcarpet"
           }
          ],
          "heatmap": [
           {
            "colorbar": {
             "outlinewidth": 0,
             "ticks": ""
            },
            "colorscale": [
             [
              0,
              "#0d0887"
             ],
             [
              0.1111111111111111,
              "#46039f"
             ],
             [
              0.2222222222222222,
              "#7201a8"
             ],
             [
              0.3333333333333333,
              "#9c179e"
             ],
             [
              0.4444444444444444,
              "#bd3786"
             ],
             [
              0.5555555555555556,
              "#d8576b"
             ],
             [
              0.6666666666666666,
              "#ed7953"
             ],
             [
              0.7777777777777778,
              "#fb9f3a"
             ],
             [
              0.8888888888888888,
              "#fdca26"
             ],
             [
              1,
              "#f0f921"
             ]
            ],
            "type": "heatmap"
           }
          ],
          "heatmapgl": [
           {
            "colorbar": {
             "outlinewidth": 0,
             "ticks": ""
            },
            "colorscale": [
             [
              0,
              "#0d0887"
             ],
             [
              0.1111111111111111,
              "#46039f"
             ],
             [
              0.2222222222222222,
              "#7201a8"
             ],
             [
              0.3333333333333333,
              "#9c179e"
             ],
             [
              0.4444444444444444,
              "#bd3786"
             ],
             [
              0.5555555555555556,
              "#d8576b"
             ],
             [
              0.6666666666666666,
              "#ed7953"
             ],
             [
              0.7777777777777778,
              "#fb9f3a"
             ],
             [
              0.8888888888888888,
              "#fdca26"
             ],
             [
              1,
              "#f0f921"
             ]
            ],
            "type": "heatmapgl"
           }
          ],
          "histogram": [
           {
            "marker": {
             "colorbar": {
              "outlinewidth": 0,
              "ticks": ""
             }
            },
            "type": "histogram"
           }
          ],
          "histogram2d": [
           {
            "colorbar": {
             "outlinewidth": 0,
             "ticks": ""
            },
            "colorscale": [
             [
              0,
              "#0d0887"
             ],
             [
              0.1111111111111111,
              "#46039f"
             ],
             [
              0.2222222222222222,
              "#7201a8"
             ],
             [
              0.3333333333333333,
              "#9c179e"
             ],
             [
              0.4444444444444444,
              "#bd3786"
             ],
             [
              0.5555555555555556,
              "#d8576b"
             ],
             [
              0.6666666666666666,
              "#ed7953"
             ],
             [
              0.7777777777777778,
              "#fb9f3a"
             ],
             [
              0.8888888888888888,
              "#fdca26"
             ],
             [
              1,
              "#f0f921"
             ]
            ],
            "type": "histogram2d"
           }
          ],
          "histogram2dcontour": [
           {
            "colorbar": {
             "outlinewidth": 0,
             "ticks": ""
            },
            "colorscale": [
             [
              0,
              "#0d0887"
             ],
             [
              0.1111111111111111,
              "#46039f"
             ],
             [
              0.2222222222222222,
              "#7201a8"
             ],
             [
              0.3333333333333333,
              "#9c179e"
             ],
             [
              0.4444444444444444,
              "#bd3786"
             ],
             [
              0.5555555555555556,
              "#d8576b"
             ],
             [
              0.6666666666666666,
              "#ed7953"
             ],
             [
              0.7777777777777778,
              "#fb9f3a"
             ],
             [
              0.8888888888888888,
              "#fdca26"
             ],
             [
              1,
              "#f0f921"
             ]
            ],
            "type": "histogram2dcontour"
           }
          ],
          "mesh3d": [
           {
            "colorbar": {
             "outlinewidth": 0,
             "ticks": ""
            },
            "type": "mesh3d"
           }
          ],
          "parcoords": [
           {
            "line": {
             "colorbar": {
              "outlinewidth": 0,
              "ticks": ""
             }
            },
            "type": "parcoords"
           }
          ],
          "scatter": [
           {
            "marker": {
             "colorbar": {
              "outlinewidth": 0,
              "ticks": ""
             }
            },
            "type": "scatter"
           }
          ],
          "scatter3d": [
           {
            "line": {
             "colorbar": {
              "outlinewidth": 0,
              "ticks": ""
             }
            },
            "marker": {
             "colorbar": {
              "outlinewidth": 0,
              "ticks": ""
             }
            },
            "type": "scatter3d"
           }
          ],
          "scattercarpet": [
           {
            "marker": {
             "colorbar": {
              "outlinewidth": 0,
              "ticks": ""
             }
            },
            "type": "scattercarpet"
           }
          ],
          "scattergeo": [
           {
            "marker": {
             "colorbar": {
              "outlinewidth": 0,
              "ticks": ""
             }
            },
            "type": "scattergeo"
           }
          ],
          "scattergl": [
           {
            "marker": {
             "colorbar": {
              "outlinewidth": 0,
              "ticks": ""
             }
            },
            "type": "scattergl"
           }
          ],
          "scattermapbox": [
           {
            "marker": {
             "colorbar": {
              "outlinewidth": 0,
              "ticks": ""
             }
            },
            "type": "scattermapbox"
           }
          ],
          "scatterpolar": [
           {
            "marker": {
             "colorbar": {
              "outlinewidth": 0,
              "ticks": ""
             }
            },
            "type": "scatterpolar"
           }
          ],
          "scatterpolargl": [
           {
            "marker": {
             "colorbar": {
              "outlinewidth": 0,
              "ticks": ""
             }
            },
            "type": "scatterpolargl"
           }
          ],
          "scatterternary": [
           {
            "marker": {
             "colorbar": {
              "outlinewidth": 0,
              "ticks": ""
             }
            },
            "type": "scatterternary"
           }
          ],
          "surface": [
           {
            "colorbar": {
             "outlinewidth": 0,
             "ticks": ""
            },
            "colorscale": [
             [
              0,
              "#0d0887"
             ],
             [
              0.1111111111111111,
              "#46039f"
             ],
             [
              0.2222222222222222,
              "#7201a8"
             ],
             [
              0.3333333333333333,
              "#9c179e"
             ],
             [
              0.4444444444444444,
              "#bd3786"
             ],
             [
              0.5555555555555556,
              "#d8576b"
             ],
             [
              0.6666666666666666,
              "#ed7953"
             ],
             [
              0.7777777777777778,
              "#fb9f3a"
             ],
             [
              0.8888888888888888,
              "#fdca26"
             ],
             [
              1,
              "#f0f921"
             ]
            ],
            "type": "surface"
           }
          ],
          "table": [
           {
            "cells": {
             "fill": {
              "color": "#EBF0F8"
             },
             "line": {
              "color": "white"
             }
            },
            "header": {
             "fill": {
              "color": "#C8D4E3"
             },
             "line": {
              "color": "white"
             }
            },
            "type": "table"
           }
          ]
         },
         "layout": {
          "annotationdefaults": {
           "arrowcolor": "#2a3f5f",
           "arrowhead": 0,
           "arrowwidth": 1
          },
          "colorscale": {
           "diverging": [
            [
             0,
             "#8e0152"
            ],
            [
             0.1,
             "#c51b7d"
            ],
            [
             0.2,
             "#de77ae"
            ],
            [
             0.3,
             "#f1b6da"
            ],
            [
             0.4,
             "#fde0ef"
            ],
            [
             0.5,
             "#f7f7f7"
            ],
            [
             0.6,
             "#e6f5d0"
            ],
            [
             0.7,
             "#b8e186"
            ],
            [
             0.8,
             "#7fbc41"
            ],
            [
             0.9,
             "#4d9221"
            ],
            [
             1,
             "#276419"
            ]
           ],
           "sequential": [
            [
             0,
             "#0d0887"
            ],
            [
             0.1111111111111111,
             "#46039f"
            ],
            [
             0.2222222222222222,
             "#7201a8"
            ],
            [
             0.3333333333333333,
             "#9c179e"
            ],
            [
             0.4444444444444444,
             "#bd3786"
            ],
            [
             0.5555555555555556,
             "#d8576b"
            ],
            [
             0.6666666666666666,
             "#ed7953"
            ],
            [
             0.7777777777777778,
             "#fb9f3a"
            ],
            [
             0.8888888888888888,
             "#fdca26"
            ],
            [
             1,
             "#f0f921"
            ]
           ],
           "sequentialminus": [
            [
             0,
             "#0d0887"
            ],
            [
             0.1111111111111111,
             "#46039f"
            ],
            [
             0.2222222222222222,
             "#7201a8"
            ],
            [
             0.3333333333333333,
             "#9c179e"
            ],
            [
             0.4444444444444444,
             "#bd3786"
            ],
            [
             0.5555555555555556,
             "#d8576b"
            ],
            [
             0.6666666666666666,
             "#ed7953"
            ],
            [
             0.7777777777777778,
             "#fb9f3a"
            ],
            [
             0.8888888888888888,
             "#fdca26"
            ],
            [
             1,
             "#f0f921"
            ]
           ]
          },
          "colorway": [
           "#636efa",
           "#EF553B",
           "#00cc96",
           "#ab63fa",
           "#FFA15A",
           "#19d3f3",
           "#FF6692",
           "#B6E880",
           "#FF97FF",
           "#FECB52"
          ],
          "font": {
           "color": "#2a3f5f"
          },
          "geo": {
           "bgcolor": "white",
           "lakecolor": "white",
           "landcolor": "#E5ECF6",
           "showlakes": true,
           "showland": true,
           "subunitcolor": "white"
          },
          "hoverlabel": {
           "align": "left"
          },
          "hovermode": "closest",
          "mapbox": {
           "style": "light"
          },
          "paper_bgcolor": "white",
          "plot_bgcolor": "#E5ECF6",
          "polar": {
           "angularaxis": {
            "gridcolor": "white",
            "linecolor": "white",
            "ticks": ""
           },
           "bgcolor": "#E5ECF6",
           "radialaxis": {
            "gridcolor": "white",
            "linecolor": "white",
            "ticks": ""
           }
          },
          "scene": {
           "xaxis": {
            "backgroundcolor": "#E5ECF6",
            "gridcolor": "white",
            "gridwidth": 2,
            "linecolor": "white",
            "showbackground": true,
            "ticks": "",
            "zerolinecolor": "white"
           },
           "yaxis": {
            "backgroundcolor": "#E5ECF6",
            "gridcolor": "white",
            "gridwidth": 2,
            "linecolor": "white",
            "showbackground": true,
            "ticks": "",
            "zerolinecolor": "white"
           },
           "zaxis": {
            "backgroundcolor": "#E5ECF6",
            "gridcolor": "white",
            "gridwidth": 2,
            "linecolor": "white",
            "showbackground": true,
            "ticks": "",
            "zerolinecolor": "white"
           }
          },
          "shapedefaults": {
           "line": {
            "color": "#2a3f5f"
           }
          },
          "ternary": {
           "aaxis": {
            "gridcolor": "white",
            "linecolor": "white",
            "ticks": ""
           },
           "baxis": {
            "gridcolor": "white",
            "linecolor": "white",
            "ticks": ""
           },
           "bgcolor": "#E5ECF6",
           "caxis": {
            "gridcolor": "white",
            "linecolor": "white",
            "ticks": ""
           }
          },
          "title": {
           "x": 0.05
          },
          "xaxis": {
           "automargin": true,
           "gridcolor": "white",
           "linecolor": "white",
           "ticks": "",
           "zerolinecolor": "white",
           "zerolinewidth": 2
          },
          "yaxis": {
           "automargin": true,
           "gridcolor": "white",
           "linecolor": "white",
           "ticks": "",
           "zerolinecolor": "white",
           "zerolinewidth": 2
          }
         }
        },
        "title": {
         "text": "Histograma da qtde. de comentários por pessoa ignorando as respostas do participantes"
        },
        "xaxis": {
         "anchor": "y",
         "autorange": true,
         "domain": [
          0,
          0.98
         ],
         "range": [
          0.5,
          48.5
         ],
         "title": {
          "text": "comentario"
         },
         "type": "linear"
        },
        "yaxis": {
         "anchor": "x",
         "autorange": true,
         "domain": [
          0,
          1
         ],
         "range": [
          0,
          1102.1052631578948
         ],
         "title": {
          "text": "count"
         }
        }
       }
      },
      "image/png": "[encoded data removed]",
      "text/html": [
       "<div>\n",
       "        \n",
       "        \n",
       "            <div id=\"502261f5-138d-4983-91f5-587ad8a850d0\" class=\"plotly-graph-div\" style=\"height:600px; width:100%;\"></div>\n",
       "            <script type=\"text/javascript\">\n",
       "                require([\"plotly\"], function(Plotly) {\n",
       "                    window.PLOTLYENV=window.PLOTLYENV || {};\n",
       "                    \n",
       "                if (document.getElementById(\"502261f5-138d-4983-91f5-587ad8a850d0\")) {\n",
       "                    Plotly.newPlot(\n",
       "                        '502261f5-138d-4983-91f5-587ad8a850d0',\n",
       "                        [{\"alignmentgroup\": \"True\", \"bingroup\": \"x\", \"hoverlabel\": {\"namelength\": 0}, \"hovertemplate\": \"comentario=%{x}<br>count=%{y}\", \"legendgroup\": \"\", \"marker\": {\"color\": \"#636efa\"}, \"name\": \"\", \"nbinsx\": 48, \"offsetgroup\": \"\", \"orientation\": \"v\", \"showlegend\": false, \"type\": \"histogram\", \"x\": [3, 2, 1, 1, 1, 1, 1, 2, 4, 1, 2, 2, 5, 1, 4, 1, 1, 1, 1, 1, 1, 7, 2, 1, 1, 1, 3, 1, 9, 1, 4, 2, 1, 1, 1, 1, 4, 2, 1, 3, 1, 1, 3, 1, 1, 1, 1, 2, 1, 1, 4, 1, 2, 1, 1, 1, 4, 1, 1, 5, 1, 1, 1, 10, 1, 1, 1, 1, 5, 1, 1, 1, 1, 12, 1, 2, 1, 6, 1, 1, 2, 1, 1, 1, 4, 2, 2, 1, 2, 1, 1, 1, 1, 1, 1, 4, 1, 7, 6, 3, 2, 1, 1, 1, 1, 1, 2, 1, 1, 2, 1, 5, 2, 1, 3, 1, 1, 1, 1, 2, 3, 2, 1, 1, 1, 6, 1, 1, 2, 15, 1, 1, 2, 2, 2, 3, 2, 1, 14, 1, 5, 1, 1, 1, 1, 1, 6, 1, 2, 1, 3, 4, 1, 1, 1, 3, 3, 1, 2, 1, 1, 1, 2, 3, 3, 2, 12, 4, 25, 1, 1, 1, 1, 1, 1, 1, 1, 1, 5, 1, 1, 1, 7, 1, 1, 1, 1, 1, 3, 1, 1, 1, 2, 6, 2, 1, 2, 1, 3, 20, 1, 2, 2, 1, 1, 4, 1, 2, 1, 2, 1, 2, 7, 1, 1, 2, 9, 2, 1, 1, 1, 1, 1, 1, 1, 1, 6, 1, 14, 1, 1, 1, 1, 2, 1, 4, 8, 1, 5, 1, 1, 1, 1, 1, 1, 1, 3, 2, 1, 2, 1, 5, 2, 1, 1, 3, 1, 3, 2, 1, 1, 2, 1, 3, 3, 2, 5, 2, 1, 1, 1, 1, 7, 1, 1, 2, 1, 1, 1, 1, 1, 11, 1, 10, 1, 1, 1, 1, 7, 2, 1, 2, 8, 1, 1, 1, 1, 1, 1, 1, 21, 1, 1, 1, 1, 1, 1, 1, 1, 1, 1, 1, 7, 1, 1, 1, 3, 2, 1, 1, 1, 1, 3, 1, 2, 1, 1, 4, 2, 1, 1, 6, 1, 1, 3, 1, 1, 1, 1, 1, 1, 1, 1, 1, 1, 1, 1, 7, 1, 1, 4, 3, 2, 1, 9, 1, 1, 1, 2, 2, 1, 1, 19, 11, 5, 1, 3, 1, 1, 1, 3, 1, 13, 2, 1, 12, 1, 2, 1, 1, 1, 6, 1, 1, 1, 1, 1, 2, 1, 1, 7, 1, 6, 1, 1, 1, 1, 3, 1, 2, 1, 3, 1, 1, 1, 1, 1, 1, 5, 1, 1, 2, 9, 1, 2, 1, 1, 1, 1, 1, 1, 4, 1, 1, 1, 1, 1, 6, 2, 2, 1, 1, 2, 1, 1, 1, 2, 14, 1, 2, 1, 13, 12, 1, 1, 4, 1, 1, 1, 1, 1, 1, 1, 1, 1, 1, 1, 2, 1, 1, 1, 1, 1, 1, 1, 1, 1, 6, 1, 5, 1, 3, 1, 2, 36, 1, 2, 4, 1, 1, 4, 13, 1, 1, 1, 7, 1, 2, 1, 2, 2, 2, 2, 1, 2, 1, 1, 1, 2, 1, 1, 3, 2, 2, 1, 4, 1, 1, 1, 1, 9, 1, 1, 2, 2, 1, 1, 1, 6, 3, 2, 1, 1, 1, 1, 2, 2, 2, 1, 1, 1, 1, 5, 2, 1, 2, 1, 1, 1, 4, 1, 1, 1, 1, 1, 13, 2, 1, 3, 1, 2, 2, 2, 1, 3, 3, 1, 5, 2, 1, 1, 2, 3, 1, 1, 1, 1, 1, 12, 2, 2, 1, 1, 1, 1, 1, 3, 1, 1, 1, 1, 1, 1, 2, 5, 1, 1, 1, 1, 1, 1, 1, 1, 3, 1, 3, 1, 1, 2, 1, 2, 1, 1, 5, 4, 1, 1, 2, 1, 1, 1, 3, 1, 1, 1, 1, 2, 2, 1, 3, 1, 2, 1, 1, 1, 1, 1, 2, 1, 1, 1, 1, 3, 1, 1, 1, 1, 2, 3, 8, 1, 1, 2, 1, 1, 2, 1, 1, 1, 1, 1, 3, 3, 1, 1, 1, 1, 5, 1, 3, 6, 1, 1, 3, 1, 1, 7, 1, 1, 3, 1, 1, 2, 1, 2, 1, 1, 2, 4, 1, 1, 1, 1, 1, 1, 5, 2, 1, 1, 3, 4, 1, 1, 3, 1, 1, 1, 1, 1, 1, 1, 1, 1, 1, 1, 1, 1, 1, 2, 1, 2, 2, 3, 1, 3, 3, 6, 1, 1, 1, 1, 6, 1, 3, 1, 1, 2, 1, 1, 1, 4, 2, 5, 3, 4, 3, 2, 1, 1, 1, 2, 1, 1, 1, 1, 1, 1, 1, 1, 1, 1, 11, 1, 1, 1, 1, 2, 1, 2, 31, 1, 1, 4, 2, 2, 1, 3, 1, 1, 1, 1, 1, 1, 2, 7, 2, 1, 1, 1, 9, 1, 1, 1, 1, 1, 1, 4, 1, 5, 1, 2, 1, 2, 1, 1, 1, 2, 2, 1, 1, 2, 1, 1, 4, 6, 1, 1, 1, 1, 5, 2, 1, 1, 1, 1, 1, 1, 1, 1, 3, 5, 1, 2, 1, 1, 1, 1, 1, 1, 2, 2, 1, 2, 1, 1, 2, 1, 1, 1, 1, 1, 1, 5, 3, 2, 1, 2, 1, 1, 1, 6, 1, 4, 34, 3, 1, 1, 1, 2, 2, 1, 3, 2, 1, 2, 1, 1, 1, 1, 1, 3, 1, 1, 1, 8, 1, 1, 1, 9, 3, 1, 2, 1, 1, 1, 3, 1, 15, 1, 1, 4, 2, 7, 1, 1, 1, 4, 1, 1, 1, 1, 2, 1, 1, 1, 1, 1, 1, 1, 1, 1, 1, 11, 6, 1, 2, 1, 3, 1, 6, 1, 1, 1, 2, 1, 1, 1, 1, 1, 1, 3, 3, 1, 1, 1, 1, 1, 1, 1, 1, 1, 4, 2, 1, 2, 1, 1, 14, 2, 1, 2, 1, 2, 1, 1, 1, 1, 1, 1, 2, 2, 1, 1, 1, 1, 1, 1, 2, 3, 2, 1, 17, 1, 1, 1, 1, 1, 10, 3, 2, 1, 1, 1, 1, 1, 2, 5, 2, 1, 1, 1, 1, 3, 1, 2, 4, 1, 6, 3, 1, 1, 1, 4, 1, 1, 1, 4, 4, 1, 1, 1, 2, 2, 1, 3, 2, 1, 1, 1, 1, 1, 2, 1, 2, 3, 4, 1, 4, 1, 6, 1, 1, 2, 1, 2, 3, 1, 3, 3, 1, 3, 1, 1, 1, 7, 1, 1, 1, 3, 1, 1, 3, 1, 1, 3, 6, 1, 4, 2, 21, 1, 1, 2, 1, 1, 3, 2, 1, 1, 2, 2, 1, 2, 1, 1, 1, 1, 1, 1, 1, 2, 1, 1, 1, 3, 1, 3, 2, 5, 1, 1, 1, 1, 1, 1, 1, 3, 1, 1, 1, 1, 1, 1, 1, 1, 2, 2, 3, 1, 1, 1, 1, 1, 6, 1, 1, 2, 2, 4, 1, 4, 2, 1, 2, 3, 1, 20, 2, 2, 1, 3, 1, 1, 1, 20, 2, 1, 1, 1, 1, 1, 1, 2, 1, 3, 4, 1, 1, 3, 1, 2, 2, 1, 1, 2, 1, 1, 1, 1, 1, 5, 1, 3, 5, 1, 1, 1, 3, 1, 2, 1, 3, 6, 1, 1, 1, 2, 1, 1, 3, 1, 1, 1, 1, 1, 1, 1, 2, 1, 7, 1, 1, 2, 2, 1, 1, 1, 2, 1, 1, 1, 1, 1, 1, 1, 1, 1, 2, 1, 6, 1, 1, 2, 1, 1, 6, 1, 1, 1, 10, 2, 2, 1, 1, 2, 1, 1, 1, 3, 1, 2, 1, 1, 2, 2, 1, 1, 2, 1, 3, 4, 1, 1, 1, 1, 2, 1, 1, 1, 1, 2, 2, 10, 1, 6, 2, 1, 1, 1, 1, 1, 1, 6, 4, 1, 1, 3, 3, 1, 1, 1, 2, 1, 1, 2, 15, 1, 1, 1, 8, 1, 1, 1, 1, 1, 1, 1, 1, 1, 1, 2, 1, 2, 1, 1, 1, 28, 3, 1, 1, 1, 5, 1, 1, 2, 1, 2, 2, 1, 2, 1, 7, 1, 3, 1, 1, 1, 2, 1, 2, 1, 1, 3, 2, 1, 1, 3, 1, 1, 3, 2, 1, 1, 1, 1, 1, 1, 1, 1, 1, 2, 1, 1, 1, 2, 1, 1, 2, 1, 3, 2, 1, 4, 1, 1, 2, 1, 9, 3, 6, 1, 1, 1, 1, 1, 1, 1, 5, 1, 3, 2, 1, 48, 1, 1, 2, 2, 1, 1, 1, 1, 3, 1, 2, 1, 1, 1, 2, 1, 2, 1, 1, 1, 3, 1, 2, 2, 2, 7, 1, 2, 1, 1, 1, 1, 2, 10, 4, 1, 2, 1, 1, 4, 1, 2, 7, 1, 1, 1, 1, 2, 4, 1, 3, 1, 1, 1, 1, 1, 2, 1, 2, 1, 2, 4, 1, 1, 1, 7, 1, 1, 1, 1, 1, 1, 4, 1, 1, 3, 1, 10, 1, 1, 7, 2, 2, 7, 1, 2, 1, 1, 2, 1, 1, 1, 1, 37, 1, 1, 1, 4, 1, 1, 1, 1, 1, 1, 1, 1, 1, 1, 1, 1, 1, 17, 3, 1, 1, 1, 1, 4, 1, 1, 1, 1, 5, 1, 1, 2, 1, 1, 1, 1, 3, 1, 1, 1, 1, 2, 1, 1, 2, 7, 1, 1, 1, 1, 1, 1, 1, 2, 1, 2, 1, 2, 3, 2, 4, 3, 1, 1, 1, 1, 3, 1, 1, 2, 1, 1, 1, 1, 2, 1, 1, 3, 8, 2, 1, 3, 2, 1, 3, 1, 1, 2, 1, 1, 2, 1, 1, 1, 2, 3, 1, 2, 6, 1, 1, 2, 1, 1, 4, 2, 3, 1, 1, 7, 1, 2, 1, 2, 2, 2, 1, 1, 1, 1, 1, 1, 1, 1, 1, 1, 2, 4, 1, 1, 3, 1, 1, 2, 1, 2, 2, 1, 1, 1, 2, 2, 1, 3, 1, 3, 5, 1, 1, 1, 1, 1, 1, 1, 1, 2, 2, 3, 1, 1, 4, 4, 3, 2, 1, 1, 1, 2, 3, 1, 1, 7, 2, 2, 1, 4, 1, 4, 3, 1, 1], \"xaxis\": \"x\", \"yaxis\": \"y\"}],\n",
       "                        {\"barmode\": \"relative\", \"height\": 600, \"legend\": {\"tracegroupgap\": 0}, \"template\": {\"data\": {\"bar\": [{\"error_x\": {\"color\": \"#2a3f5f\"}, \"error_y\": {\"color\": \"#2a3f5f\"}, \"marker\": {\"line\": {\"color\": \"#E5ECF6\", \"width\": 0.5}}, \"type\": \"bar\"}], \"barpolar\": [{\"marker\": {\"line\": {\"color\": \"#E5ECF6\", \"width\": 0.5}}, \"type\": \"barpolar\"}], \"carpet\": [{\"aaxis\": {\"endlinecolor\": \"#2a3f5f\", \"gridcolor\": \"white\", \"linecolor\": \"white\", \"minorgridcolor\": \"white\", \"startlinecolor\": \"#2a3f5f\"}, \"baxis\": {\"endlinecolor\": \"#2a3f5f\", \"gridcolor\": \"white\", \"linecolor\": \"white\", \"minorgridcolor\": \"white\", \"startlinecolor\": \"#2a3f5f\"}, \"type\": \"carpet\"}], \"choropleth\": [{\"colorbar\": {\"outlinewidth\": 0, \"ticks\": \"\"}, \"type\": \"choropleth\"}], \"contour\": [{\"colorbar\": {\"outlinewidth\": 0, \"ticks\": \"\"}, \"colorscale\": [[0.0, \"#0d0887\"], [0.1111111111111111, \"#46039f\"], [0.2222222222222222, \"#7201a8\"], [0.3333333333333333, \"#9c179e\"], [0.4444444444444444, \"#bd3786\"], [0.5555555555555556, \"#d8576b\"], [0.6666666666666666, \"#ed7953\"], [0.7777777777777778, \"#fb9f3a\"], [0.8888888888888888, \"#fdca26\"], [1.0, \"#f0f921\"]], \"type\": \"contour\"}], \"contourcarpet\": [{\"colorbar\": {\"outlinewidth\": 0, \"ticks\": \"\"}, \"type\": \"contourcarpet\"}], \"heatmap\": [{\"colorbar\": {\"outlinewidth\": 0, \"ticks\": \"\"}, \"colorscale\": [[0.0, \"#0d0887\"], [0.1111111111111111, \"#46039f\"], [0.2222222222222222, \"#7201a8\"], [0.3333333333333333, \"#9c179e\"], [0.4444444444444444, \"#bd3786\"], [0.5555555555555556, \"#d8576b\"], [0.6666666666666666, \"#ed7953\"], [0.7777777777777778, \"#fb9f3a\"], [0.8888888888888888, \"#fdca26\"], [1.0, \"#f0f921\"]], \"type\": \"heatmap\"}], \"heatmapgl\": [{\"colorbar\": {\"outlinewidth\": 0, \"ticks\": \"\"}, \"colorscale\": [[0.0, \"#0d0887\"], [0.1111111111111111, \"#46039f\"], [0.2222222222222222, \"#7201a8\"], [0.3333333333333333, \"#9c179e\"], [0.4444444444444444, \"#bd3786\"], [0.5555555555555556, \"#d8576b\"], [0.6666666666666666, \"#ed7953\"], [0.7777777777777778, \"#fb9f3a\"], [0.8888888888888888, \"#fdca26\"], [1.0, \"#f0f921\"]], \"type\": \"heatmapgl\"}], \"histogram\": [{\"marker\": {\"colorbar\": {\"outlinewidth\": 0, \"ticks\": \"\"}}, \"type\": \"histogram\"}], \"histogram2d\": [{\"colorbar\": {\"outlinewidth\": 0, \"ticks\": \"\"}, \"colorscale\": [[0.0, \"#0d0887\"], [0.1111111111111111, \"#46039f\"], [0.2222222222222222, \"#7201a8\"], [0.3333333333333333, \"#9c179e\"], [0.4444444444444444, \"#bd3786\"], [0.5555555555555556, \"#d8576b\"], [0.6666666666666666, \"#ed7953\"], [0.7777777777777778, \"#fb9f3a\"], [0.8888888888888888, \"#fdca26\"], [1.0, \"#f0f921\"]], \"type\": \"histogram2d\"}], \"histogram2dcontour\": [{\"colorbar\": {\"outlinewidth\": 0, \"ticks\": \"\"}, \"colorscale\": [[0.0, \"#0d0887\"], [0.1111111111111111, \"#46039f\"], [0.2222222222222222, \"#7201a8\"], [0.3333333333333333, \"#9c179e\"], [0.4444444444444444, \"#bd3786\"], [0.5555555555555556, \"#d8576b\"], [0.6666666666666666, \"#ed7953\"], [0.7777777777777778, \"#fb9f3a\"], [0.8888888888888888, \"#fdca26\"], [1.0, \"#f0f921\"]], \"type\": \"histogram2dcontour\"}], \"mesh3d\": [{\"colorbar\": {\"outlinewidth\": 0, \"ticks\": \"\"}, \"type\": \"mesh3d\"}], \"parcoords\": [{\"line\": {\"colorbar\": {\"outlinewidth\": 0, \"ticks\": \"\"}}, \"type\": \"parcoords\"}], \"scatter\": [{\"marker\": {\"colorbar\": {\"outlinewidth\": 0, \"ticks\": \"\"}}, \"type\": \"scatter\"}], \"scatter3d\": [{\"line\": {\"colorbar\": {\"outlinewidth\": 0, \"ticks\": \"\"}}, \"marker\": {\"colorbar\": {\"outlinewidth\": 0, \"ticks\": \"\"}}, \"type\": \"scatter3d\"}], \"scattercarpet\": [{\"marker\": {\"colorbar\": {\"outlinewidth\": 0, \"ticks\": \"\"}}, \"type\": \"scattercarpet\"}], \"scattergeo\": [{\"marker\": {\"colorbar\": {\"outlinewidth\": 0, \"ticks\": \"\"}}, \"type\": \"scattergeo\"}], \"scattergl\": [{\"marker\": {\"colorbar\": {\"outlinewidth\": 0, \"ticks\": \"\"}}, \"type\": \"scattergl\"}], \"scattermapbox\": [{\"marker\": {\"colorbar\": {\"outlinewidth\": 0, \"ticks\": \"\"}}, \"type\": \"scattermapbox\"}], \"scatterpolar\": [{\"marker\": {\"colorbar\": {\"outlinewidth\": 0, \"ticks\": \"\"}}, \"type\": \"scatterpolar\"}], \"scatterpolargl\": [{\"marker\": {\"colorbar\": {\"outlinewidth\": 0, \"ticks\": \"\"}}, \"type\": \"scatterpolargl\"}], \"scatterternary\": [{\"marker\": {\"colorbar\": {\"outlinewidth\": 0, \"ticks\": \"\"}}, \"type\": \"scatterternary\"}], \"surface\": [{\"colorbar\": {\"outlinewidth\": 0, \"ticks\": \"\"}, \"colorscale\": [[0.0, \"#0d0887\"], [0.1111111111111111, \"#46039f\"], [0.2222222222222222, \"#7201a8\"], [0.3333333333333333, \"#9c179e\"], [0.4444444444444444, \"#bd3786\"], [0.5555555555555556, \"#d8576b\"], [0.6666666666666666, \"#ed7953\"], [0.7777777777777778, \"#fb9f3a\"], [0.8888888888888888, \"#fdca26\"], [1.0, \"#f0f921\"]], \"type\": \"surface\"}], \"table\": [{\"cells\": {\"fill\": {\"color\": \"#EBF0F8\"}, \"line\": {\"color\": \"white\"}}, \"header\": {\"fill\": {\"color\": \"#C8D4E3\"}, \"line\": {\"color\": \"white\"}}, \"type\": \"table\"}]}, \"layout\": {\"annotationdefaults\": {\"arrowcolor\": \"#2a3f5f\", \"arrowhead\": 0, \"arrowwidth\": 1}, \"colorscale\": {\"diverging\": [[0, \"#8e0152\"], [0.1, \"#c51b7d\"], [0.2, \"#de77ae\"], [0.3, \"#f1b6da\"], [0.4, \"#fde0ef\"], [0.5, \"#f7f7f7\"], [0.6, \"#e6f5d0\"], [0.7, \"#b8e186\"], [0.8, \"#7fbc41\"], [0.9, \"#4d9221\"], [1, \"#276419\"]], \"sequential\": [[0.0, \"#0d0887\"], [0.1111111111111111, \"#46039f\"], [0.2222222222222222, \"#7201a8\"], [0.3333333333333333, \"#9c179e\"], [0.4444444444444444, \"#bd3786\"], [0.5555555555555556, \"#d8576b\"], [0.6666666666666666, \"#ed7953\"], [0.7777777777777778, \"#fb9f3a\"], [0.8888888888888888, \"#fdca26\"], [1.0, \"#f0f921\"]], \"sequentialminus\": [[0.0, \"#0d0887\"], [0.1111111111111111, \"#46039f\"], [0.2222222222222222, \"#7201a8\"], [0.3333333333333333, \"#9c179e\"], [0.4444444444444444, \"#bd3786\"], [0.5555555555555556, \"#d8576b\"], [0.6666666666666666, \"#ed7953\"], [0.7777777777777778, \"#fb9f3a\"], [0.8888888888888888, \"#fdca26\"], [1.0, \"#f0f921\"]]}, \"colorway\": [\"#636efa\", \"#EF553B\", \"#00cc96\", \"#ab63fa\", \"#FFA15A\", \"#19d3f3\", \"#FF6692\", \"#B6E880\", \"#FF97FF\", \"#FECB52\"], \"font\": {\"color\": \"#2a3f5f\"}, \"geo\": {\"bgcolor\": \"white\", \"lakecolor\": \"white\", \"landcolor\": \"#E5ECF6\", \"showlakes\": true, \"showland\": true, \"subunitcolor\": \"white\"}, \"hoverlabel\": {\"align\": \"left\"}, \"hovermode\": \"closest\", \"mapbox\": {\"style\": \"light\"}, \"paper_bgcolor\": \"white\", \"plot_bgcolor\": \"#E5ECF6\", \"polar\": {\"angularaxis\": {\"gridcolor\": \"white\", \"linecolor\": \"white\", \"ticks\": \"\"}, \"bgcolor\": \"#E5ECF6\", \"radialaxis\": {\"gridcolor\": \"white\", \"linecolor\": \"white\", \"ticks\": \"\"}}, \"scene\": {\"xaxis\": {\"backgroundcolor\": \"#E5ECF6\", \"gridcolor\": \"white\", \"gridwidth\": 2, \"linecolor\": \"white\", \"showbackground\": true, \"ticks\": \"\", \"zerolinecolor\": \"white\"}, \"yaxis\": {\"backgroundcolor\": \"#E5ECF6\", \"gridcolor\": \"white\", \"gridwidth\": 2, \"linecolor\": \"white\", \"showbackground\": true, \"ticks\": \"\", \"zerolinecolor\": \"white\"}, \"zaxis\": {\"backgroundcolor\": \"#E5ECF6\", \"gridcolor\": \"white\", \"gridwidth\": 2, \"linecolor\": \"white\", \"showbackground\": true, \"ticks\": \"\", \"zerolinecolor\": \"white\"}}, \"shapedefaults\": {\"line\": {\"color\": \"#2a3f5f\"}}, \"ternary\": {\"aaxis\": {\"gridcolor\": \"white\", \"linecolor\": \"white\", \"ticks\": \"\"}, \"baxis\": {\"gridcolor\": \"white\", \"linecolor\": \"white\", \"ticks\": \"\"}, \"bgcolor\": \"#E5ECF6\", \"caxis\": {\"gridcolor\": \"white\", \"linecolor\": \"white\", \"ticks\": \"\"}}, \"title\": {\"x\": 0.05}, \"xaxis\": {\"automargin\": true, \"gridcolor\": \"white\", \"linecolor\": \"white\", \"ticks\": \"\", \"zerolinecolor\": \"white\", \"zerolinewidth\": 2}, \"yaxis\": {\"automargin\": true, \"gridcolor\": \"white\", \"linecolor\": \"white\", \"ticks\": \"\", \"zerolinecolor\": \"white\", \"zerolinewidth\": 2}}}, \"title\": {\"text\": \"Histograma da qtde. de coment\\u00e1rios por pessoa ignorando as respostas do participantes\"}, \"xaxis\": {\"anchor\": \"y\", \"domain\": [0.0, 0.98], \"title\": {\"text\": \"comentario\"}}, \"yaxis\": {\"anchor\": \"x\", \"domain\": [0.0, 1.0], \"title\": {\"text\": \"count\"}}},\n",
       "                        {\"responsive\": true}\n",
       "                    ).then(function(){\n",
       "                            \n",
       "var gd = document.getElementById('502261f5-138d-4983-91f5-587ad8a850d0');\n",
       "var x = new MutationObserver(function (mutations, observer) {{\n",
       "        var display = window.getComputedStyle(gd).display;\n",
       "        if (!display || display === 'none') {{\n",
       "            console.log([gd, 'removed!']);\n",
       "            Plotly.purge(gd);\n",
       "            observer.disconnect();\n",
       "        }}\n",
       "}});\n",
       "\n",
       "// Listen for the removal of the full notebook cells\n",
       "var notebookContainer = gd.closest('#notebook-container');\n",
       "if (notebookContainer) {{\n",
       "    x.observe(notebookContainer, {childList: true});\n",
       "}}\n",
       "\n",
       "// Listen for the clearing of the current output cell\n",
       "var outputEl = gd.closest('.output');\n",
       "if (outputEl) {{\n",
       "    x.observe(outputEl, {childList: true});\n",
       "}}\n",
       "\n",
       "                        })\n",
       "                };\n",
       "                });\n",
       "            </script>\n",
       "        </div>"
      ]
     },
     "metadata": {},
     "output_type": "display_data"
    }
   ],
   "source": [
    "all_participantes = set()\n",
    "for participantes in df['participantes']:\n",
    "    for p in participantes:\n",
    "        all_participantes.add(p)\n",
    "\n",
    "px.histogram(\n",
    "    df[~df['autor_comentario'].isin(all_participantes)].groupby('autor_comentario').count(),\n",
    "    x = 'comentario',\n",
    "    nbins = 48,\n",
    "    title = 'Histograma da qtde. de comentários por pessoa ignorando as respostas do participantes'\n",
    ")"
   ]
  },
  {
   "cell_type": "markdown",
   "metadata": {},
   "source": [
    "# Mais algumas anaĺises, dessa vez olhando para o conteúdo dos comentários\n",
    "\n",
    "Como esse projeto é puramente exploratório, eu pensei em dois casos razoavelmente simples de implementar e que seriam bacanas de ver:\n",
    "\n",
    "1. Os episódios que os ouvintes mais gostaram, analisando o sentimento.\n",
    "2. Quais os principais temas/palavras-chave citados em cada uma das categorias (tags)\n",
    "\n",
    "Bem, vamos começar"
   ]
  },
  {
   "cell_type": "markdown",
   "metadata": {},
   "source": [
    "## 1. Quais os episódios mais amados ♥?\n",
    "\n",
    "Análise de sentimento é uma coisa complicada. E abrangante. E vaga. Infelizmente, o Tone Analyzer do Watson só funciona para inglês e francês no momento, então a gente vai ter que se virar com... contagem de palavras. Essa é a abordagem mais simples para análise de sentimento, mas é o que temos para hoje.\n",
    "\n",
    "Eu vou usar a base [OpLexicon V3.0](http://ontolp.inf.pucrs.br/Recursos/downloads-OpLexicon.php), que contém palavras positivas, negativas e neutras.\n",
    "\n",
    "A tabela abaixo mostra os 5 episódios com maior score positivo."
   ]
  },
  {
   "cell_type": "code",
   "execution_count": 29,
   "metadata": {},
   "outputs": [
    {
     "data": {
      "text/html": [
       "<div>\n",
       "<style scoped>\n",
       "    .dataframe tbody tr th:only-of-type {\n",
       "        vertical-align: middle;\n",
       "    }\n",
       "\n",
       "    .dataframe tbody tr th {\n",
       "        vertical-align: top;\n",
       "    }\n",
       "\n",
       "    .dataframe thead th {\n",
       "        text-align: right;\n",
       "    }\n",
       "</style>\n",
       "<table border=\"1\" class=\"dataframe\">\n",
       "  <thead>\n",
       "    <tr style=\"text-align: right;\">\n",
       "      <th></th>\n",
       "      <th>palavras_positivas</th>\n",
       "      <th>qtde_comentarios</th>\n",
       "    </tr>\n",
       "    <tr>\n",
       "      <th>titulo</th>\n",
       "      <th></th>\n",
       "      <th></th>\n",
       "    </tr>\n",
       "  </thead>\n",
       "  <tbody>\n",
       "    <tr>\n",
       "      <th>Carreira em Tecnologia – Hipsters #31</th>\n",
       "      <td>389</td>\n",
       "      <td>101</td>\n",
       "    </tr>\n",
       "    <tr>\n",
       "      <th>Mulheres na Tecnologia – Hipsters #34</th>\n",
       "      <td>201</td>\n",
       "      <td>76</td>\n",
       "    </tr>\n",
       "    <tr>\n",
       "      <th>Grandes livros de Tecnologia – Hipsters #113</th>\n",
       "      <td>200</td>\n",
       "      <td>72</td>\n",
       "    </tr>\n",
       "    <tr>\n",
       "      <th>Tecnologias no Nubank – Hipsters #01</th>\n",
       "      <td>194</td>\n",
       "      <td>147</td>\n",
       "    </tr>\n",
       "    <tr>\n",
       "      <th>Tendências em Tecnologia para 2018 – Hipsters #77</th>\n",
       "      <td>187</td>\n",
       "      <td>92</td>\n",
       "    </tr>\n",
       "  </tbody>\n",
       "</table>\n",
       "</div>"
      ],
      "text/plain": [
       "                                                   palavras_positivas  \\\n",
       "titulo                                                                  \n",
       "Carreira em Tecnologia – Hipsters #31                             389   \n",
       "Mulheres na Tecnologia – Hipsters #34                             201   \n",
       "Grandes livros de Tecnologia – Hipsters #113                      200   \n",
       "Tecnologias no Nubank – Hipsters #01                              194   \n",
       "Tendências em Tecnologia para 2018 – Hipsters #77                 187   \n",
       "\n",
       "                                                   qtde_comentarios  \n",
       "titulo                                                               \n",
       "Carreira em Tecnologia – Hipsters #31                           101  \n",
       "Mulheres na Tecnologia – Hipsters #34                            76  \n",
       "Grandes livros de Tecnologia – Hipsters #113                     72  \n",
       "Tecnologias no Nubank – Hipsters #01                            147  \n",
       "Tendências em Tecnologia para 2018 – Hipsters #77                92  "
      ]
     },
     "execution_count": 29,
     "metadata": {},
     "output_type": "execute_result"
    }
   ],
   "source": [
    "positive = []\n",
    "\n",
    "with open('lexico_v3.0.txt') as f:\n",
    "    lines = f.read().split('\\n')\n",
    "    for line in lines:\n",
    "        if ',' in line:\n",
    "            word, type_, score, _nsei = line.split(',')\n",
    "            if score == '1':\n",
    "                positive.append(word)\n",
    "\n",
    "def build_spacy_doc(comentario):\n",
    "    return nlp(comentario)\n",
    "\n",
    "def split_tokens(doc):\n",
    "    tokens = []\n",
    "    for t in doc:\n",
    "        if not t.is_stop and not t.is_punct and t.is_alpha:\n",
    "            tokens.append(t.lower_)\n",
    "    return tokens\n",
    "\n",
    "def atribuir_score_positivo(doc):\n",
    "    score = 0\n",
    "    for token in doc:\n",
    "        if token.lower_ in positive:\n",
    "            score += 1\n",
    "    return score\n",
    "\n",
    "df['doc'] = df['comentario'].apply(lambda x: build_spacy_doc(x))    \n",
    "df['positivo'] = df['doc'].apply(lambda x: atribuir_score_positivo(x))\n",
    "df['tokens'] = df['doc'].apply(lambda x: split_tokens(x))\n",
    "\n",
    "contagem_positivo = df.groupby('titulo').agg({'positivo': 'sum', 'comentario': 'size'})\n",
    "contagem_positivo.rename(columns={'comentario': 'qtde_comentarios', 'positivo': 'palavras_positivas'}, inplace=True)\n",
    "contagem_positivo.sort_values('palavras_positivas', ascending=False).head(5)"
   ]
  },
  {
   "cell_type": "markdown",
   "metadata": {},
   "source": [
    "Falando da minha experiência própria como ouvinte, o público do hipsters é bem amigável. Por conta disso, eu imagino que a qtde. de palavras positivas esteja correlacionada com a qtde. de comentários.\n",
    "\n",
    "A linha de tendência no gráfico abaixo apresenta uma característica interessante. Os pontos abaixo da linha são episódios que estão indo mal na proporção comentários/feedback positivos, e os pontos acima da linha representam os episódios que estão indo bem na proporção comentários/feedback positivo.\n",
    "\n",
    "Na verdade... não é justo falar \"indo bem\" e \"indo mal\". Análise de sentimento é algo muito subjetivo, e a abordagem de contagem de palavras que usamos não é muito confiável. Estar acima ou abaixo da tendência é apenas mais um indicador no meio de tantos."
   ]
  },
  {
   "cell_type": "code",
   "execution_count": 30,
   "metadata": {},
   "outputs": [
    {
     "data": {
      "application/vnd.plotly.v1+json": {
       "config": {
        "plotlyServerURL": "https://plot.ly"
       },
       "data": [
        {
         "customdata": [
          [
           "A linguagem Go – Hipsters #67"
          ],
          [
           "A vez do Ruby on Rails – Hipsters #52"
          ],
          [
           "APIs: Gerenciamento e Criação – Hipsters #57"
          ],
          [
           "ASP.NET Core – Hipsters #108"
          ],
          [
           "Acessibilidade web – Hipsters #21"
          ],
          [
           "Agile Trends: Lean Inception, Kanban, Comunidades – Hipsters On The Road #02"
          ],
          [
           "Agilidade – Hipsters #05"
          ],
          [
           "Android P, Inteligência Artificial e Google I/O – Hipsters #101"
          ],
          [
           "Angular vs React – Hipsters #142"
          ],
          [
           "Apps para SmartTVs – Hipsters #102"
          ],
          [
           "Assistentes de voz: Futuro sem telas? – Hipsters Ponto Tech #146"
          ],
          [
           "Automação residencial – Hipsters #140"
          ],
          [
           "Bancos, Inovação e o Vale do Silício – Hipsters #18"
          ],
          [
           "Big Data e Data Science: pra quê afinal? – Hipsters #73"
          ],
          [
           "Breve Historia da Implantação de Sistemas na Web – Hipsters #95"
          ],
          [
           "Business Agility – Hipsters #147"
          ],
          [
           "CSS: Cansei de Ser Simples – Hipsters #09"
          ],
          [
           "Cafézinho Hipster – Hipsters #33"
          ],
          [
           "Canais de Tecnologia no Youtube – Hipsters #143"
          ],
          [
           "Carreira em Tecnologia – Hipsters #31"
          ],
          [
           "Carreiras em Tecnologia (sem contar Programador e Designer!) – Hipsters #61"
          ],
          [
           "Carros Elétricos e Programação – Hipsters #135"
          ],
          [
           "Casos bacanas de Data Science – Hipsters #106"
          ],
          [
           "Chatbots e jornada do usuário – Hipsters #130"
          ],
          [
           "Começo de carreira – Hipsters #128"
          ],
          [
           "Como é trabalhar na iFood, Wavy, Sympla e grupo Movile? – Hipsters On The Road #05"
          ],
          [
           "Como é trabalhar no Nubank? – Hipsters On The Road #04"
          ],
          [
           "Containers e Docker – Hipsters #75"
          ],
          [
           "Crianças, jovens e programação – Hipsters #65"
          ],
          [
           "Data Science e Política na Operação Serenata de Amor – Hipsters #62"
          ],
          [
           "Data Science, Engenharia, Design e Produto no Grupo Zap – Hipsters On The Road #08"
          ],
          [
           "Desafios em Machine Learning – Hipsters #137"
          ],
          [
           "Desenvolvimento Android – Hipsters #39"
          ],
          [
           "Desenvolvimento de Jogos Indie – Hipsters #96"
          ],
          [
           "Desenvolvimento iOS com Swift – Hipsters #120"
          ],
          [
           "Design Sprint – Hipsters #23"
          ],
          [
           "Design Thinking – Hipsters #139"
          ],
          [
           "Designers e Programadores – Hipsters #71"
          ],
          [
           "E o futuro do Java! – Hipsters #27"
          ],
          [
           "ERPs, Arquiteturas e TOTVS – Hipsters Ponto Tech #141"
          ],
          [
           "Ecossistemas de Startups no Inovabra – Hipsters Ponto Tech #153"
          ],
          [
           "Edição de Vídeo: Efeitos Especiais – Hipsters #103"
          ],
          [
           "Elixir, a linguagem hipster – Hipsters #48"
          ],
          [
           "Estratégias de migração de dados no Elo7 – Hipsters On The Road #07"
          ],
          [
           "Eventos de Tecnologia – Hipsters #121"
          ],
          [
           "Evolução e Especificação do JavaScript Moderno – Hipsters #58"
          ],
          [
           "Faculdades: Ciência da Computação e Sistemas de Informação – Hipsters #47"
          ],
          [
           "Fake News – Hipsters #98"
          ],
          [
           "Geolocalização e Logística – Hipsters #53"
          ],
          [
           "Gestão com Management 3.0 – Hipsters #80"
          ],
          [
           "Gestão de Pessoas – Hipsters #157"
          ],
          [
           "Git e Github – Hipsters #109"
          ],
          [
           "Grandes livros de Tecnologia – Hipsters #113"
          ],
          [
           "HTTP/2: magia com o novo protocolo – Hipsters #13"
          ],
          [
           "Heurísticas e Buzzwords de UX – Hipsters #14"
          ],
          [
           "Histórias de Black Friday – Hipsters #123"
          ],
          [
           "Histórias do Cloud – Hipsters #04"
          ],
          [
           "Ideias para TCCs e Projetos – Hipsters #92"
          ],
          [
           "Inbound marketing – Hipsters #127"
          ],
          [
           "Indie Games – Hipsters #24"
          ],
          [
           "Inteligência Artificial, Chatbots e Microsoft – Hipsters #37"
          ],
          [
           "Internet das Coisas, Android e até Cerveja – Hipsters #43"
          ],
          [
           "Ionic e o Desenvolvimento Mobile – Hipsters #56"
          ],
          [
           "Java EE e Jakarta EE – Hipsters #119"
          ],
          [
           "Javascript: Ember.js – Hipsters #78"
          ],
          [
           "Kanban e o fluxo de trabalho – Hipsters #74"
          ],
          [
           "Kotlin, Android e além – Hipsters #110"
          ],
          [
           "Linguagens Funcionais – Hipsters #91"
          ],
          [
           "Lua, Brasil e Games – Hipsters #132"
          ],
          [
           "MVP: Produto Mínimo Viável – Hipsters #49"
          ],
          [
           "Machine Learning – Hipsters #89"
          ],
          [
           "Mainframe e desenvolvimento raiz – Hipsters #118"
          ],
          [
           "Mais produtividade – Hipsters #125"
          ],
          [
           "Microserviços – Hipsters #17"
          ],
          [
           "Microsserviços autônomos na Usabilla – Hipsters On The Road #10"
          ],
          [
           "Microsserviços na Caelum – Hipsters On The Road #6"
          ],
          [
           "Microsserviços na Monkey Exchange – Hipsters On The Road #12"
          ],
          [
           "Mitos de UX – Hipsters #93"
          ],
          [
           "Monitoramento: não receba mais telefonemas de madrugada! – Hipsters #12"
          ],
          [
           "Mulheres na Tecnologia – Hipsters #34"
          ],
          [
           "Mídias sociais e o caso do Nubank – Hipsters #32"
          ],
          [
           "Música e tecnologia – Hipsters #126"
          ],
          [
           "Negócios e Inovação Digital na Natura – Hipsters #155"
          ],
          [
           "NoSQL: por quê? – Hipsters #22"
          ],
          [
           "Node, Serverless, Elixir: a stack da Kovi – Hipsters On The Road #11"
          ],
          [
           "O Reino encantado do JavaScript – Hipsters #38"
          ],
          [
           "O que faz um CTO? – Hipsters #68"
          ],
          [
           "Oculus Rift e Realidade Virtual – Hipsters #07"
          ],
          [
           "Overengineering – Hipsters #152"
          ],
          [
           "PHP Experience: Performance Web, Criptomoedas e mais – Hipsters On The Road #01"
          ],
          [
           "PHP não é coisa de sobrinho! – Hipsters #36"
          ],
          [
           "Pagamentos Digitais e o Paypal – Hipsters #29"
          ],
          [
           "Performance e Otimizações na Web – Hipsters #114"
          ],
          [
           "Podcasts, Jornalismo e CBN – Hipsters #133"
          ],
          [
           "Poliglotas, Aprendizado de Línguas e Tecnologia – Hipsters #88"
          ],
          [
           "Por trás do Hipsters: Caelum, Alura e Casa do Código – Hipsters #100"
          ],
          [
           "Por trás do WordPress – Hipsters #72"
          ],
          [
           "Por trás dos vídeos da Globo.com – Hipsters #11"
          ],
          [
           "Presente e Futuro do .NET – Hipsters #26"
          ],
          [
           "Primeiros Passos em Data Science: Do Excel e BI ao Python – Hipsters #134"
          ],
          [
           "Primeiros passos com Devops – Hipsters #81"
          ],
          [
           "Produtividade – Hipsters #76"
          ],
          [
           "Programar sem enxergar – Hipsters #82"
          ],
          [
           "Programação Funcional (e (clojure)) – Hipsters #158"
          ],
          [
           "Progressive Web Apps – Hipsters #03"
          ],
          [
           "Prototipação: erre cedo para acertar cedo – Hipsters #28"
          ],
          [
           "Pull Requests e Code Review – Hipsters #64"
          ],
          [
           "Qualidade e Software no Itaú – Hipsters #131"
          ],
          [
           "RPG hipster – Hipsters #83"
          ],
          [
           "React Native – Hipsters #148"
          ],
          [
           "React: o framework onipresente – Hipsters #66"
          ],
          [
           "Realidade Aumentada – Hipsters #117"
          ],
          [
           "Scrum e Agile para além de Tecnologia – Hipsters #115"
          ],
          [
           "Scrum: do zero ao Sprint – Hipsters #54"
          ],
          [
           "Segurança da Informação: muito além do Telegram – Hipsters #159"
          ],
          [
           "Seleção e Contratação de Times de Tecnologia – Hipsters #94"
          ],
          [
           "Single Page Applications – Hipsters #16"
          ],
          [
           "Small Data, Big Data, Open Data – Hipsters #42"
          ],
          [
           "Softwares de Defesa – Hipsters #116"
          ],
          [
           "Spring Framework – Hipsters #87"
          ],
          [
           "Squads e Agilidade no Magazine Luiza – Hipsters Ponto Tech #149"
          ],
          [
           "Squads não-suicidas – Hipsters #08"
          ],
          [
           "Startupismo da Real – Hipsters #112"
          ],
          [
           "Startups, Blockchain e Bitcoins – Hipsters #40"
          ],
          [
           "Startups, Cubos e Coworking – Hipsters #15"
          ],
          [
           "Startups, Ecommerce e Deploys – Hipsters #60"
          ],
          [
           "Startups, Marketing e Resultados – Hipsters #35"
          ],
          [
           "Startups, Marketplaces e Desapego – Hipsters #30"
          ],
          [
           "Startups, Música e Educação – Hipsters #25"
          ],
          [
           "Startups, Ninjas e Marketplaces – Hipsters #10"
          ],
          [
           "Startups, Olhos e MIT – Hipsters #20"
          ],
          [
           "Startups, Processos e Mercado Global – Hipsters #55"
          ],
          [
           "Startups, Venture Capital e Investimentos – Hipsters #45"
          ],
          [
           "Startups, fitness e o dilema do inovador – Hipsters #50"
          ],
          [
           "Startups, investimentos e corretoras – Hipsters #70"
          ],
          [
           "Tecnologia e Produto no Instagram – Hipsters #151"
          ],
          [
           "Tecnologias e Transformação Digital no Magazine Luiza – Hipsters #107"
          ],
          [
           "Tecnologias na Netflix – Hipsters #41"
          ],
          [
           "Tecnologias na StackOverflow – Hipsters #46"
          ],
          [
           "Tecnologias na Wine.com.br – Hipsters #63"
          ],
          [
           "Tecnologias no Banco BTG – Hipsters #136"
          ],
          [
           "Tecnologias no MercadoLivre – Hipsters Ponto Tech #145"
          ],
          [
           "Tecnologias no Nubank – Hipsters #01"
          ],
          [
           "Tecnologias no Nubank: 3 anos depois – Hipsters #150"
          ],
          [
           "Telefonia, Asterisk e Voip – Hipsters #79"
          ],
          [
           "Tendências em Tecnologia para 2018 – Hipsters #77"
          ],
          [
           "Tendências em Tecnologia pra 2020 – Hipsters #144"
          ],
          [
           "Testes A/B – Hipsters #59"
          ],
          [
           "Testes Automatizados – Hipsters #51"
          ],
          [
           "Testes de Software e Inteligência Artificial – Hipsters #154"
          ],
          [
           "Trabalhando na Irlanda – Hipsters #124"
          ],
          [
           "Trabalho Remoto – Hipsters #111"
          ],
          [
           "UX: Pesquisa com o Usuário – Hipsters #44"
          ],
          [
           "Um pouco de compiladores – Hipsters #105"
          ],
          [
           "Vida de Agência – Hipsters #02"
          ],
          [
           "Vida de Consultoria – Hipsters #97"
          ],
          [
           "Vida de Estagiário – Hipsters #85"
          ],
          [
           "Vida de Programadora – Hipsters #86"
          ],
          [
           "Vida e Obra: John Carmack – Hipsters Ponto Tech #156"
          ],
          [
           "Vida, Carreira e Perrengues no Exterior – Hipsters #138"
          ],
          [
           "Vue.js na Wirecard – Hipsters On The Road #09"
          ],
          [
           "Web Components – Hipsters #06"
          ],
          [
           "Xamarin: Desenvolvimento multiplataforma – Hipsters #19"
          ]
         ],
         "hoverlabel": {
          "namelength": 0
         },
         "hovertemplate": "qtde_comentarios=%{x}<br>palavras_positivas=%{y}<br>titulo=%{customdata[0]}",
         "legendgroup": "",
         "marker": {
          "color": "#636efa",
          "symbol": "circle"
         },
         "mode": "markers",
         "name": "",
         "showlegend": false,
         "type": "scatter",
         "x": [
          33,
          53,
          20,
          15,
          29,
          11,
          34,
          20,
          36,
          10,
          7,
          14,
          34,
          13,
          25,
          6,
          35,
          37,
          20,
          101,
          32,
          11,
          18,
          8,
          20,
          3,
          9,
          18,
          28,
          32,
          1,
          18,
          31,
          13,
          14,
          7,
          5,
          42,
          53,
          18,
          3,
          8,
          36,
          1,
          23,
          42,
          57,
          6,
          19,
          8,
          6,
          20,
          72,
          35,
          47,
          16,
          40,
          30,
          2,
          28,
          30,
          33,
          39,
          16,
          35,
          40,
          34,
          14,
          12,
          32,
          17,
          36,
          16,
          42,
          8,
          16,
          16,
          15,
          31,
          76,
          35,
          10,
          3,
          26,
          2,
          88,
          17,
          25,
          26,
          15,
          69,
          27,
          9,
          5,
          58,
          39,
          35,
          32,
          31,
          24,
          18,
          35,
          35,
          18,
          107,
          38,
          20,
          8,
          21,
          43,
          54,
          2,
          9,
          34,
          2,
          15,
          55,
          38,
          14,
          35,
          7,
          22,
          56,
          17,
          20,
          9,
          8,
          12,
          20,
          24,
          14,
          16,
          25,
          34,
          29,
          10,
          7,
          33,
          54,
          20,
          14,
          7,
          147,
          21,
          14,
          92,
          78,
          29,
          59,
          15,
          19,
          36,
          21,
          36,
          27,
          17,
          12,
          22,
          15,
          12,
          5,
          44,
          45
         ],
         "xaxis": "x",
         "y": [
          49,
          69,
          17,
          15,
          38,
          1,
          67,
          28,
          75,
          11,
          23,
          23,
          59,
          18,
          44,
          9,
          55,
          58,
          19,
          389,
          53,
          18,
          27,
          7,
          64,
          7,
          18,
          19,
          62,
          64,
          0,
          53,
          63,
          32,
          16,
          7,
          7,
          75,
          99,
          48,
          2,
          10,
          42,
          2,
          47,
          61,
          145,
          33,
          46,
          12,
          27,
          19,
          200,
          52,
          49,
          21,
          63,
          59,
          6,
          46,
          25,
          51,
          70,
          19,
          90,
          59,
          135,
          52,
          16,
          66,
          22,
          71,
          32,
          87,
          18,
          43,
          18,
          21,
          57,
          201,
          106,
          34,
          4,
          47,
          3,
          125,
          17,
          69,
          55,
          32,
          165,
          36,
          14,
          10,
          143,
          88,
          90,
          50,
          56,
          32,
          36,
          61,
          62,
          36,
          124,
          55,
          30,
          16,
          27,
          80,
          78,
          3,
          34,
          64,
          6,
          55,
          140,
          70,
          44,
          41,
          17,
          21,
          179,
          31,
          34,
          16,
          12,
          24,
          34,
          37,
          14,
          14,
          74,
          63,
          50,
          9,
          18,
          41,
          107,
          17,
          20,
          12,
          194,
          25,
          27,
          187,
          117,
          48,
          119,
          29,
          31,
          113,
          35,
          47,
          49,
          5,
          29,
          45,
          14,
          11,
          5,
          48,
          87
         ],
         "yaxis": "y"
        },
        {
         "hoverlabel": {
          "namelength": 0
         },
         "hovertemplate": "<b>OLS trendline</b><br>palavras_positivas = 1.967116 * qtde_comentarios + -2.402283<br>R<sup>2</sup>=0.734749<br><br>qtde_comentarios=%{x}<br>palavras_positivas=%{y} <b>(trend)</b>",
         "legendgroup": "",
         "marker": {
          "color": "#636efa",
          "symbol": "circle"
         },
         "mode": "lines",
         "name": "",
         "showlegend": false,
         "type": "scatter",
         "x": [
          1,
          1,
          2,
          2,
          2,
          2,
          3,
          3,
          3,
          5,
          5,
          5,
          6,
          6,
          6,
          7,
          7,
          7,
          7,
          7,
          8,
          8,
          8,
          8,
          8,
          8,
          9,
          9,
          9,
          9,
          10,
          10,
          10,
          11,
          11,
          12,
          12,
          12,
          12,
          13,
          13,
          14,
          14,
          14,
          14,
          14,
          14,
          14,
          15,
          15,
          15,
          15,
          15,
          15,
          16,
          16,
          16,
          16,
          16,
          16,
          17,
          17,
          17,
          17,
          18,
          18,
          18,
          18,
          18,
          18,
          19,
          19,
          20,
          20,
          20,
          20,
          20,
          20,
          20,
          20,
          20,
          21,
          21,
          21,
          22,
          22,
          23,
          24,
          24,
          25,
          25,
          25,
          26,
          26,
          27,
          27,
          28,
          28,
          29,
          29,
          29,
          30,
          30,
          31,
          31,
          31,
          32,
          32,
          32,
          32,
          33,
          33,
          33,
          34,
          34,
          34,
          34,
          34,
          35,
          35,
          35,
          35,
          35,
          35,
          35,
          35,
          36,
          36,
          36,
          36,
          36,
          37,
          38,
          38,
          39,
          39,
          40,
          40,
          42,
          42,
          42,
          43,
          44,
          45,
          47,
          53,
          53,
          54,
          54,
          55,
          56,
          57,
          58,
          59,
          69,
          72,
          76,
          78,
          88,
          92,
          101,
          107,
          147
         ],
         "xaxis": "x",
         "y": [
          -0.4351676890736018,
          -0.4351676890736018,
          1.5319480199164661,
          1.5319480199164661,
          1.5319480199164661,
          1.5319480199164661,
          3.499063728906534,
          3.499063728906534,
          3.499063728906534,
          7.433295146886669,
          7.433295146886669,
          7.433295146886669,
          9.400410855876737,
          9.400410855876737,
          9.400410855876737,
          11.367526564866806,
          11.367526564866806,
          11.367526564866806,
          11.367526564866806,
          11.367526564866806,
          13.334642273856874,
          13.334642273856874,
          13.334642273856874,
          13.334642273856874,
          13.334642273856874,
          13.334642273856874,
          15.30175798284694,
          15.30175798284694,
          15.30175798284694,
          15.30175798284694,
          17.26887369183701,
          17.26887369183701,
          17.26887369183701,
          19.235989400827076,
          19.235989400827076,
          21.203105109817145,
          21.203105109817145,
          21.203105109817145,
          21.203105109817145,
          23.170220818807213,
          23.170220818807213,
          25.13733652779728,
          25.13733652779728,
          25.13733652779728,
          25.13733652779728,
          25.13733652779728,
          25.13733652779728,
          25.13733652779728,
          27.10445223678735,
          27.10445223678735,
          27.10445223678735,
          27.10445223678735,
          27.10445223678735,
          27.10445223678735,
          29.071567945777417,
          29.071567945777417,
          29.071567945777417,
          29.071567945777417,
          29.071567945777417,
          29.071567945777417,
          31.038683654767485,
          31.038683654767485,
          31.038683654767485,
          31.038683654767485,
          33.005799363757546,
          33.005799363757546,
          33.005799363757546,
          33.005799363757546,
          33.005799363757546,
          33.005799363757546,
          34.972915072747625,
          34.972915072747625,
          36.94003078173769,
          36.94003078173769,
          36.94003078173769,
          36.94003078173769,
          36.94003078173769,
          36.94003078173769,
          36.94003078173769,
          36.94003078173769,
          36.94003078173769,
          38.907146490727754,
          38.907146490727754,
          38.907146490727754,
          40.87426219971782,
          40.87426219971782,
          42.8413779087079,
          44.80849361769796,
          44.80849361769796,
          46.77560932668803,
          46.77560932668803,
          46.77560932668803,
          48.74272503567809,
          48.74272503567809,
          50.70984074466817,
          50.70984074466817,
          52.676956453658235,
          52.676956453658235,
          54.6440721626483,
          54.6440721626483,
          54.6440721626483,
          56.611187871638364,
          56.611187871638364,
          58.57830358062844,
          58.57830358062844,
          58.57830358062844,
          60.54541928961851,
          60.54541928961851,
          60.54541928961851,
          60.54541928961851,
          62.51253499860857,
          62.51253499860857,
          62.51253499860857,
          64.47965070759864,
          64.47965070759864,
          64.47965070759864,
          64.47965070759864,
          64.47965070759864,
          66.4467664165887,
          66.4467664165887,
          66.4467664165887,
          66.4467664165887,
          66.4467664165887,
          66.4467664165887,
          66.4467664165887,
          66.4467664165887,
          68.41388212557877,
          68.41388212557877,
          68.41388212557877,
          68.41388212557877,
          68.41388212557877,
          70.38099783456884,
          72.34811354355891,
          72.34811354355891,
          74.31522925254897,
          74.31522925254897,
          76.28234496153904,
          76.28234496153904,
          80.21657637951918,
          80.21657637951918,
          80.21657637951918,
          82.18369208850925,
          84.15080779749931,
          86.11792350648939,
          90.05215492446952,
          101.85484917840992,
          101.85484917840992,
          103.8219648874,
          103.8219648874,
          105.78908059639006,
          107.75619630538013,
          109.7233120143702,
          111.69042772336027,
          113.65754343235034,
          133.328700522251,
          139.2300476492212,
          147.0985104851815,
          151.03274190316162,
          170.7038989930623,
          178.57236182902258,
          196.2764032099332,
          208.0790974638736,
          286.7637258234763
         ],
         "yaxis": "y"
        }
       ],
       "layout": {
        "autosize": true,
        "legend": {
         "tracegroupgap": 0
        },
        "margin": {
         "t": 60
        },
        "template": {
         "data": {
          "bar": [
           {
            "error_x": {
             "color": "#2a3f5f"
            },
            "error_y": {
             "color": "#2a3f5f"
            },
            "marker": {
             "line": {
              "color": "#E5ECF6",
              "width": 0.5
             }
            },
            "type": "bar"
           }
          ],
          "barpolar": [
           {
            "marker": {
             "line": {
              "color": "#E5ECF6",
              "width": 0.5
             }
            },
            "type": "barpolar"
           }
          ],
          "carpet": [
           {
            "aaxis": {
             "endlinecolor": "#2a3f5f",
             "gridcolor": "white",
             "linecolor": "white",
             "minorgridcolor": "white",
             "startlinecolor": "#2a3f5f"
            },
            "baxis": {
             "endlinecolor": "#2a3f5f",
             "gridcolor": "white",
             "linecolor": "white",
             "minorgridcolor": "white",
             "startlinecolor": "#2a3f5f"
            },
            "type": "carpet"
           }
          ],
          "choropleth": [
           {
            "colorbar": {
             "outlinewidth": 0,
             "ticks": ""
            },
            "type": "choropleth"
           }
          ],
          "contour": [
           {
            "colorbar": {
             "outlinewidth": 0,
             "ticks": ""
            },
            "colorscale": [
             [
              0,
              "#0d0887"
             ],
             [
              0.1111111111111111,
              "#46039f"
             ],
             [
              0.2222222222222222,
              "#7201a8"
             ],
             [
              0.3333333333333333,
              "#9c179e"
             ],
             [
              0.4444444444444444,
              "#bd3786"
             ],
             [
              0.5555555555555556,
              "#d8576b"
             ],
             [
              0.6666666666666666,
              "#ed7953"
             ],
             [
              0.7777777777777778,
              "#fb9f3a"
             ],
             [
              0.8888888888888888,
              "#fdca26"
             ],
             [
              1,
              "#f0f921"
             ]
            ],
            "type": "contour"
           }
          ],
          "contourcarpet": [
           {
            "colorbar": {
             "outlinewidth": 0,
             "ticks": ""
            },
            "type": "contourcarpet"
           }
          ],
          "heatmap": [
           {
            "colorbar": {
             "outlinewidth": 0,
             "ticks": ""
            },
            "colorscale": [
             [
              0,
              "#0d0887"
             ],
             [
              0.1111111111111111,
              "#46039f"
             ],
             [
              0.2222222222222222,
              "#7201a8"
             ],
             [
              0.3333333333333333,
              "#9c179e"
             ],
             [
              0.4444444444444444,
              "#bd3786"
             ],
             [
              0.5555555555555556,
              "#d8576b"
             ],
             [
              0.6666666666666666,
              "#ed7953"
             ],
             [
              0.7777777777777778,
              "#fb9f3a"
             ],
             [
              0.8888888888888888,
              "#fdca26"
             ],
             [
              1,
              "#f0f921"
             ]
            ],
            "type": "heatmap"
           }
          ],
          "heatmapgl": [
           {
            "colorbar": {
             "outlinewidth": 0,
             "ticks": ""
            },
            "colorscale": [
             [
              0,
              "#0d0887"
             ],
             [
              0.1111111111111111,
              "#46039f"
             ],
             [
              0.2222222222222222,
              "#7201a8"
             ],
             [
              0.3333333333333333,
              "#9c179e"
             ],
             [
              0.4444444444444444,
              "#bd3786"
             ],
             [
              0.5555555555555556,
              "#d8576b"
             ],
             [
              0.6666666666666666,
              "#ed7953"
             ],
             [
              0.7777777777777778,
              "#fb9f3a"
             ],
             [
              0.8888888888888888,
              "#fdca26"
             ],
             [
              1,
              "#f0f921"
             ]
            ],
            "type": "heatmapgl"
           }
          ],
          "histogram": [
           {
            "marker": {
             "colorbar": {
              "outlinewidth": 0,
              "ticks": ""
             }
            },
            "type": "histogram"
           }
          ],
          "histogram2d": [
           {
            "colorbar": {
             "outlinewidth": 0,
             "ticks": ""
            },
            "colorscale": [
             [
              0,
              "#0d0887"
             ],
             [
              0.1111111111111111,
              "#46039f"
             ],
             [
              0.2222222222222222,
              "#7201a8"
             ],
             [
              0.3333333333333333,
              "#9c179e"
             ],
             [
              0.4444444444444444,
              "#bd3786"
             ],
             [
              0.5555555555555556,
              "#d8576b"
             ],
             [
              0.6666666666666666,
              "#ed7953"
             ],
             [
              0.7777777777777778,
              "#fb9f3a"
             ],
             [
              0.8888888888888888,
              "#fdca26"
             ],
             [
              1,
              "#f0f921"
             ]
            ],
            "type": "histogram2d"
           }
          ],
          "histogram2dcontour": [
           {
            "colorbar": {
             "outlinewidth": 0,
             "ticks": ""
            },
            "colorscale": [
             [
              0,
              "#0d0887"
             ],
             [
              0.1111111111111111,
              "#46039f"
             ],
             [
              0.2222222222222222,
              "#7201a8"
             ],
             [
              0.3333333333333333,
              "#9c179e"
             ],
             [
              0.4444444444444444,
              "#bd3786"
             ],
             [
              0.5555555555555556,
              "#d8576b"
             ],
             [
              0.6666666666666666,
              "#ed7953"
             ],
             [
              0.7777777777777778,
              "#fb9f3a"
             ],
             [
              0.8888888888888888,
              "#fdca26"
             ],
             [
              1,
              "#f0f921"
             ]
            ],
            "type": "histogram2dcontour"
           }
          ],
          "mesh3d": [
           {
            "colorbar": {
             "outlinewidth": 0,
             "ticks": ""
            },
            "type": "mesh3d"
           }
          ],
          "parcoords": [
           {
            "line": {
             "colorbar": {
              "outlinewidth": 0,
              "ticks": ""
             }
            },
            "type": "parcoords"
           }
          ],
          "scatter": [
           {
            "marker": {
             "colorbar": {
              "outlinewidth": 0,
              "ticks": ""
             }
            },
            "type": "scatter"
           }
          ],
          "scatter3d": [
           {
            "line": {
             "colorbar": {
              "outlinewidth": 0,
              "ticks": ""
             }
            },
            "marker": {
             "colorbar": {
              "outlinewidth": 0,
              "ticks": ""
             }
            },
            "type": "scatter3d"
           }
          ],
          "scattercarpet": [
           {
            "marker": {
             "colorbar": {
              "outlinewidth": 0,
              "ticks": ""
             }
            },
            "type": "scattercarpet"
           }
          ],
          "scattergeo": [
           {
            "marker": {
             "colorbar": {
              "outlinewidth": 0,
              "ticks": ""
             }
            },
            "type": "scattergeo"
           }
          ],
          "scattergl": [
           {
            "marker": {
             "colorbar": {
              "outlinewidth": 0,
              "ticks": ""
             }
            },
            "type": "scattergl"
           }
          ],
          "scattermapbox": [
           {
            "marker": {
             "colorbar": {
              "outlinewidth": 0,
              "ticks": ""
             }
            },
            "type": "scattermapbox"
           }
          ],
          "scatterpolar": [
           {
            "marker": {
             "colorbar": {
              "outlinewidth": 0,
              "ticks": ""
             }
            },
            "type": "scatterpolar"
           }
          ],
          "scatterpolargl": [
           {
            "marker": {
             "colorbar": {
              "outlinewidth": 0,
              "ticks": ""
             }
            },
            "type": "scatterpolargl"
           }
          ],
          "scatterternary": [
           {
            "marker": {
             "colorbar": {
              "outlinewidth": 0,
              "ticks": ""
             }
            },
            "type": "scatterternary"
           }
          ],
          "surface": [
           {
            "colorbar": {
             "outlinewidth": 0,
             "ticks": ""
            },
            "colorscale": [
             [
              0,
              "#0d0887"
             ],
             [
              0.1111111111111111,
              "#46039f"
             ],
             [
              0.2222222222222222,
              "#7201a8"
             ],
             [
              0.3333333333333333,
              "#9c179e"
             ],
             [
              0.4444444444444444,
              "#bd3786"
             ],
             [
              0.5555555555555556,
              "#d8576b"
             ],
             [
              0.6666666666666666,
              "#ed7953"
             ],
             [
              0.7777777777777778,
              "#fb9f3a"
             ],
             [
              0.8888888888888888,
              "#fdca26"
             ],
             [
              1,
              "#f0f921"
             ]
            ],
            "type": "surface"
           }
          ],
          "table": [
           {
            "cells": {
             "fill": {
              "color": "#EBF0F8"
             },
             "line": {
              "color": "white"
             }
            },
            "header": {
             "fill": {
              "color": "#C8D4E3"
             },
             "line": {
              "color": "white"
             }
            },
            "type": "table"
           }
          ]
         },
         "layout": {
          "annotationdefaults": {
           "arrowcolor": "#2a3f5f",
           "arrowhead": 0,
           "arrowwidth": 1
          },
          "colorscale": {
           "diverging": [
            [
             0,
             "#8e0152"
            ],
            [
             0.1,
             "#c51b7d"
            ],
            [
             0.2,
             "#de77ae"
            ],
            [
             0.3,
             "#f1b6da"
            ],
            [
             0.4,
             "#fde0ef"
            ],
            [
             0.5,
             "#f7f7f7"
            ],
            [
             0.6,
             "#e6f5d0"
            ],
            [
             0.7,
             "#b8e186"
            ],
            [
             0.8,
             "#7fbc41"
            ],
            [
             0.9,
             "#4d9221"
            ],
            [
             1,
             "#276419"
            ]
           ],
           "sequential": [
            [
             0,
             "#0d0887"
            ],
            [
             0.1111111111111111,
             "#46039f"
            ],
            [
             0.2222222222222222,
             "#7201a8"
            ],
            [
             0.3333333333333333,
             "#9c179e"
            ],
            [
             0.4444444444444444,
             "#bd3786"
            ],
            [
             0.5555555555555556,
             "#d8576b"
            ],
            [
             0.6666666666666666,
             "#ed7953"
            ],
            [
             0.7777777777777778,
             "#fb9f3a"
            ],
            [
             0.8888888888888888,
             "#fdca26"
            ],
            [
             1,
             "#f0f921"
            ]
           ],
           "sequentialminus": [
            [
             0,
             "#0d0887"
            ],
            [
             0.1111111111111111,
             "#46039f"
            ],
            [
             0.2222222222222222,
             "#7201a8"
            ],
            [
             0.3333333333333333,
             "#9c179e"
            ],
            [
             0.4444444444444444,
             "#bd3786"
            ],
            [
             0.5555555555555556,
             "#d8576b"
            ],
            [
             0.6666666666666666,
             "#ed7953"
            ],
            [
             0.7777777777777778,
             "#fb9f3a"
            ],
            [
             0.8888888888888888,
             "#fdca26"
            ],
            [
             1,
             "#f0f921"
            ]
           ]
          },
          "colorway": [
           "#636efa",
           "#EF553B",
           "#00cc96",
           "#ab63fa",
           "#FFA15A",
           "#19d3f3",
           "#FF6692",
           "#B6E880",
           "#FF97FF",
           "#FECB52"
          ],
          "font": {
           "color": "#2a3f5f"
          },
          "geo": {
           "bgcolor": "white",
           "lakecolor": "white",
           "landcolor": "#E5ECF6",
           "showlakes": true,
           "showland": true,
           "subunitcolor": "white"
          },
          "hoverlabel": {
           "align": "left"
          },
          "hovermode": "closest",
          "mapbox": {
           "style": "light"
          },
          "paper_bgcolor": "white",
          "plot_bgcolor": "#E5ECF6",
          "polar": {
           "angularaxis": {
            "gridcolor": "white",
            "linecolor": "white",
            "ticks": ""
           },
           "bgcolor": "#E5ECF6",
           "radialaxis": {
            "gridcolor": "white",
            "linecolor": "white",
            "ticks": ""
           }
          },
          "scene": {
           "xaxis": {
            "backgroundcolor": "#E5ECF6",
            "gridcolor": "white",
            "gridwidth": 2,
            "linecolor": "white",
            "showbackground": true,
            "ticks": "",
            "zerolinecolor": "white"
           },
           "yaxis": {
            "backgroundcolor": "#E5ECF6",
            "gridcolor": "white",
            "gridwidth": 2,
            "linecolor": "white",
            "showbackground": true,
            "ticks": "",
            "zerolinecolor": "white"
           },
           "zaxis": {
            "backgroundcolor": "#E5ECF6",
            "gridcolor": "white",
            "gridwidth": 2,
            "linecolor": "white",
            "showbackground": true,
            "ticks": "",
            "zerolinecolor": "white"
           }
          },
          "shapedefaults": {
           "line": {
            "color": "#2a3f5f"
           }
          },
          "ternary": {
           "aaxis": {
            "gridcolor": "white",
            "linecolor": "white",
            "ticks": ""
           },
           "baxis": {
            "gridcolor": "white",
            "linecolor": "white",
            "ticks": ""
           },
           "bgcolor": "#E5ECF6",
           "caxis": {
            "gridcolor": "white",
            "linecolor": "white",
            "ticks": ""
           }
          },
          "title": {
           "x": 0.05
          },
          "xaxis": {
           "automargin": true,
           "gridcolor": "white",
           "linecolor": "white",
           "ticks": "",
           "zerolinecolor": "white",
           "zerolinewidth": 2
          },
          "yaxis": {
           "automargin": true,
           "gridcolor": "white",
           "linecolor": "white",
           "ticks": "",
           "zerolinecolor": "white",
           "zerolinewidth": 2
          }
         }
        },
        "xaxis": {
         "anchor": "y",
         "autorange": true,
         "domain": [
          0,
          0.98
         ],
         "range": [
          -7.978142263421642,
          155.97814226342163
         ],
         "title": {
          "text": "qtde_comentarios"
         },
         "type": "linear"
        },
        "yaxis": {
         "anchor": "x",
         "autorange": true,
         "domain": [
          0,
          1
         ],
         "range": [
          -25.598400984009842,
          414.59840098400986
         ],
         "title": {
          "text": "palavras_positivas"
         },
         "type": "linear"
        }
       }
      },
      "image/png": "[encoded data removed]",
      "text/html": [
       "<div>\n",
       "        \n",
       "        \n",
       "            <div id=\"0261b2c6-d518-4b08-9641-b5a7b437987b\" class=\"plotly-graph-div\" style=\"height:600px; width:100%;\"></div>\n",
       "            <script type=\"text/javascript\">\n",
       "                require([\"plotly\"], function(Plotly) {\n",
       "                    window.PLOTLYENV=window.PLOTLYENV || {};\n",
       "                    \n",
       "                if (document.getElementById(\"0261b2c6-d518-4b08-9641-b5a7b437987b\")) {\n",
       "                    Plotly.newPlot(\n",
       "                        '0261b2c6-d518-4b08-9641-b5a7b437987b',\n",
       "                        [{\"customdata\": [[\"A linguagem Go \\u2013 Hipsters #67\"], [\"A vez do Ruby on Rails \\u2013 Hipsters #52\"], [\"APIs: Gerenciamento e Cria\\u00e7\\u00e3o \\u2013 Hipsters #57\"], [\"ASP.NET Core \\u2013 Hipsters #108\"], [\"Acessibilidade web \\u2013 Hipsters #21\"], [\"Agile Trends: Lean Inception, Kanban, Comunidades \\u2013 Hipsters On The Road #02\"], [\"Agilidade \\u2013 Hipsters #05\"], [\"Android P, Intelig\\u00eancia Artificial e Google I/O \\u2013 Hipsters #101\"], [\"Angular vs React \\u2013 Hipsters #142\"], [\"Apps para SmartTVs \\u2013 Hipsters #102\"], [\"Assistentes de voz: Futuro sem telas? \\u2013 Hipsters Ponto Tech #146\"], [\"Automa\\u00e7\\u00e3o residencial \\u2013 Hipsters #140\"], [\"Bancos, Inova\\u00e7\\u00e3o e o Vale do Sil\\u00edcio \\u2013 Hipsters #18\"], [\"Big Data e Data Science: pra qu\\u00ea afinal? \\u2013 Hipsters #73\"], [\"Breve Historia da Implanta\\u00e7\\u00e3o de Sistemas na Web \\u2013 Hipsters #95\"], [\"Business Agility \\u2013 Hipsters #147\"], [\"CSS: Cansei de Ser Simples \\u2013 Hipsters #09\"], [\"Caf\\u00e9zinho Hipster \\u2013 Hipsters #33\"], [\"Canais de Tecnologia no Youtube \\u2013 Hipsters #143\"], [\"Carreira em Tecnologia \\u2013 Hipsters #31\"], [\"Carreiras em Tecnologia (sem contar Programador e Designer!) \\u2013 Hipsters #61\"], [\"Carros El\\u00e9tricos e Programa\\u00e7\\u00e3o \\u2013 Hipsters #135\"], [\"Casos bacanas de Data Science \\u2013 Hipsters #106\"], [\"Chatbots e jornada do usu\\u00e1rio \\u2013 Hipsters #130\"], [\"Come\\u00e7o de carreira \\u2013 Hipsters #128\"], [\"Como \\u00e9 trabalhar na iFood, Wavy, Sympla e grupo Movile? \\u2013 Hipsters On The Road #05\"], [\"Como \\u00e9 trabalhar no Nubank? \\u2013 Hipsters On The Road #04\"], [\"Containers e Docker \\u2013 Hipsters #75\"], [\"Crian\\u00e7as, jovens e programa\\u00e7\\u00e3o \\u2013 Hipsters #65\"], [\"Data Science e Pol\\u00edtica na Opera\\u00e7\\u00e3o Serenata de Amor \\u2013 Hipsters #62\"], [\"Data Science, Engenharia, Design e Produto no Grupo Zap \\u2013 Hipsters On The Road #08\"], [\"Desafios em Machine Learning \\u2013 Hipsters #137\"], [\"Desenvolvimento Android \\u2013 Hipsters #39\"], [\"Desenvolvimento de Jogos Indie \\u2013 Hipsters #96\"], [\"Desenvolvimento iOS com Swift \\u2013 Hipsters #120\"], [\"Design Sprint \\u2013 Hipsters #23\"], [\"Design Thinking \\u2013 Hipsters #139\"], [\"Designers e Programadores \\u2013 Hipsters #71\"], [\"E o futuro do Java! \\u2013 Hipsters #27\"], [\"ERPs, Arquiteturas e TOTVS \\u2013 Hipsters Ponto Tech #141\"], [\"Ecossistemas de Startups no Inovabra \\u2013 Hipsters Ponto Tech #153\"], [\"Edi\\u00e7\\u00e3o de V\\u00eddeo: Efeitos Especiais \\u2013 Hipsters #103\"], [\"Elixir, a linguagem hipster \\u2013 Hipsters #48\"], [\"Estrat\\u00e9gias de migra\\u00e7\\u00e3o de dados no Elo7 \\u2013 Hipsters On The Road #07\"], [\"Eventos de Tecnologia \\u2013 Hipsters #121\"], [\"Evolu\\u00e7\\u00e3o e Especifica\\u00e7\\u00e3o do JavaScript Moderno \\u2013 Hipsters #58\"], [\"Faculdades: Ci\\u00eancia da Computa\\u00e7\\u00e3o e Sistemas de Informa\\u00e7\\u00e3o \\u2013 Hipsters #47\"], [\"Fake News \\u2013 Hipsters #98\"], [\"Geolocaliza\\u00e7\\u00e3o e Log\\u00edstica \\u2013 Hipsters #53\"], [\"Gest\\u00e3o com Management 3.0 \\u2013 Hipsters #80\"], [\"Gest\\u00e3o de Pessoas \\u2013 Hipsters #157\"], [\"Git e Github \\u2013 Hipsters #109\"], [\"Grandes livros de Tecnologia \\u2013 Hipsters #113\"], [\"HTTP/2: magia com o novo protocolo \\u2013 Hipsters #13\"], [\"Heur\\u00edsticas e Buzzwords de UX \\u2013 Hipsters #14\"], [\"Hist\\u00f3rias de Black Friday \\u2013 Hipsters #123\"], [\"Hist\\u00f3rias do Cloud \\u2013 Hipsters #04\"], [\"Ideias para TCCs e Projetos \\u2013 Hipsters #92\"], [\"Inbound marketing \\u2013 Hipsters #127\"], [\"Indie Games \\u2013 Hipsters #24\"], [\"Intelig\\u00eancia Artificial, Chatbots e Microsoft \\u2013 Hipsters #37\"], [\"Internet das Coisas, Android e at\\u00e9 Cerveja \\u2013 Hipsters #43\"], [\"Ionic e o Desenvolvimento Mobile \\u2013 Hipsters #56\"], [\"Java EE e Jakarta EE \\u2013 Hipsters #119\"], [\"Javascript: Ember.js \\u2013 Hipsters #78\"], [\"Kanban e o fluxo de trabalho \\u2013 Hipsters #74\"], [\"Kotlin, Android e al\\u00e9m \\u2013 Hipsters #110\"], [\"Linguagens Funcionais \\u2013 Hipsters #91\"], [\"Lua, Brasil e Games \\u2013 Hipsters #132\"], [\"MVP: Produto M\\u00ednimo Vi\\u00e1vel \\u2013 Hipsters #49\"], [\"Machine Learning \\u2013 Hipsters #89\"], [\"Mainframe e desenvolvimento raiz \\u2013 Hipsters #118\"], [\"Mais produtividade \\u2013 Hipsters #125\"], [\"Microservi\\u00e7os \\u2013 Hipsters #17\"], [\"Microsservi\\u00e7os aut\\u00f4nomos na Usabilla \\u2013 Hipsters On The Road #10\"], [\"Microsservi\\u00e7os na Caelum \\u2013 Hipsters On The Road #6\"], [\"Microsservi\\u00e7os na Monkey Exchange \\u2013 Hipsters On The Road #12\"], [\"Mitos de UX \\u2013 Hipsters #93\"], [\"Monitoramento: n\\u00e3o receba mais telefonemas de madrugada! \\u2013 Hipsters #12\"], [\"Mulheres na Tecnologia \\u2013 Hipsters #34\"], [\"M\\u00eddias sociais e o caso do Nubank \\u2013 Hipsters #32\"], [\"M\\u00fasica e tecnologia \\u2013 Hipsters #126\"], [\"Neg\\u00f3cios e Inova\\u00e7\\u00e3o Digital na Natura \\u2013 Hipsters #155\"], [\"NoSQL: por qu\\u00ea? \\u2013 Hipsters #22\"], [\"Node, Serverless, Elixir: a stack da Kovi \\u2013 Hipsters On The Road #11\"], [\"O Reino encantado do JavaScript \\u2013 Hipsters #38\"], [\"O que faz um CTO? \\u2013 Hipsters #68\"], [\"Oculus Rift e Realidade Virtual \\u2013 Hipsters #07\"], [\"Overengineering \\u2013 Hipsters #152\"], [\"PHP Experience: Performance Web, Criptomoedas e mais \\u2013 Hipsters On The Road #01\"], [\"PHP n\\u00e3o \\u00e9 coisa de sobrinho! \\u2013 Hipsters #36\"], [\"Pagamentos Digitais e o Paypal \\u2013 Hipsters #29\"], [\"Performance e Otimiza\\u00e7\\u00f5es na Web \\u2013 Hipsters #114\"], [\"Podcasts, Jornalismo e CBN \\u2013 Hipsters #133\"], [\"Poliglotas, Aprendizado de L\\u00ednguas e Tecnologia \\u2013 Hipsters #88\"], [\"Por tr\\u00e1s do Hipsters: Caelum, Alura e Casa do C\\u00f3digo \\u2013 Hipsters #100\"], [\"Por tr\\u00e1s do WordPress \\u2013 Hipsters #72\"], [\"Por tr\\u00e1s dos v\\u00eddeos da Globo.com \\u2013 Hipsters #11\"], [\"Presente e Futuro do .NET \\u2013 Hipsters #26\"], [\"Primeiros Passos em Data Science: Do Excel e BI ao Python \\u2013 Hipsters #134\"], [\"Primeiros passos com Devops \\u2013 Hipsters #81\"], [\"Produtividade \\u2013 Hipsters #76\"], [\"Programar sem enxergar \\u2013 Hipsters #82\"], [\"Programa\\u00e7\\u00e3o Funcional (e (clojure)) \\u2013 Hipsters #158\"], [\"Progressive Web Apps \\u2013 Hipsters #03\"], [\"Prototipa\\u00e7\\u00e3o: erre cedo para acertar cedo \\u2013 Hipsters #28\"], [\"Pull Requests e Code Review \\u2013 Hipsters #64\"], [\"Qualidade e Software no Ita\\u00fa \\u2013 Hipsters #131\"], [\"RPG hipster \\u2013 Hipsters #83\"], [\"React Native \\u2013 Hipsters #148\"], [\"React: o framework onipresente \\u2013 Hipsters #66\"], [\"Realidade Aumentada \\u2013 Hipsters #117\"], [\"Scrum e Agile para al\\u00e9m de Tecnologia \\u2013 Hipsters #115\"], [\"Scrum: do zero ao Sprint \\u2013 Hipsters #54\"], [\"Seguran\\u00e7a da Informa\\u00e7\\u00e3o: muito al\\u00e9m do Telegram \\u2013 Hipsters #159\"], [\"Sele\\u00e7\\u00e3o e Contrata\\u00e7\\u00e3o de Times de Tecnologia \\u2013 Hipsters #94\"], [\"Single Page Applications \\u2013 Hipsters #16\"], [\"Small Data, Big Data, Open Data \\u2013 Hipsters #42\"], [\"Softwares de Defesa \\u2013 Hipsters #116\"], [\"Spring Framework \\u2013 Hipsters #87\"], [\"Squads e Agilidade no Magazine Luiza \\u2013 Hipsters Ponto Tech #149\"], [\"Squads n\\u00e3o-suicidas \\u2013 Hipsters #08\"], [\"Startupismo da Real \\u2013 Hipsters #112\"], [\"Startups, Blockchain e Bitcoins \\u2013 Hipsters #40\"], [\"Startups, Cubos e Coworking \\u2013 Hipsters #15\"], [\"Startups, Ecommerce e Deploys \\u2013 Hipsters #60\"], [\"Startups, Marketing e Resultados \\u2013 Hipsters #35\"], [\"Startups, Marketplaces e Desapego \\u2013 Hipsters #30\"], [\"Startups, M\\u00fasica e Educa\\u00e7\\u00e3o \\u2013 Hipsters #25\"], [\"Startups, Ninjas e Marketplaces \\u2013 Hipsters #10\"], [\"Startups, Olhos e MIT \\u2013 Hipsters #20\"], [\"Startups, Processos e Mercado Global \\u2013 Hipsters #55\"], [\"Startups, Venture Capital e Investimentos \\u2013 Hipsters #45\"], [\"Startups, fitness e o dilema do inovador \\u2013 Hipsters #50\"], [\"Startups, investimentos e corretoras \\u2013 Hipsters #70\"], [\"Tecnologia e Produto no Instagram \\u2013 Hipsters #151\"], [\"Tecnologias e Transforma\\u00e7\\u00e3o Digital no Magazine Luiza \\u2013 Hipsters #107\"], [\"Tecnologias na Netflix \\u2013 Hipsters #41\"], [\"Tecnologias na StackOverflow \\u2013 Hipsters #46\"], [\"Tecnologias na Wine.com.br \\u2013 Hipsters #63\"], [\"Tecnologias no Banco BTG \\u2013 Hipsters #136\"], [\"Tecnologias no MercadoLivre \\u2013 Hipsters Ponto Tech #145\"], [\"Tecnologias no Nubank \\u2013 Hipsters #01\"], [\"Tecnologias no Nubank: 3 anos depois \\u2013 Hipsters #150\"], [\"Telefonia, Asterisk e Voip \\u2013 Hipsters #79\"], [\"Tend\\u00eancias em Tecnologia para 2018 \\u2013 Hipsters #77\"], [\"Tend\\u00eancias em Tecnologia pra 2020 \\u2013 Hipsters #144\"], [\"Testes A/B \\u2013 Hipsters #59\"], [\"Testes Automatizados \\u2013 Hipsters #51\"], [\"Testes de Software e Intelig\\u00eancia Artificial \\u2013 Hipsters #154\"], [\"Trabalhando na Irlanda \\u2013 Hipsters #124\"], [\"Trabalho Remoto \\u2013 Hipsters #111\"], [\"UX: Pesquisa com o Usu\\u00e1rio \\u2013 Hipsters #44\"], [\"Um pouco de compiladores \\u2013 Hipsters #105\"], [\"Vida de Ag\\u00eancia \\u2013 Hipsters #02\"], [\"Vida de Consultoria \\u2013 Hipsters #97\"], [\"Vida de Estagi\\u00e1rio \\u2013 Hipsters #85\"], [\"Vida de Programadora \\u2013 Hipsters #86\"], [\"Vida e Obra: John Carmack \\u2013 Hipsters Ponto Tech #156\"], [\"Vida, Carreira e Perrengues no Exterior \\u2013 Hipsters #138\"], [\"Vue.js na Wirecard \\u2013 Hipsters On The Road #09\"], [\"Web Components \\u2013 Hipsters #06\"], [\"Xamarin: Desenvolvimento multiplataforma \\u2013 Hipsters #19\"]], \"hoverlabel\": {\"namelength\": 0}, \"hovertemplate\": \"qtde_comentarios=%{x}<br>palavras_positivas=%{y}<br>titulo=%{customdata[0]}\", \"legendgroup\": \"\", \"marker\": {\"color\": \"#636efa\", \"symbol\": \"circle\"}, \"mode\": \"markers\", \"name\": \"\", \"showlegend\": false, \"type\": \"scatter\", \"x\": [33, 53, 20, 15, 29, 11, 34, 20, 36, 10, 7, 14, 34, 13, 25, 6, 35, 37, 20, 101, 32, 11, 18, 8, 20, 3, 9, 18, 28, 32, 1, 18, 31, 13, 14, 7, 5, 42, 53, 18, 3, 8, 36, 1, 23, 42, 57, 6, 19, 8, 6, 20, 72, 35, 47, 16, 40, 30, 2, 28, 30, 33, 39, 16, 35, 40, 34, 14, 12, 32, 17, 36, 16, 42, 8, 16, 16, 15, 31, 76, 35, 10, 3, 26, 2, 88, 17, 25, 26, 15, 69, 27, 9, 5, 58, 39, 35, 32, 31, 24, 18, 35, 35, 18, 107, 38, 20, 8, 21, 43, 54, 2, 9, 34, 2, 15, 55, 38, 14, 35, 7, 22, 56, 17, 20, 9, 8, 12, 20, 24, 14, 16, 25, 34, 29, 10, 7, 33, 54, 20, 14, 7, 147, 21, 14, 92, 78, 29, 59, 15, 19, 36, 21, 36, 27, 17, 12, 22, 15, 12, 5, 44, 45], \"xaxis\": \"x\", \"y\": [49, 69, 17, 15, 38, 1, 67, 28, 75, 11, 23, 23, 59, 18, 44, 9, 55, 58, 19, 389, 53, 18, 27, 7, 64, 7, 18, 19, 62, 64, 0, 53, 63, 32, 16, 7, 7, 75, 99, 48, 2, 10, 42, 2, 47, 61, 145, 33, 46, 12, 27, 19, 200, 52, 49, 21, 63, 59, 6, 46, 25, 51, 70, 19, 90, 59, 135, 52, 16, 66, 22, 71, 32, 87, 18, 43, 18, 21, 57, 201, 106, 34, 4, 47, 3, 125, 17, 69, 55, 32, 165, 36, 14, 10, 143, 88, 90, 50, 56, 32, 36, 61, 62, 36, 124, 55, 30, 16, 27, 80, 78, 3, 34, 64, 6, 55, 140, 70, 44, 41, 17, 21, 179, 31, 34, 16, 12, 24, 34, 37, 14, 14, 74, 63, 50, 9, 18, 41, 107, 17, 20, 12, 194, 25, 27, 187, 117, 48, 119, 29, 31, 113, 35, 47, 49, 5, 29, 45, 14, 11, 5, 48, 87], \"yaxis\": \"y\"}, {\"hoverlabel\": {\"namelength\": 0}, \"hovertemplate\": \"<b>OLS trendline</b><br>palavras_positivas = 1.967116 * qtde_comentarios + -2.402283<br>R<sup>2</sup>=0.734749<br><br>qtde_comentarios=%{x}<br>palavras_positivas=%{y} <b>(trend)</b>\", \"legendgroup\": \"\", \"marker\": {\"color\": \"#636efa\", \"symbol\": \"circle\"}, \"mode\": \"lines\", \"name\": \"\", \"showlegend\": false, \"type\": \"scatter\", \"x\": [1, 1, 2, 2, 2, 2, 3, 3, 3, 5, 5, 5, 6, 6, 6, 7, 7, 7, 7, 7, 8, 8, 8, 8, 8, 8, 9, 9, 9, 9, 10, 10, 10, 11, 11, 12, 12, 12, 12, 13, 13, 14, 14, 14, 14, 14, 14, 14, 15, 15, 15, 15, 15, 15, 16, 16, 16, 16, 16, 16, 17, 17, 17, 17, 18, 18, 18, 18, 18, 18, 19, 19, 20, 20, 20, 20, 20, 20, 20, 20, 20, 21, 21, 21, 22, 22, 23, 24, 24, 25, 25, 25, 26, 26, 27, 27, 28, 28, 29, 29, 29, 30, 30, 31, 31, 31, 32, 32, 32, 32, 33, 33, 33, 34, 34, 34, 34, 34, 35, 35, 35, 35, 35, 35, 35, 35, 36, 36, 36, 36, 36, 37, 38, 38, 39, 39, 40, 40, 42, 42, 42, 43, 44, 45, 47, 53, 53, 54, 54, 55, 56, 57, 58, 59, 69, 72, 76, 78, 88, 92, 101, 107, 147], \"xaxis\": \"x\", \"y\": [-0.4351676890736018, -0.4351676890736018, 1.5319480199164661, 1.5319480199164661, 1.5319480199164661, 1.5319480199164661, 3.499063728906534, 3.499063728906534, 3.499063728906534, 7.433295146886669, 7.433295146886669, 7.433295146886669, 9.400410855876737, 9.400410855876737, 9.400410855876737, 11.367526564866806, 11.367526564866806, 11.367526564866806, 11.367526564866806, 11.367526564866806, 13.334642273856874, 13.334642273856874, 13.334642273856874, 13.334642273856874, 13.334642273856874, 13.334642273856874, 15.30175798284694, 15.30175798284694, 15.30175798284694, 15.30175798284694, 17.26887369183701, 17.26887369183701, 17.26887369183701, 19.235989400827076, 19.235989400827076, 21.203105109817145, 21.203105109817145, 21.203105109817145, 21.203105109817145, 23.170220818807213, 23.170220818807213, 25.13733652779728, 25.13733652779728, 25.13733652779728, 25.13733652779728, 25.13733652779728, 25.13733652779728, 25.13733652779728, 27.10445223678735, 27.10445223678735, 27.10445223678735, 27.10445223678735, 27.10445223678735, 27.10445223678735, 29.071567945777417, 29.071567945777417, 29.071567945777417, 29.071567945777417, 29.071567945777417, 29.071567945777417, 31.038683654767485, 31.038683654767485, 31.038683654767485, 31.038683654767485, 33.005799363757546, 33.005799363757546, 33.005799363757546, 33.005799363757546, 33.005799363757546, 33.005799363757546, 34.972915072747625, 34.972915072747625, 36.94003078173769, 36.94003078173769, 36.94003078173769, 36.94003078173769, 36.94003078173769, 36.94003078173769, 36.94003078173769, 36.94003078173769, 36.94003078173769, 38.907146490727754, 38.907146490727754, 38.907146490727754, 40.87426219971782, 40.87426219971782, 42.8413779087079, 44.80849361769796, 44.80849361769796, 46.77560932668803, 46.77560932668803, 46.77560932668803, 48.74272503567809, 48.74272503567809, 50.70984074466817, 50.70984074466817, 52.676956453658235, 52.676956453658235, 54.6440721626483, 54.6440721626483, 54.6440721626483, 56.611187871638364, 56.611187871638364, 58.57830358062844, 58.57830358062844, 58.57830358062844, 60.54541928961851, 60.54541928961851, 60.54541928961851, 60.54541928961851, 62.51253499860857, 62.51253499860857, 62.51253499860857, 64.47965070759864, 64.47965070759864, 64.47965070759864, 64.47965070759864, 64.47965070759864, 66.4467664165887, 66.4467664165887, 66.4467664165887, 66.4467664165887, 66.4467664165887, 66.4467664165887, 66.4467664165887, 66.4467664165887, 68.41388212557877, 68.41388212557877, 68.41388212557877, 68.41388212557877, 68.41388212557877, 70.38099783456884, 72.34811354355891, 72.34811354355891, 74.31522925254897, 74.31522925254897, 76.28234496153904, 76.28234496153904, 80.21657637951918, 80.21657637951918, 80.21657637951918, 82.18369208850925, 84.15080779749931, 86.11792350648939, 90.05215492446952, 101.85484917840992, 101.85484917840992, 103.8219648874, 103.8219648874, 105.78908059639006, 107.75619630538013, 109.7233120143702, 111.69042772336027, 113.65754343235034, 133.328700522251, 139.2300476492212, 147.0985104851815, 151.03274190316162, 170.7038989930623, 178.57236182902258, 196.2764032099332, 208.0790974638736, 286.7637258234763], \"yaxis\": \"y\"}],\n",
       "                        {\"height\": 600, \"legend\": {\"tracegroupgap\": 0}, \"margin\": {\"t\": 60}, \"template\": {\"data\": {\"bar\": [{\"error_x\": {\"color\": \"#2a3f5f\"}, \"error_y\": {\"color\": \"#2a3f5f\"}, \"marker\": {\"line\": {\"color\": \"#E5ECF6\", \"width\": 0.5}}, \"type\": \"bar\"}], \"barpolar\": [{\"marker\": {\"line\": {\"color\": \"#E5ECF6\", \"width\": 0.5}}, \"type\": \"barpolar\"}], \"carpet\": [{\"aaxis\": {\"endlinecolor\": \"#2a3f5f\", \"gridcolor\": \"white\", \"linecolor\": \"white\", \"minorgridcolor\": \"white\", \"startlinecolor\": \"#2a3f5f\"}, \"baxis\": {\"endlinecolor\": \"#2a3f5f\", \"gridcolor\": \"white\", \"linecolor\": \"white\", \"minorgridcolor\": \"white\", \"startlinecolor\": \"#2a3f5f\"}, \"type\": \"carpet\"}], \"choropleth\": [{\"colorbar\": {\"outlinewidth\": 0, \"ticks\": \"\"}, \"type\": \"choropleth\"}], \"contour\": [{\"colorbar\": {\"outlinewidth\": 0, \"ticks\": \"\"}, \"colorscale\": [[0.0, \"#0d0887\"], [0.1111111111111111, \"#46039f\"], [0.2222222222222222, \"#7201a8\"], [0.3333333333333333, \"#9c179e\"], [0.4444444444444444, \"#bd3786\"], [0.5555555555555556, \"#d8576b\"], [0.6666666666666666, \"#ed7953\"], [0.7777777777777778, \"#fb9f3a\"], [0.8888888888888888, \"#fdca26\"], [1.0, \"#f0f921\"]], \"type\": \"contour\"}], \"contourcarpet\": [{\"colorbar\": {\"outlinewidth\": 0, \"ticks\": \"\"}, \"type\": \"contourcarpet\"}], \"heatmap\": [{\"colorbar\": {\"outlinewidth\": 0, \"ticks\": \"\"}, \"colorscale\": [[0.0, \"#0d0887\"], [0.1111111111111111, \"#46039f\"], [0.2222222222222222, \"#7201a8\"], [0.3333333333333333, \"#9c179e\"], [0.4444444444444444, \"#bd3786\"], [0.5555555555555556, \"#d8576b\"], [0.6666666666666666, \"#ed7953\"], [0.7777777777777778, \"#fb9f3a\"], [0.8888888888888888, \"#fdca26\"], [1.0, \"#f0f921\"]], \"type\": \"heatmap\"}], \"heatmapgl\": [{\"colorbar\": {\"outlinewidth\": 0, \"ticks\": \"\"}, \"colorscale\": [[0.0, \"#0d0887\"], [0.1111111111111111, \"#46039f\"], [0.2222222222222222, \"#7201a8\"], [0.3333333333333333, \"#9c179e\"], [0.4444444444444444, \"#bd3786\"], [0.5555555555555556, \"#d8576b\"], [0.6666666666666666, \"#ed7953\"], [0.7777777777777778, \"#fb9f3a\"], [0.8888888888888888, \"#fdca26\"], [1.0, \"#f0f921\"]], \"type\": \"heatmapgl\"}], \"histogram\": [{\"marker\": {\"colorbar\": {\"outlinewidth\": 0, \"ticks\": \"\"}}, \"type\": \"histogram\"}], \"histogram2d\": [{\"colorbar\": {\"outlinewidth\": 0, \"ticks\": \"\"}, \"colorscale\": [[0.0, \"#0d0887\"], [0.1111111111111111, \"#46039f\"], [0.2222222222222222, \"#7201a8\"], [0.3333333333333333, \"#9c179e\"], [0.4444444444444444, \"#bd3786\"], [0.5555555555555556, \"#d8576b\"], [0.6666666666666666, \"#ed7953\"], [0.7777777777777778, \"#fb9f3a\"], [0.8888888888888888, \"#fdca26\"], [1.0, \"#f0f921\"]], \"type\": \"histogram2d\"}], \"histogram2dcontour\": [{\"colorbar\": {\"outlinewidth\": 0, \"ticks\": \"\"}, \"colorscale\": [[0.0, \"#0d0887\"], [0.1111111111111111, \"#46039f\"], [0.2222222222222222, \"#7201a8\"], [0.3333333333333333, \"#9c179e\"], [0.4444444444444444, \"#bd3786\"], [0.5555555555555556, \"#d8576b\"], [0.6666666666666666, \"#ed7953\"], [0.7777777777777778, \"#fb9f3a\"], [0.8888888888888888, \"#fdca26\"], [1.0, \"#f0f921\"]], \"type\": \"histogram2dcontour\"}], \"mesh3d\": [{\"colorbar\": {\"outlinewidth\": 0, \"ticks\": \"\"}, \"type\": \"mesh3d\"}], \"parcoords\": [{\"line\": {\"colorbar\": {\"outlinewidth\": 0, \"ticks\": \"\"}}, \"type\": \"parcoords\"}], \"scatter\": [{\"marker\": {\"colorbar\": {\"outlinewidth\": 0, \"ticks\": \"\"}}, \"type\": \"scatter\"}], \"scatter3d\": [{\"line\": {\"colorbar\": {\"outlinewidth\": 0, \"ticks\": \"\"}}, \"marker\": {\"colorbar\": {\"outlinewidth\": 0, \"ticks\": \"\"}}, \"type\": \"scatter3d\"}], \"scattercarpet\": [{\"marker\": {\"colorbar\": {\"outlinewidth\": 0, \"ticks\": \"\"}}, \"type\": \"scattercarpet\"}], \"scattergeo\": [{\"marker\": {\"colorbar\": {\"outlinewidth\": 0, \"ticks\": \"\"}}, \"type\": \"scattergeo\"}], \"scattergl\": [{\"marker\": {\"colorbar\": {\"outlinewidth\": 0, \"ticks\": \"\"}}, \"type\": \"scattergl\"}], \"scattermapbox\": [{\"marker\": {\"colorbar\": {\"outlinewidth\": 0, \"ticks\": \"\"}}, \"type\": \"scattermapbox\"}], \"scatterpolar\": [{\"marker\": {\"colorbar\": {\"outlinewidth\": 0, \"ticks\": \"\"}}, \"type\": \"scatterpolar\"}], \"scatterpolargl\": [{\"marker\": {\"colorbar\": {\"outlinewidth\": 0, \"ticks\": \"\"}}, \"type\": \"scatterpolargl\"}], \"scatterternary\": [{\"marker\": {\"colorbar\": {\"outlinewidth\": 0, \"ticks\": \"\"}}, \"type\": \"scatterternary\"}], \"surface\": [{\"colorbar\": {\"outlinewidth\": 0, \"ticks\": \"\"}, \"colorscale\": [[0.0, \"#0d0887\"], [0.1111111111111111, \"#46039f\"], [0.2222222222222222, \"#7201a8\"], [0.3333333333333333, \"#9c179e\"], [0.4444444444444444, \"#bd3786\"], [0.5555555555555556, \"#d8576b\"], [0.6666666666666666, \"#ed7953\"], [0.7777777777777778, \"#fb9f3a\"], [0.8888888888888888, \"#fdca26\"], [1.0, \"#f0f921\"]], \"type\": \"surface\"}], \"table\": [{\"cells\": {\"fill\": {\"color\": \"#EBF0F8\"}, \"line\": {\"color\": \"white\"}}, \"header\": {\"fill\": {\"color\": \"#C8D4E3\"}, \"line\": {\"color\": \"white\"}}, \"type\": \"table\"}]}, \"layout\": {\"annotationdefaults\": {\"arrowcolor\": \"#2a3f5f\", \"arrowhead\": 0, \"arrowwidth\": 1}, \"colorscale\": {\"diverging\": [[0, \"#8e0152\"], [0.1, \"#c51b7d\"], [0.2, \"#de77ae\"], [0.3, \"#f1b6da\"], [0.4, \"#fde0ef\"], [0.5, \"#f7f7f7\"], [0.6, \"#e6f5d0\"], [0.7, \"#b8e186\"], [0.8, \"#7fbc41\"], [0.9, \"#4d9221\"], [1, \"#276419\"]], \"sequential\": [[0.0, \"#0d0887\"], [0.1111111111111111, \"#46039f\"], [0.2222222222222222, \"#7201a8\"], [0.3333333333333333, \"#9c179e\"], [0.4444444444444444, \"#bd3786\"], [0.5555555555555556, \"#d8576b\"], [0.6666666666666666, \"#ed7953\"], [0.7777777777777778, \"#fb9f3a\"], [0.8888888888888888, \"#fdca26\"], [1.0, \"#f0f921\"]], \"sequentialminus\": [[0.0, \"#0d0887\"], [0.1111111111111111, \"#46039f\"], [0.2222222222222222, \"#7201a8\"], [0.3333333333333333, \"#9c179e\"], [0.4444444444444444, \"#bd3786\"], [0.5555555555555556, \"#d8576b\"], [0.6666666666666666, \"#ed7953\"], [0.7777777777777778, \"#fb9f3a\"], [0.8888888888888888, \"#fdca26\"], [1.0, \"#f0f921\"]]}, \"colorway\": [\"#636efa\", \"#EF553B\", \"#00cc96\", \"#ab63fa\", \"#FFA15A\", \"#19d3f3\", \"#FF6692\", \"#B6E880\", \"#FF97FF\", \"#FECB52\"], \"font\": {\"color\": \"#2a3f5f\"}, \"geo\": {\"bgcolor\": \"white\", \"lakecolor\": \"white\", \"landcolor\": \"#E5ECF6\", \"showlakes\": true, \"showland\": true, \"subunitcolor\": \"white\"}, \"hoverlabel\": {\"align\": \"left\"}, \"hovermode\": \"closest\", \"mapbox\": {\"style\": \"light\"}, \"paper_bgcolor\": \"white\", \"plot_bgcolor\": \"#E5ECF6\", \"polar\": {\"angularaxis\": {\"gridcolor\": \"white\", \"linecolor\": \"white\", \"ticks\": \"\"}, \"bgcolor\": \"#E5ECF6\", \"radialaxis\": {\"gridcolor\": \"white\", \"linecolor\": \"white\", \"ticks\": \"\"}}, \"scene\": {\"xaxis\": {\"backgroundcolor\": \"#E5ECF6\", \"gridcolor\": \"white\", \"gridwidth\": 2, \"linecolor\": \"white\", \"showbackground\": true, \"ticks\": \"\", \"zerolinecolor\": \"white\"}, \"yaxis\": {\"backgroundcolor\": \"#E5ECF6\", \"gridcolor\": \"white\", \"gridwidth\": 2, \"linecolor\": \"white\", \"showbackground\": true, \"ticks\": \"\", \"zerolinecolor\": \"white\"}, \"zaxis\": {\"backgroundcolor\": \"#E5ECF6\", \"gridcolor\": \"white\", \"gridwidth\": 2, \"linecolor\": \"white\", \"showbackground\": true, \"ticks\": \"\", \"zerolinecolor\": \"white\"}}, \"shapedefaults\": {\"line\": {\"color\": \"#2a3f5f\"}}, \"ternary\": {\"aaxis\": {\"gridcolor\": \"white\", \"linecolor\": \"white\", \"ticks\": \"\"}, \"baxis\": {\"gridcolor\": \"white\", \"linecolor\": \"white\", \"ticks\": \"\"}, \"bgcolor\": \"#E5ECF6\", \"caxis\": {\"gridcolor\": \"white\", \"linecolor\": \"white\", \"ticks\": \"\"}}, \"title\": {\"x\": 0.05}, \"xaxis\": {\"automargin\": true, \"gridcolor\": \"white\", \"linecolor\": \"white\", \"ticks\": \"\", \"zerolinecolor\": \"white\", \"zerolinewidth\": 2}, \"yaxis\": {\"automargin\": true, \"gridcolor\": \"white\", \"linecolor\": \"white\", \"ticks\": \"\", \"zerolinecolor\": \"white\", \"zerolinewidth\": 2}}}, \"xaxis\": {\"anchor\": \"y\", \"domain\": [0.0, 0.98], \"title\": {\"text\": \"qtde_comentarios\"}}, \"yaxis\": {\"anchor\": \"x\", \"domain\": [0.0, 1.0], \"title\": {\"text\": \"palavras_positivas\"}}},\n",
       "                        {\"responsive\": true}\n",
       "                    ).then(function(){\n",
       "                            \n",
       "var gd = document.getElementById('0261b2c6-d518-4b08-9641-b5a7b437987b');\n",
       "var x = new MutationObserver(function (mutations, observer) {{\n",
       "        var display = window.getComputedStyle(gd).display;\n",
       "        if (!display || display === 'none') {{\n",
       "            console.log([gd, 'removed!']);\n",
       "            Plotly.purge(gd);\n",
       "            observer.disconnect();\n",
       "        }}\n",
       "}});\n",
       "\n",
       "// Listen for the removal of the full notebook cells\n",
       "var notebookContainer = gd.closest('#notebook-container');\n",
       "if (notebookContainer) {{\n",
       "    x.observe(notebookContainer, {childList: true});\n",
       "}}\n",
       "\n",
       "// Listen for the clearing of the current output cell\n",
       "var outputEl = gd.closest('.output');\n",
       "if (outputEl) {{\n",
       "    x.observe(outputEl, {childList: true});\n",
       "}}\n",
       "\n",
       "                        })\n",
       "                };\n",
       "                });\n",
       "            </script>\n",
       "        </div>"
      ]
     },
     "metadata": {},
     "output_type": "display_data"
    }
   ],
   "source": [
    "px.scatter(contagem_positivo.reset_index(), x='qtde_comentarios', y='palavras_positivas', trendline='ols', hover_data=['titulo'])"
   ]
  },
  {
   "cell_type": "markdown",
   "metadata": {},
   "source": [
    "## Quais os principais temas/palavras-chave por assunto?\n",
    "\n",
    "Para extrair as palavras-chave, nós vamos usar o algoritmo TF-IDF. O TF-IDF é puramente \"estatístico\" - ele apenas se preocupa com qtde. de palavras em cada documento e a frequência das palavras na coleção. A ideia por trás do TF-IDF é que as palavras importantes para um documento vão aparecer várias vezes nesse documento e poucas vezes nos outros. \n",
    "\n",
    "Nesse caso, nós vamos rodar o TF-IDF apenas curiosidade, mas ele poderia nos ajudar em outros casos: \n",
    "\n",
    "* Filtrar stopwords que não estão presentes na lista padrão das bibliotecas (lembre-se, o IDF pode chegar a 0 se a palavra aparecer em todos os documentos da base).\n",
    "* Usar como um dos atributos de um modelo de predição para classificar comentários por assunto.\n",
    "* Ajudar na interpretação do resultado modelagem de tópico (como LDA)\n",
    "\n",
    "A lista abaixo mostra as 10 palavras com maior score no TF-IDF por tag."
   ]
  },
  {
   "cell_type": "code",
   "execution_count": 31,
   "metadata": {},
   "outputs": [
    {
     "name": "stdout",
     "output_type": "stream",
     "text": [
      "Tag: front-end\n",
      "angular react jquery vue spa ember vuejs angularjs híbrido delphi\n",
      "\n",
      "Tag: programação\n",
      "spring mulheres xamarin react mainframe java angular livros studio flutter\n",
      "\n",
      "Tag: agilidade\n",
      "scrum kanban testes roberta agile unidade automação json ceci dapper\n",
      "\n",
      "Tag: business\n",
      "mulheres scrum totvs homens kanban bb atendimento mulher mvc ti\n",
      "\n",
      "Tag: startup\n",
      "academia bitcoin smartfit startup bb atendimento fundos netflix warren clt\n",
      "\n",
      "Tag: mobile\n",
      "kotlin xamarin flutter híbrido studio android native ionic nativo react\n",
      "\n",
      "Tag: infraestrutura\n",
      "monitoramento bb roberta containers checkout paypal dapper pdf braintree emerson\n",
      "\n",
      "Tag: infra\n",
      "roberta checkout paypal containers dapper braintree emerson relacionais aws laptop\n",
      "\n",
      "Tag: design\n",
      "disqus lind sketch axure balsamic dashboard heurísticas pantufa protótipo aba\n",
      "\n",
      "Tag: design & ux\n",
      "designer disqus sketch protótipo lind figma prototipar ux dashboard axure\n",
      "\n",
      "Tag: ux\n",
      "lind dashboard b aba atalho decisões testes teste funciona link\n",
      "\n",
      "Tag: carreira\n",
      "mulheres computação homens mulher tcc remoto vagas icmc línguas italki\n",
      "\n",
      "Tag: devops\n",
      "aws containers azure cloud pull docker tomcat marin amazon roberto\n",
      "\n",
      "Tag: games\n",
      "estúdio rpg jogos indies jogo indie studios vr unity game\n",
      "\n",
      "Tag: gerais\n",
      "café news fake apostilas cafés esquerdista fakenews guj grão imprensa\n",
      "\n",
      "Tag: edição de vídeo\n",
      "kdenlive adobe desenvolvimento\n",
      "\n",
      "Tag: web\n",
      "angular react disqus jquery spa css rails sass escalabilidade seo\n",
      "\n",
      "Tag: marketing\n",
      "atendimento debito nubank posts sociais agressividade canais estratégia fizeram começaram\n",
      "\n",
      "Tag: hardware\n",
      "flash arduino joule vr pocket eh virtual cardboard hololens iot\n",
      "\n"
     ]
    }
   ],
   "source": [
    "from gensim.corpora import Dictionary\n",
    "from gensim.models import TfidfModel\n",
    "\n",
    "# O resultado ficou um pouco mais relevante excluindo os episódios com mais comentários.\n",
    "top_episodios = df.groupby('titulo').count().reset_index().sort_values('comentario', ascending=False).head()['titulo']\n",
    "\n",
    "docs_per_tag = {}\n",
    "for index, row in df[~df['titulo'].isin(top_episodios)].iterrows():\n",
    "    for tag in row['tags']:\n",
    "        if tag != 'Podcast':\n",
    "            if tag in docs_per_tag:\n",
    "                docs_per_tag[tag] += ' ' + ' '.join(row['tokens'])\n",
    "            else:\n",
    "                docs_per_tag[tag] = ' '.join(row['tokens'])\n",
    "\n",
    "words = [text.split(' ') for text in docs_per_tag.values()]\n",
    "dct = Dictionary(words)\n",
    "corpus = [dct.doc2bow(line) for line in words]\n",
    "model = TfidfModel(corpus)\n",
    "\n",
    "for tag, text in docs_per_tag.items():\n",
    "    item = [t for t in dct.doc2bow(text.split(' ')) if t[1] > 2]\n",
    "    scores = sorted(model[item], key=lambda x: -x[1])\n",
    "    #print(item)\n",
    "    palavras = [dct[score[0]] for score in scores[:10]]\n",
    "    print('Tag: {}'.format(tag))\n",
    "    print(' '.join(palavras))\n",
    "    print('')"
   ]
  },
  {
   "cell_type": "markdown",
   "metadata": {},
   "source": [
    "# Encerrando...\n",
    "\n",
    "Acho que vou parar por aqui, mas ainda teria muita coisa legal para extrair dessa base.\n",
    "Se você tiver interesse, o repositório com o código do crawler e comentários está [no github](https://github.com/luizpvas/hipsters_comentarios).\n",
    "\n",
    "Me manda on oi lá no [twitter](https://twitter.com/luizpvasc) também se quiser conversar sobre data science :-)"
   ]
  }
 ],
 "metadata": {
  "kernelspec": {
   "display_name": "Python 3",
   "language": "python",
   "name": "python3"
  },
  "language_info": {
   "codemirror_mode": {
    "name": "ipython",
    "version": 3
   },
   "file_extension": ".py",
   "mimetype": "text/x-python",
   "name": "python",
   "nbconvert_exporter": "python",
   "pygments_lexer": "ipython3",
   "version": "3.6.8"
  }
 },
 "nbformat": 4,
 "nbformat_minor": 2
}
